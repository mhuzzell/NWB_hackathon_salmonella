{
 "cells": [
  {
   "cell_type": "markdown",
   "id": "159d98b4",
   "metadata": {},
   "source": [
    "# 2. Loops and Logic\n",
    "\n",
    "Now we understand the basics of different datatypes and data structures, we can start to think about how we might interact with sequential data. This notebook will look at two key areas in Python programming: using `for` loops, and using `if`, `elif` and `else` conditional statements. The notebook is structured as follows:\n",
    "\n",
    "2.1 - *`for` loops*\n",
    "\n",
    "2.2 - *List comprehensions*\n",
    "\n",
    "2.3 - *`if`, `elif` and `else`*\n",
    "\n",
    "2.4 - *`and` and `or`*\n",
    "\n",
    "## 2.1 `for` loops\n",
    "\n",
    "When we have collections of data, such as lists or tuples, it is often helpful to iterate over that data to sequentially interact with each element. We use the `for` loop to do this. \n",
    "\n",
    "Consider the peptide chain for Oxytocin:\n",
    "\n",
    "```python\n",
    "\n",
    "oxytocin = ['C', 'Y', 'I', 'Q', 'N', 'C', 'P', 'L', 'G']\n",
    "```\n",
    "\n",
    "A simple `for` loop might print out every element in the list:\n",
    "\n",
    "```python\n",
    "\n",
    "for amino_acid in oxytocin: # iteratively assign each element in `oxycotin` to `amino_acid`\n",
    "    print(amino_acid) # print the current value of `amino acid`\n",
    "```\n",
    "\n",
    "Python will iterate over the list `oxytocin`, sequentially updating the value of `amino_acid` to the current element in `oxytocin`. Hence, in the first iteration `amino_acid=\"C\"`, then `amino_acid=\"Y\"` etc. Every indented line after `for amino_acid in oxytocin:` will be run at each step in in the loop.\n",
    "\n",
    "*Note:* We can indent the line(s) after our `for` statement with either `Tab` or 4x `Space`. It is good practice to be consistent about which of these you use. Some python interpreters can get confused if you use both methods in the same script!\n",
    "\n",
    "Copy the code above into Code Block 1 to see the output."
   ]
  },
  {
   "cell_type": "code",
   "execution_count": 5,
   "id": "e6d8a856",
   "metadata": {},
   "outputs": [
    {
     "name": "stdout",
     "output_type": "stream",
     "text": [
      "C\n",
      "Y\n",
      "I\n",
      "Q\n",
      "N\n",
      "C\n",
      "P\n",
      "L\n",
      "G\n",
      "C\n",
      "CY\n",
      "CYI\n",
      "CYIQ\n",
      "CYIQN\n",
      "CYIQNC\n",
      "CYIQNCP\n",
      "CYIQNCPL\n",
      "CYIQNCPLG\n"
     ]
    }
   ],
   "source": [
    "oxytocin = ['C', 'Y', 'I', 'Q', 'N', 'C', 'P', 'L', 'G']\n",
    "for amino_acid in oxytocin: \n",
    "    print(amino_acid)\n",
    "oxytocin_string= ''\n",
    "for amino_acid in oxytocin:  # Added the missing colon here\n",
    "    oxytocin_string += amino_acid\n",
    "    print(oxytocin_string)"
   ]
  },
  {
   "cell_type": "markdown",
   "id": "af317c54",
   "metadata": {},
   "source": [
    "We can also use a `for` loop to update a variable outside of the loop. In the following example, we will use the `oxytocin` list to build a string representation of the peptide:\n",
    "\n",
    "```python\n",
    "oxytocin_str = '' # this initialises variable to an empty string\n",
    "\n",
    "for amino_acid in oxytocin:\n",
    "    oxytocin_str += amino_acid # add `amino_acid` to `oxytocin_str` on each iteration\n",
    "\n",
    "print(oxytocin_str)\n",
    "```\n",
    "Copy this into the code block below:"
   ]
  },
  {
   "cell_type": "code",
   "execution_count": 8,
   "id": "63c82bcc",
   "metadata": {},
   "outputs": [
    {
     "name": "stdout",
     "output_type": "stream",
     "text": [
      "CYIQNCPLG\n"
     ]
    }
   ],
   "source": [
    "# code block 2\n"
   ]
  },
  {
   "cell_type": "markdown",
   "id": "366fef27",
   "metadata": {},
   "source": [
    "Sometimes, it is helpful to keep track of the current iteration number while completing a `for` loop. To do this, we use the `enumerate` function:\n",
    "\n",
    "```python\n",
    "\n",
    "for index, amino_acid in enumerate(oxytocin):\n",
    "    print(f'Amino acid {index} in oxytocin is {amino_acid}')\n",
    "```\n",
    "\n",
    "Take a look at the output of the `enumerate()` function byt running `print(enumerate(oxytocin))` in the code block below:"
   ]
  },
  {
   "cell_type": "code",
   "execution_count": 14,
   "id": "4f8df940-dd46-4b68-af78-aac49da91498",
   "metadata": {},
   "outputs": [
    {
     "name": "stdout",
     "output_type": "stream",
     "text": [
      "Amino acid 0 in oxytocin is C\n",
      "Amino acid 1 in oxytocin is Y\n",
      "Amino acid 2 in oxytocin is I\n",
      "Amino acid 3 in oxytocin is Q\n",
      "Amino acid 4 in oxytocin is N\n",
      "Amino acid 5 in oxytocin is C\n",
      "Amino acid 6 in oxytocin is P\n",
      "Amino acid 7 in oxytocin is L\n",
      "Amino acid 8 in oxytocin is G\n"
     ]
    }
   ],
   "source": [
    "for index, amino_acid in enumerate(oxytocin):\n",
    "    print(f'Amino acid {index} in oxytocin is {amino_acid}')"
   ]
  },
  {
   "cell_type": "markdown",
   "id": "ae38171c",
   "metadata": {},
   "source": [
    "We can do multiple operations during a single `for` loop. Everything below the `:` that is indented by a single tab will be run on each iteration.\n",
    "\n",
    "In the following example, we take our `oxytocin` list, convert the symbols to three letter abbreviations, and store the result in a list.\n",
    "\n",
    "```python\n",
    "# Set up a dictionary of amino acid abbreviations\n",
    "aa_abbr = {'C':'Cys', 'Y':'Tyr', 'I':'Ile', 'Q':'Gln', 'N':'Asn', 'P':'Pro', 'L':'Leu', 'G':'Gly'}\n",
    "oxytocin_3str = ''\n",
    "\n",
    "for amino_acid in oxytocin:\n",
    "    aa3 = aa_abbr[amino_acid] # looks up the amino acid in our abbr dictionary\n",
    "    oxytocin_3str += aa3 # appends the list with the abbreviation\n",
    "    oxytocin_3str += '-' # adds a '-' to separate each string\n",
    "\n",
    "print(oxytocin_3str) # note this is outside of the block\n",
    "``` \n",
    "\n",
    "💡 Use Code Block 4 to try out the code above. How might we get rid of the trailing '-' at the end of the string? What if we wanted to add $NH_2$ at the end?\n",
    "\n",
    "💡 Use a `for` loop and the `aa_mass` dictionary in Code Block 5 to calculate the molar mass of Oxytocin. "
   ]
  },
  {
   "cell_type": "code",
   "execution_count": 7,
   "id": "51907d20",
   "metadata": {},
   "outputs": [
    {
     "name": "stdout",
     "output_type": "stream",
     "text": [
      "Cys-\n",
      "Cys-Tyr-\n",
      "Cys-Tyr-Ile-\n",
      "Cys-Tyr-Ile-Gln-\n",
      "Cys-Tyr-Ile-Gln-Asn-\n",
      "Cys-Tyr-Ile-Gln-Asn-Cys-\n",
      "Cys-Tyr-Ile-Gln-Asn-Cys-Pro-\n",
      "Cys-Tyr-Ile-Gln-Asn-Cys-Pro-Leu-\n",
      "Cys-Tyr-Ile-Gln-Asn-Cys-Pro-Leu-Gly-\n"
     ]
    }
   ],
   "source": [
    "# Code Block 5\n",
    "aa_mass = {'C':103.01, 'Y':163.06, 'I':113.08, 'Q':128.06, 'N':114.04, 'P':97.05, 'L':113.08, 'G':57.02}\n",
    "aa_abbr = {'C':'Cys', 'Y':'Tyr', 'I':'Ile', 'Q':'Gln', 'N':'Asn', 'P':'Pro', 'L':'Leu', 'G':'Gly'}\n",
    "oxytocin_3str = ''\n",
    "for amino_acid in oxytocin:\n",
    "    aa3 = aa_abbr[amino_acid]\n",
    "    oxytocin_3str += aa3\n",
    "    oxytocin_3str += '-'\n",
    "\n",
    "    print(oxytocin_3str)"
   ]
  },
  {
   "cell_type": "markdown",
   "id": "8bd6d628",
   "metadata": {
    "jp-MarkdownHeadingCollapsed": true
   },
   "source": [
    "## 2.2 List Comprehensions\n",
    "\n",
    "Often, we want to construct a new list based on the values of an exsiting list. One way to approach this is to initialise a blank list, then iteratively add new elements to it as we loop over our exsisting list. \n",
    "\n",
    "In the example below, we will use the `oxytocin` list and the `aa_abbr` dictionary to produce a new list with the three-letter abbreviations for each amino acid in oxytocin.\n",
    "\n",
    "```python\n",
    "\n",
    "oxytocin_3 = []\n",
    "\n",
    "for amino_acid in oxytocin:\n",
    "    aa3 = aa_abbr[amino_acid]\n",
    "    oxytocin_3.append(aa3)\n",
    "\n",
    "print(oxytocin_3)\n",
    "```\n",
    "\n",
    "This is all well and good, but uses a lot of lines of code to do quite a simple task. We can make this much simpler by using *list comprehension*:\n",
    "\n",
    "```python\n",
    "\n",
    "oxytocin_3 = [aa_abbr[amino_acid] for amino_acid in oxytocin]\n",
    "print(oxytocin_3)\n",
    "```\n",
    "\n",
    "This allows us to compress the full `for` loop into a single line of code.\n",
    "\n",
    "💡 Try and use a list comprehension to construct a `oxytocin_mass` list in Code Block 6\n",
    "💡 Use the sum([<list>]) function around your list comprehension to calculate the total mass of Oxytocin. \n"
   ]
  },
  {
   "cell_type": "code",
   "execution_count": 51,
   "id": "7af97915",
   "metadata": {},
   "outputs": [
    {
     "name": "stdout",
     "output_type": "stream",
     "text": [
      "['Cys', 'Tyr', 'Ile', 'Gln', 'Asn', 'Cys', 'Pro', 'Leu', 'Gly']\n"
     ]
    }
   ],
   "source": [
    "# Code Block 6\n",
    "oxytocin_3 = [aa_abbr[amino_acid] for amino_acid in oxytocin]\n",
    "print(oxytocin_3)"
   ]
  },
  {
   "cell_type": "markdown",
   "id": "75c5337f",
   "metadata": {},
   "source": [
    "## 2.3 Conditionals\n",
    "Conditionals allow us to run blocks of code based on whether a given statement evaluates as `True` or `False`. They require an `if` operator as a minimum, but may also contain `elif` or `else` statement to chain together multiple conditionals.\n",
    "\n",
    "\n",
    "### 2.3.1 `if` statements\n",
    "\n",
    "These statements share a similar structure to `for` loop - a statement ending with a `:` (e.g. `if x == y:`), followed by a sequence of indented lines which are run if the `if` statement evaluates as `True`.\n",
    "\n",
    "In the following example, an `if` statement and the `in` operator is used to check if `Cysteine` is a member of the `oxytocin` list. In this example, the statement `x in y` evaluates as `True` if the variable `x` is found in the list `y`:\n",
    "\n",
    "```python\n",
    "\n",
    "cysteine = 'C'\n",
    "\n",
    "if Cysteine in oxcotin:\n",
    "    print(\"Cysteine is in Oxytocin\")\n",
    "```\n",
    "\n",
    "💡 Try and rewrite the code above in such a way that prevents the `print()` statement from triggering. *Hint: you can either use the `not` operator, or alter either of the variables*. "
   ]
  },
  {
   "cell_type": "code",
   "execution_count": 18,
   "id": "4077aa8e",
   "metadata": {},
   "outputs": [
    {
     "name": "stdout",
     "output_type": "stream",
     "text": [
      "Red is a primary colour\n",
      "Blue is a primary colour\n",
      "false\n"
     ]
    }
   ],
   "source": [
    "# Code Block 7\n",
    "Primary_Colour = ['red', 'blue', 'yellow'] \n",
    "Secondary_Colour = ['orange', 'pink', 'purple', 'brown']\n",
    "if 'red' in Primary_Colour:\n",
    "    print(f'Red is a primary colour')\n",
    "if 'blue' in Primary_Colour: \n",
    "    print(f'Blue is a primary colour')\n",
    "if 'pink' in Primary_Colour:  # Added missing colon here\n",
    "    print(f'pink is a primary colour')\n",
    "else:  # Fixed else statement (proper indentation and on its own line)\n",
    "    print(f'false')"
   ]
  },
  {
   "cell_type": "markdown",
   "id": "2fbef7d5",
   "metadata": {},
   "source": [
    "### 2.3.2 `if` and `else` statements\n",
    "We can chain together conditoinals using the `if` and `else` operators. The `else` operator tells Python what to run if the `if` statement resolves as `False`. It must sit directly after the `if` statements indented block.\n",
    "\n",
    "The `else` operator doesn't need any statetment to evaluate, it is called simply if its corresponding `if` statement evaluated as `False`. \n",
    "\n",
    "```python\n",
    "\n",
    "cysteine = 'C'\n",
    "\n",
    "if cysteine in oxcotin:\n",
    "    print(\"Cysteine is in Oxytocin\")\n",
    "\n",
    "else:\n",
    "    print(\"Cysteine is not in Oxytocin\")\n",
    "```\n",
    "💡 You can (but probably shouldn't) write a statement equivalent to `else` using the `not` and `if` statements. Try doing this below. "
   ]
  },
  {
   "cell_type": "code",
   "execution_count": 25,
   "id": "80db8991",
   "metadata": {},
   "outputs": [
    {
     "name": "stdout",
     "output_type": "stream",
     "text": [
      "TRUE\n"
     ]
    }
   ],
   "source": [
    "# Code Block 8\n",
    "Primary_Colour = ['red', 'blue', 'yellow'] \n",
    "Secondary_Colour = ['orange', 'pink', 'purple', 'brown']\n",
    "    \n",
    "if 'pink' in Primary_Colour:\n",
    "    print(f'FALSE')\n",
    "elif 'pink' in Secondary_Colour:  # Fixed the quotes around 'pink' and added quotes\n",
    "    print(f'TRUE')\n",
    "else: \n",
    "    print(f'Neither Correct')"
   ]
  },
  {
   "cell_type": "markdown",
   "id": "47b3a81a",
   "metadata": {},
   "source": [
    "### 2.3.3 `if`, `elif` and `else` statements\n",
    "In some cases, we might want to evaluate multiple conditionals in the same bit of code. For this we use the `elif` operator. These follow an initial `if` block, and are accompanied by a conditional statement. If the inital `if` statement evaluates as `False`, and the `elif` statement evaluates as `True`, then the code block under the `elif` statement is run. If both evaluate as `False` then neither are run. \n",
    "\n",
    "These statements always follow an `if` statement. If an `else` statement is needed, it will always follow any `elif` statements. \n",
    "\n",
    "```python\n",
    "oxytocin = ['C', 'Y', 'I', 'Q', 'N', 'C', 'P', 'L', 'G']\n",
    "bradykinin = ['R', 'P', 'P', 'G', 'F', 'S', 'P', 'F', 'R']\n",
    "\n",
    "if cysteine in bradykinin: # evaluates as False\n",
    "    print(\"Cysteine is in Bradykinin.\")\n",
    "\n",
    "elif cysteine in oxytocin: # Evaluates as True\n",
    "    print(\"Cysteine is in Oxytocin.\")\n",
    "\n",
    "else: # Not run as a statement above was True\n",
    "    print(\"Cysteine is not in either Bradykinin or Oxytocin.\")\n",
    "```\n",
    "\n",
    "💡 **Task:** Conditionals can be used inside `for` loops. Use this to build lists of the following:\n",
    "\n",
    "* All the amino acids in Oxytocin with molar mass `m < 100`, \n",
    "* All with molar mass `100 < m <= 120`,\n",
    "* All with molar mass `m >= 120`.\n",
    "\n",
    "To acheive this, you'll need:\n",
    "\n",
    "* The `aa_mass` dictionary, \n",
    "* a `for` loop,\n",
    "* `if`, `elif` and `else` statements,\n",
    "* the `<`, `>`, `<=` and `>=` operators.\n",
    "\n",
    "Use the outline in Code Block 9 to help.\n",
    "\n",
    "Tips:\n",
    "* The statement `x < y` evaluates as `True` if `x` and `y` are numbers, and `x` is strictly smaller than `y`.\n",
    "* The `<=` and `>=` operators correspond to *less/greater than or equal to*  respectively. \n",
    "* It is possible to solve this problem using only the `<` OR `>`."
   ]
  },
  {
   "cell_type": "code",
   "execution_count": 66,
   "id": "5bef4e66",
   "metadata": {},
   "outputs": [
    {
     "name": "stdout",
     "output_type": "stream",
     "text": [
      "Cysteine is in Oxytocin.\n",
      "[103.01, 163.06, 113.08, 128.06, 114.04, 103.01, 97.05, 113.08, 57.02]\n"
     ]
    },
    {
     "data": {
      "text/plain": [
       "991.41"
      ]
     },
     "execution_count": 66,
     "metadata": {},
     "output_type": "execute_result"
    }
   ],
   "source": [
    "# Code Block 9\n",
    "oxytocin = ['C', 'Y', 'I', 'Q', 'N', 'C', 'P', 'L', 'G']\n",
    "bradykinin = ['R', 'P', 'P', 'G', 'F', 'S', 'P', 'F', 'R']\n",
    "\n",
    "if cysteine in bradykinin: # evaluates as False\n",
    "    print(\"Cysteine is in Bradykinin.\")\n",
    "\n",
    "elif cysteine in oxytocin: # Evaluates as True\n",
    "    print(\"Cysteine is in Oxytocin.\")\n",
    "\n",
    "else: # Not run as a statement above was True\n",
    "    print(\"Cysteine is not in either Bradykinin or Oxytocin.\")\n",
    "\n",
    "oxytocin_mass = [aa_mass[amino_acid] for amino_acid in oxytocin]\n",
    "print(oxytocin_mass)\n",
    "\n",
    "sum(oxytocin_mass)"
   ]
  },
  {
   "cell_type": "markdown",
   "id": "c16eacd6",
   "metadata": {},
   "source": [
    "### 2.3.4 Conditionals and Comprehensions\n",
    "We can use conditionals in list comprehensions to filter lists by certain values. \n",
    "\n",
    "In the following code, we compare the amino acids in `oxytocin` with a list `aa_hphobic` to return just the amino acids in Oxtocin which have hydrophobic side chains:\n",
    "\n",
    "```python\n",
    "oxytocin = ['C', 'Y', 'I', 'Q', 'N', 'C', 'P', 'L', 'G']\n",
    "aa_hphobic = ['G', 'A', 'V', 'L', 'I', 'P', 'F', 'M', 'W'] # amino acids with hydrophobic side chains\n",
    "oxytocin_hphobic = [aa for aa in oxytocin if aa in aa_hphobic]\n",
    "print(oxytocin_hphobic)\n",
    "```\n",
    "\n",
    "💡 **Task:** Use list comprehensions with conditionals to rewrite your code from Code Block 9 into just three lines of code.\n"
   ]
  },
  {
   "cell_type": "code",
   "execution_count": 67,
   "id": "43ea1502",
   "metadata": {},
   "outputs": [
    {
     "name": "stdout",
     "output_type": "stream",
     "text": [
      "['I', 'P', 'L', 'G']\n"
     ]
    }
   ],
   "source": [
    "# Code Block 10\n",
    "oxytocin = ['C', 'Y', 'I', 'Q', 'N', 'C', 'P', 'L', 'G']\n",
    "aa_hphobic = ['G', 'A', 'V', 'L', 'I', 'P', 'F', 'M', 'W'] # amino acids with hydrophobic side chains\n",
    "oxytocin_hphobic = [aa for aa in oxytocin if aa in aa_hphobic]\n",
    "print(oxytocin_hphobic)"
   ]
  },
  {
   "cell_type": "markdown",
   "id": "1f72e9ed",
   "metadata": {},
   "source": [
    "## 2.4 `and` and `or`\n",
    "\n",
    "n some cases, we might want to only trigger an `if` statement when two conditional statements are satisfied. To do this, we use `and` and `or`. These operators work by comparing two statements which can evaluate as true or false.\n",
    "\n",
    "Consider three statements:\n",
    "\n",
    "```python\n",
    "oxytocin = ['C', 'Y', 'I', 'Q', 'N', 'C', 'P', 'L', 'G']\n",
    "bradykinin = ['R', 'P', 'P', 'G', 'F', 'S', 'P', 'F', 'R']\n",
    "\n",
    "cysteine = 'C'\n",
    "proline = 'P'\n",
    "\n",
    "print(cysteine in oxytocin) # -> True\n",
    "print(cysteine in bradykinin) # -> False\n",
    "print(proline in oxytocin) # -> True\n",
    "print(proline in bradykinin) # -> True\n",
    "\n",
    "print((cysteine in oxytocin) and (cysteine in bradykinin)) # -> True and False -> False\n",
    "\n",
    "print((cysteine in oxytocin) or (cysteine in bradykinin)) # -> True or False -> True\n",
    "\n",
    "print((proline in oxytocin) and (proline in bradykinin)) # -> True and True -> True\n",
    "```\n",
    "Note that each statement being compared by `and` or `or` are in separate brackets!\n",
    "\n",
    "💡 **Task:** Use `and` and `or` in a `for` loop to count how many amino acids in `oxytocin`:\n",
    "* Have both hydrophic side chains AND molar mass greater than 100 g/mol,\n",
    "* Have either hydrophobic side chains OR molar mass greater than 100 g/mol.\n",
    "\n",
    "**Warning: Be careful with the order you put `and` and `or` conditionals. Remember, if `x` and `y` are both `True`, `x or y` will still trigger. Try with the statements in either order and compare the results.**"
   ]
  },
  {
   "cell_type": "code",
   "execution_count": 68,
   "id": "2094ff22",
   "metadata": {},
   "outputs": [
    {
     "name": "stdout",
     "output_type": "stream",
     "text": [
      "True\n",
      "False\n",
      "True\n",
      "True\n",
      "False\n",
      "True\n",
      "True\n"
     ]
    }
   ],
   "source": [
    "# Code Block 11\n",
    "oxytocin = ['C', 'Y', 'I', 'Q', 'N', 'C', 'P', 'L', 'G']\n",
    "bradykinin = ['R', 'P', 'P', 'G', 'F', 'S', 'P', 'F', 'R']\n",
    "\n",
    "cysteine = 'C'\n",
    "proline = 'P'\n",
    "\n",
    "print(cysteine in oxytocin) # -> True\n",
    "print(cysteine in bradykinin) # -> False\n",
    "print(proline in oxytocin) # -> True\n",
    "print(proline in bradykinin) # -> True\n",
    "\n",
    "print((cysteine in oxytocin) and (cysteine in bradykinin)) # -> True and False -> False\n",
    "\n",
    "print((cysteine in oxytocin) or (cysteine in bradykinin)) # -> True or False -> True\n",
    "\n",
    "print((proline in oxytocin) and (proline in bradykinin)) # -> True and True -> True\n",
    "\n",
    "if mass <100: #use "
   ]
  },
  {
   "cell_type": "markdown",
   "id": "cce29d1e",
   "metadata": {},
   "source": []
  }
 ],
 "metadata": {
  "kernelspec": {
   "display_name": "Python [conda env:base] *",
   "language": "python",
   "name": "conda-base-py"
  },
  "language_info": {
   "codemirror_mode": {
    "name": "ipython",
    "version": 3
   },
   "file_extension": ".py",
   "mimetype": "text/x-python",
   "name": "python",
   "nbconvert_exporter": "python",
   "pygments_lexer": "ipython3",
   "version": "3.13.5"
  }
 },
 "nbformat": 4,
 "nbformat_minor": 5
}
