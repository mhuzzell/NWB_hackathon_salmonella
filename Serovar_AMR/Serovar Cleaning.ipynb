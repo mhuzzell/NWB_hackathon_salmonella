{
 "cells": [
  {
   "cell_type": "markdown",
   "id": "5a1870ca",
   "metadata": {},
   "source": [
    "**DATA CLEANING**"
   ]
  },
  {
   "cell_type": "markdown",
   "id": "e9098336",
   "metadata": {},
   "source": [
    "Import Packages"
   ]
  },
  {
   "cell_type": "code",
   "execution_count": null,
   "id": "90f07907",
   "metadata": {},
   "outputs": [],
   "source": [
    "import pandas as pd\n",
    "import numpy as np\n",
    "import matplotlib.pyplot as plt\n",
    "import seaborn as sns\n",
    "from collections import Counter"
   ]
  },
  {
   "cell_type": "markdown",
   "id": "2a4c50ea",
   "metadata": {},
   "source": [
    "Load Dataset"
   ]
  },
  {
   "cell_type": "code",
   "execution_count": null,
   "id": "8a391751",
   "metadata": {},
   "outputs": [],
   "source": [
    "salmonella_df = pd.read_csv(\"Pathogen detection Salmonella enterica.csv\")"
   ]
  },
  {
   "cell_type": "markdown",
   "id": "26c89232",
   "metadata": {},
   "source": [
    "Basic Info about Dataset"
   ]
  },
  {
   "cell_type": "code",
   "execution_count": null,
   "id": "9a11f2a1",
   "metadata": {},
   "outputs": [],
   "source": [
    "print(\"\\nDataset Info:\")\n",
    "print(f\"Shape: {salmonella_df.shape}\")\n",
    "print(\"\\nColumn names:\")\n",
    "print(salmonella_df.columns.tolist())"
   ]
  },
  {
   "cell_type": "markdown",
   "id": "87a3044d",
   "metadata": {},
   "source": [
    "Missing values Check (serovar)"
   ]
  },
  {
   "cell_type": "code",
   "execution_count": null,
   "id": "693721e1",
   "metadata": {},
   "outputs": [],
   "source": [
    "print(f\"\\nSerovar column analysis:\")\n",
    "print(f\"Total rows: {len(salmonella_df)}\")\n",
    "print(f\"Missing/null Serovar values: {salmonella_df['Serovar'].isnull().sum()}\")\n",
    "print(f\"Empty string Serovar values: {(salmonella_df['Serovar'] == '').sum()}\")\n",
    "\n",
    "whitespace_count = salmonella_df['Serovar'].str.strip().eq('').sum()\n",
    "print(f\"Whitespace-only Serovar values: {whitespace_count}\")"
   ]
  },
  {
   "cell_type": "markdown",
   "id": "54d66602",
   "metadata": {},
   "source": [
    "Remove Whitespace rows where Serovar is undetermined"
   ]
  },
  {
   "cell_type": "code",
   "execution_count": null,
   "id": "d13f8133",
   "metadata": {},
   "outputs": [
    {
     "ename": "NameError",
     "evalue": "name 'salmonella_df' is not defined",
     "output_type": "error",
     "traceback": [
      "\u001b[1;31m---------------------------------------------------------------------------\u001b[0m",
      "\u001b[1;31mNameError\u001b[0m                                 Traceback (most recent call last)",
      "\u001b[1;32m~\\AppData\\Local\\Temp\\ipykernel_31832\\4110214610.py\u001b[0m in \u001b[0;36m<module>\u001b[1;34m\u001b[0m\n\u001b[1;32m----> 1\u001b[1;33m \u001b[0minitial_count\u001b[0m \u001b[1;33m=\u001b[0m \u001b[0mlen\u001b[0m\u001b[1;33m(\u001b[0m\u001b[0msalmonella_df\u001b[0m\u001b[1;33m)\u001b[0m\u001b[1;33m\u001b[0m\u001b[1;33m\u001b[0m\u001b[0m\n\u001b[0m",
      "\u001b[1;31mNameError\u001b[0m: name 'salmonella_df' is not defined"
     ]
    }
   ],
   "source": [
    "initial_count = len(salmonella_df)\n",
    "\n",
    "mask_to_keep = (\n",
    "    salmonella_df['Serovar'].notna() &  # Not null\n",
    "    (salmonella_df['Serovar'] != '') &  # Not empty string\n",
    "    (salmonella_df['Serovar'].str.strip() != '')  # Not whitespace-only\n",
    ")\n",
    "\n",
    "salmonella_clean = salmonella_df[mask_to_keep].copy()\n",
    "\n",
    "salmonella_clean.reset_index(drop=True, inplace=True)\n",
    "\n",
    "final_count = len(salmonella_clean)\n",
    "removed_count = initial_count - final_count\n",
    "\n",
    "print(f\"Rows removed: {removed_count}\")\n",
    "print(f\"Remaining rows: {final_count}\")\n",
    "print(f\"Percentage of data retained: {(final_count/initial_count)*100:.2f}%\")"
   ]
  },
  {
   "cell_type": "markdown",
   "id": "c2877e51",
   "metadata": {},
   "source": [
    "Display the most common Serovars and AMR Genotypes"
   ]
  },
  {
   "cell_type": "code",
   "execution_count": null,
   "id": "4d345ba9",
   "metadata": {},
   "outputs": [],
   "source": [
    "print(f\"\\nTop 10 most common Serovars after cleaning:\")\n",
    "serovar_counts = salmonella_clean['Serovar'].value_counts().head(10)\n",
    "print(serovar_counts)\n",
    "\n",
    "print(f\"\\nAMR Genotypes Analysis:\")\n",
    "print(f\"Rows with AMR genotypes data: {salmonella_clean['AMR genotypes'].notna().sum()}\")\n",
    "print(f\"Rows without AMR genotypes data: {salmonella_clean['AMR genotypes'].isna().sum()}\")"
   ]
  },
  {
   "cell_type": "markdown",
   "id": "bcb5d86e",
   "metadata": {},
   "source": [
    "Parsing AMR Genotypes"
   ]
  },
  {
   "cell_type": "code",
   "execution_count": null,
   "id": "603e46f4",
   "metadata": {},
   "outputs": [],
   "source": [
    "def parse_amr_genotypes(amr_string):\n",
    "    \"\"\"\n",
    "    Parse AMR genotypes string to extract genes and their status\n",
    "    Returns a dictionary of gene: status pairs\n",
    "    \"\"\"\n",
    "    if pd.isna(amr_string) or amr_string == '':\n",
    "        return {}\n",
    "    \n",
    "    genes = {}\n",
    "    # Split by comma and process each gene\n",
    "    for gene_info in amr_string.split(','):\n",
    "        if '=' in gene_info:\n",
    "            gene, status = gene_info.strip().split('=', 1)\n",
    "            genes[gene.strip()] = status.strip()\n",
    "    \n",
    "    return genes\n",
    "\n",
    "# Apply AMR parsing to create a new column with parsed data\n",
    "print(\"Parsing AMR genotypes...\")\n",
    "salmonella_clean['AMR_parsed'] = salmonella_clean['AMR genotypes'].apply(parse_amr_genotypes)"
   ]
  },
  {
   "cell_type": "markdown",
   "id": "3d1d96b3",
   "metadata": {},
   "source": [
    "Counts of unique AMR genes"
   ]
  },
  {
   "cell_type": "code",
   "execution_count": null,
   "id": "e9a05158",
   "metadata": {},
   "outputs": [],
   "source": [
    "all_genes = []\n",
    "for amr_dict in salmonella_clean['AMR_parsed']:\n",
    "    all_genes.extend(amr_dict.keys())\n",
    "\n",
    "unique_genes = list(set(all_genes))\n",
    "print(f\"Total unique AMR genes found: {len(unique_genes)}\")\n",
    "\n",
    "# Count occurrences of each gene\n",
    "gene_counts = Counter(all_genes)\n",
    "print(f\"\\nTop 10 most common AMR genes:\")\n",
    "for gene, count in gene_counts.most_common(10):\n",
    "    print(f\"{gene}: {count}\")"
   ]
  },
  {
   "cell_type": "markdown",
   "id": "e5233808",
   "metadata": {},
   "source": [
    "Summary of AMR resistance by Serovar"
   ]
  },
  {
   "cell_type": "code",
   "execution_count": null,
   "id": "f63c772f",
   "metadata": {},
   "outputs": [],
   "source": [
    "def count_amr_genes(amr_dict):\n",
    "    \"\"\"Count total number of AMR genes in a sample\"\"\"\n",
    "    return len(amr_dict)\n",
    "\n",
    "def count_complete_genes(amr_dict):\n",
    "    \"\"\"Count number of complete AMR genes in a sample\"\"\"\n",
    "    return sum(1 for status in amr_dict.values() if status == 'COMPLETE')"
   ]
  },
  {
   "cell_type": "markdown",
   "id": "90d7355c",
   "metadata": {},
   "source": [
    "Add summary columns to Salmonella_clean"
   ]
  },
  {
   "cell_type": "code",
   "execution_count": null,
   "id": "66b06602",
   "metadata": {},
   "outputs": [],
   "source": [
    "salmonella_clean['AMR_gene_count'] = salmonella_clean['AMR_parsed'].apply(count_amr_genes)\n",
    "salmonella_clean['AMR_complete_count'] = salmonella_clean['AMR_parsed'].apply(count_complete_genes)\n",
    "\n",
    "serovar_amr_summary = salmonella_clean.groupby('Serovar').agg({\n",
    "    'AMR_gene_count': ['count', 'mean', 'std'],\n",
    "    'AMR_complete_count': ['mean', 'std']\n",
    "}).round(2)"
   ]
  },
  {
   "cell_type": "markdown",
   "id": "0262ef45",
   "metadata": {},
   "source": [
    "Save Cleaned Serovar Data"
   ]
  },
  {
   "cell_type": "code",
   "execution_count": null,
   "id": "42c1476a",
   "metadata": {},
   "outputs": [],
   "source": [
    "output_filename = \"Salmonella_enterica_cleaned.csv\"\n",
    "salmonella_clean.drop(['AMR_parsed'], axis=1).to_csv(output_filename, index=False)\n",
    "print(f\"\\nCleaned dataset saved as '{output_filename}'\")\n",
    "\n",
    "print(f\"\\nData cleaning complete! Your cleaned dataset has {final_count} rows and is ready for AMR Serovar analysis.\")"
   ]
  }
 ],
 "metadata": {
  "kernelspec": {
   "display_name": "base",
   "language": "python",
   "name": "python3"
  },
  "language_info": {
   "codemirror_mode": {
    "name": "ipython",
    "version": 3
   },
   "file_extension": ".py",
   "mimetype": "text/x-python",
   "name": "python",
   "nbconvert_exporter": "python",
   "pygments_lexer": "ipython3",
   "version": "3.9.13"
  }
 },
 "nbformat": 4,
 "nbformat_minor": 5
}
