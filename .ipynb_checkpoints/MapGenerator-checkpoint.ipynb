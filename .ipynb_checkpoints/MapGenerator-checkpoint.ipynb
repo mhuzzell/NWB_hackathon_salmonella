{
 "cells": [
  {
   "cell_type": "markdown",
   "id": "fa51022e-2233-4cf2-abd9-2381ea58f0e5",
   "metadata": {},
   "source": [
    "# Script for data cleaning and basic data-set exploration. \n",
    "This can form the beginning section of the final script."
   ]
  },
  {
   "cell_type": "code",
   "execution_count": 2,
   "id": "41983d83-551e-4fc8-a2ee-b08918bd79d0",
   "metadata": {},
   "outputs": [],
   "source": [
    "# Import packages\n",
    "import pandas as pd\n",
    "import numpy as np\n",
    "import matplotlib.pyplot as plt\n",
    "import sklearn"
   ]
  },
  {
   "cell_type": "code",
   "execution_count": 5,
   "id": "a54c0fc2-e6ed-4f55-885a-243acf3330d2",
   "metadata": {
    "scrolled": true
   },
   "outputs": [
    {
     "data": {
      "text/html": [
       "<div>\n",
       "<style scoped>\n",
       "    .dataframe tbody tr th:only-of-type {\n",
       "        vertical-align: middle;\n",
       "    }\n",
       "\n",
       "    .dataframe tbody tr th {\n",
       "        vertical-align: top;\n",
       "    }\n",
       "\n",
       "    .dataframe thead th {\n",
       "        text-align: right;\n",
       "    }\n",
       "</style>\n",
       "<table border=\"1\" class=\"dataframe\">\n",
       "  <thead>\n",
       "    <tr style=\"text-align: right;\">\n",
       "      <th></th>\n",
       "      <th>#Organism group</th>\n",
       "      <th>Strain</th>\n",
       "      <th>Isolate identifiers</th>\n",
       "      <th>Serovar</th>\n",
       "      <th>Isolate</th>\n",
       "      <th>Create date</th>\n",
       "      <th>Location</th>\n",
       "      <th>Isolation source</th>\n",
       "      <th>Isolation type</th>\n",
       "      <th>SNP cluster</th>\n",
       "      <th>Min-same</th>\n",
       "      <th>Min-diff</th>\n",
       "      <th>BioSample</th>\n",
       "      <th>Assembly</th>\n",
       "      <th>AMR genotypes</th>\n",
       "      <th>Computed types</th>\n",
       "    </tr>\n",
       "  </thead>\n",
       "  <tbody>\n",
       "    <tr>\n",
       "      <th>0</th>\n",
       "      <td>Salmonella enterica</td>\n",
       "      <td>SQ0227</td>\n",
       "      <td>\"93-6175B\",\"SQ0227\",\"SRS426868\"</td>\n",
       "      <td>enteritidis</td>\n",
       "      <td>PDT000000002.3</td>\n",
       "      <td>2014-01-04T17:03:07Z</td>\n",
       "      <td>USA: Western Region</td>\n",
       "      <td>Ocean</td>\n",
       "      <td>environmental/other</td>\n",
       "      <td>PDS000032687.2</td>\n",
       "      <td>0.0</td>\n",
       "      <td>NaN</td>\n",
       "      <td>SAMN02147118</td>\n",
       "      <td>NaN</td>\n",
       "      <td>ant(2'')-Ia=COMPLETE,aph(3')-Ia=COMPLETE,blaTE...</td>\n",
       "      <td>antigen_formula=9:g,m:-,serotype=Enteritidis</td>\n",
       "    </tr>\n",
       "    <tr>\n",
       "      <th>1</th>\n",
       "      <td>Salmonella enterica</td>\n",
       "      <td>SQ0228</td>\n",
       "      <td>\"93-2836A\",\"SQ0228\",\"SRS426867\"</td>\n",
       "      <td>enteritidis</td>\n",
       "      <td>PDT000000003.3</td>\n",
       "      <td>2014-01-04T17:03:07Z</td>\n",
       "      <td>USA: Western Region</td>\n",
       "      <td>Ocean</td>\n",
       "      <td>environmental/other</td>\n",
       "      <td>PDS000032687.2</td>\n",
       "      <td>0.0</td>\n",
       "      <td>NaN</td>\n",
       "      <td>SAMN02147119</td>\n",
       "      <td>NaN</td>\n",
       "      <td>mdsA=COMPLETE,mdsB=COMPLETE</td>\n",
       "      <td>antigen_formula=9:g,m:-,serotype=Enteritidis</td>\n",
       "    </tr>\n",
       "    <tr>\n",
       "      <th>2</th>\n",
       "      <td>Salmonella enterica</td>\n",
       "      <td>SQ0229</td>\n",
       "      <td>\"93-7741\",\"SQ0229\",\"SRS426869\"</td>\n",
       "      <td>enteritidis</td>\n",
       "      <td>PDT000000004.3</td>\n",
       "      <td>2014-01-04T17:03:07Z</td>\n",
       "      <td>USA: Western Region</td>\n",
       "      <td>Ocean</td>\n",
       "      <td>environmental/other</td>\n",
       "      <td>PDS000065776.23</td>\n",
       "      <td>0.0</td>\n",
       "      <td>25.0</td>\n",
       "      <td>SAMN02147120</td>\n",
       "      <td>NaN</td>\n",
       "      <td>mdsA=COMPLETE,mdsB=COMPLETE</td>\n",
       "      <td>antigen_formula=9:g,m:-,serotype=Enteritidis</td>\n",
       "    </tr>\n",
       "    <tr>\n",
       "      <th>3</th>\n",
       "      <td>Salmonella enterica</td>\n",
       "      <td>Gen_001782</td>\n",
       "      <td>\"Gen_001782\",\"SRS426891\"</td>\n",
       "      <td>Heidelberg</td>\n",
       "      <td>PDT000000005.4</td>\n",
       "      <td>2014-01-04T17:03:07Z</td>\n",
       "      <td>USA</td>\n",
       "      <td>food</td>\n",
       "      <td>environmental/other</td>\n",
       "      <td>PDS000150683.10</td>\n",
       "      <td>2.0</td>\n",
       "      <td>2.0</td>\n",
       "      <td>SAMN02147121</td>\n",
       "      <td>GCA_010121905.1</td>\n",
       "      <td>fosA7=COMPLETE,mdsA=COMPLETE,mdsB=COMPLETE</td>\n",
       "      <td>antigen_formula=4:r:1,2,serotype=Heidelberg</td>\n",
       "    </tr>\n",
       "    <tr>\n",
       "      <th>4</th>\n",
       "      <td>Salmonella enterica</td>\n",
       "      <td>Gen_001783</td>\n",
       "      <td>\"Gen_001783\",\"SRS426892\"</td>\n",
       "      <td>Heidelberg</td>\n",
       "      <td>PDT000000006.4</td>\n",
       "      <td>2014-01-04T17:03:07Z</td>\n",
       "      <td>USA</td>\n",
       "      <td>food</td>\n",
       "      <td>environmental/other</td>\n",
       "      <td>PDS000150683.10</td>\n",
       "      <td>2.0</td>\n",
       "      <td>17.0</td>\n",
       "      <td>SAMN02147122</td>\n",
       "      <td>GCA_010121865.1</td>\n",
       "      <td>blaCMY-2=COMPLETE,fosA7=COMPLETE,mdsA=COMPLETE...</td>\n",
       "      <td>antigen_formula=4:r:1,2,serotype=Heidelberg</td>\n",
       "    </tr>\n",
       "  </tbody>\n",
       "</table>\n",
       "</div>"
      ],
      "text/plain": [
       "       #Organism group      Strain              Isolate identifiers  \\\n",
       "0  Salmonella enterica      SQ0227  \"93-6175B\",\"SQ0227\",\"SRS426868\"   \n",
       "1  Salmonella enterica      SQ0228  \"93-2836A\",\"SQ0228\",\"SRS426867\"   \n",
       "2  Salmonella enterica      SQ0229   \"93-7741\",\"SQ0229\",\"SRS426869\"   \n",
       "3  Salmonella enterica  Gen_001782         \"Gen_001782\",\"SRS426891\"   \n",
       "4  Salmonella enterica  Gen_001783         \"Gen_001783\",\"SRS426892\"   \n",
       "\n",
       "       Serovar         Isolate           Create date             Location  \\\n",
       "0  enteritidis  PDT000000002.3  2014-01-04T17:03:07Z  USA: Western Region   \n",
       "1  enteritidis  PDT000000003.3  2014-01-04T17:03:07Z  USA: Western Region   \n",
       "2  enteritidis  PDT000000004.3  2014-01-04T17:03:07Z  USA: Western Region   \n",
       "3   Heidelberg  PDT000000005.4  2014-01-04T17:03:07Z                  USA   \n",
       "4   Heidelberg  PDT000000006.4  2014-01-04T17:03:07Z                  USA   \n",
       "\n",
       "  Isolation source       Isolation type      SNP cluster  Min-same  Min-diff  \\\n",
       "0            Ocean  environmental/other   PDS000032687.2       0.0       NaN   \n",
       "1            Ocean  environmental/other   PDS000032687.2       0.0       NaN   \n",
       "2            Ocean  environmental/other  PDS000065776.23       0.0      25.0   \n",
       "3             food  environmental/other  PDS000150683.10       2.0       2.0   \n",
       "4             food  environmental/other  PDS000150683.10       2.0      17.0   \n",
       "\n",
       "      BioSample         Assembly  \\\n",
       "0  SAMN02147118              NaN   \n",
       "1  SAMN02147119              NaN   \n",
       "2  SAMN02147120              NaN   \n",
       "3  SAMN02147121  GCA_010121905.1   \n",
       "4  SAMN02147122  GCA_010121865.1   \n",
       "\n",
       "                                       AMR genotypes  \\\n",
       "0  ant(2'')-Ia=COMPLETE,aph(3')-Ia=COMPLETE,blaTE...   \n",
       "1                        mdsA=COMPLETE,mdsB=COMPLETE   \n",
       "2                        mdsA=COMPLETE,mdsB=COMPLETE   \n",
       "3         fosA7=COMPLETE,mdsA=COMPLETE,mdsB=COMPLETE   \n",
       "4  blaCMY-2=COMPLETE,fosA7=COMPLETE,mdsA=COMPLETE...   \n",
       "\n",
       "                                 Computed types  \n",
       "0  antigen_formula=9:g,m:-,serotype=Enteritidis  \n",
       "1  antigen_formula=9:g,m:-,serotype=Enteritidis  \n",
       "2  antigen_formula=9:g,m:-,serotype=Enteritidis  \n",
       "3   antigen_formula=4:r:1,2,serotype=Heidelberg  \n",
       "4   antigen_formula=4:r:1,2,serotype=Heidelberg  "
      ]
     },
     "execution_count": 5,
     "metadata": {},
     "output_type": "execute_result"
    }
   ],
   "source": [
    "salmonella_orig = pd.read_csv('sedata.csv') #load the data\n",
    "salmonella_df = salmonella_orig.copy() #Make a copy to modify\n",
    "salmonella_df.head()"
   ]
  },
  {
   "cell_type": "code",
   "execution_count": 6,
   "id": "5823a686-2fd0-4485-8569-0478a3180439",
   "metadata": {},
   "outputs": [
    {
     "name": "stdout",
     "output_type": "stream",
     "text": [
      "#Organism group             1\n",
      "Strain                 515229\n",
      "Isolate identifiers    558565\n",
      "Serovar                  2471\n",
      "Isolate                558819\n",
      "Create date            182136\n",
      "Location                 1280\n",
      "Isolation source         8004\n",
      "Isolation type              2\n",
      "SNP cluster             25025\n",
      "Min-same                   80\n",
      "Min-diff                   99\n",
      "BioSample              558734\n",
      "Assembly               468778\n",
      "AMR genotypes           19095\n",
      "Computed types           2148\n",
      "dtype: int64\n"
     ]
    }
   ],
   "source": [
    "# Check number of variables in the original set\n",
    "unique_counts_orig = salmonella_orig.nunique()\n",
    "print(unique_counts_orig)"
   ]
  },
  {
   "cell_type": "code",
   "execution_count": 7,
   "id": "3ec03485-4074-48d0-8e79-b93fd3d369ed",
   "metadata": {},
   "outputs": [],
   "source": [
    "# Standardise capitalisation to remove duplicates from the serovar and isolation sources columns\n",
    "salmonella_df['Serovar'] = salmonella_df['Serovar'].str.capitalize()\n",
    "salmonella_df['Isolation source'] = salmonella_df['Isolation source'].str.capitalize()"
   ]
  },
  {
   "cell_type": "code",
   "execution_count": 8,
   "id": "ef761a1b-3bab-4510-ba2a-fd83a4f78fc8",
   "metadata": {},
   "outputs": [
    {
     "name": "stdout",
     "output_type": "stream",
     "text": [
      "#Organism group             1\n",
      "Strain                 515229\n",
      "Isolate identifiers    558565\n",
      "Serovar                  2445\n",
      "Isolate                558819\n",
      "Create date            182136\n",
      "Location                 1280\n",
      "Isolation source         7437\n",
      "Isolation type              2\n",
      "SNP cluster             25025\n",
      "Min-same                   80\n",
      "Min-diff                   99\n",
      "BioSample              558734\n",
      "Assembly               468778\n",
      "AMR genotypes           19095\n",
      "Computed types           2148\n",
      "dtype: int64\n"
     ]
    }
   ],
   "source": [
    "# Check number of variables in the cleaned set\n",
    "unique_counts = salmonella_df.nunique()\n",
    "print(unique_counts)"
   ]
  },
  {
   "cell_type": "markdown",
   "id": "0cc7f4fb-9423-43a9-bf6c-833bb25e5710",
   "metadata": {},
   "source": [
    "# Isolation Sources\n",
    "This section explores the 'Isolation Sources' column, which includes a lot of singletons and semantic duplicates."
   ]
  },
  {
   "cell_type": "code",
   "execution_count": 9,
   "id": "3f61e215-e049-46aa-9640-d7d314f77d4a",
   "metadata": {},
   "outputs": [
    {
     "data": {
      "text/plain": [
       "Isolation source\n",
       "Human                                                         71800\n",
       "Stool                                                         28915\n",
       "Raw intact chicken                                             9135\n",
       "Feces                                                          8267\n",
       "Product-raw-ground, comminuted or otherwise nonintact-pork     6236\n",
       "                                                              ...  \n",
       "Intestine (lama pacos)                                            1\n",
       "Fecal (equus ferus caballus)                                      1\n",
       "Fecal (gallus gallus domesticus)                                  1\n",
       "Dried black fungus whole                                          1\n",
       "Veggie snack                                                      1\n",
       "Name: count, Length: 7437, dtype: int64"
      ]
     },
     "execution_count": 9,
     "metadata": {},
     "output_type": "execute_result"
    }
   ],
   "source": [
    "# Get numbers for each unique value in the isolation sources column\n",
    "salmonella_df['Isolation source'].value_counts()"
   ]
  },
  {
   "cell_type": "code",
   "execution_count": 10,
   "id": "1e2a71c8-7826-4e9b-ae1e-60278dabe717",
   "metadata": {},
   "outputs": [
    {
     "data": {
      "text/plain": [
       "Isolation source\n",
       "Human                                                         71800\n",
       "Stool                                                         28915\n",
       "Raw intact chicken                                             9135\n",
       "Feces                                                          8267\n",
       "Product-raw-ground, comminuted or otherwise nonintact-pork     6236\n",
       "Comminuted chicken                                             5659\n",
       "Blood                                                          5579\n",
       "Food                                                           4456\n",
       "Ground turkey                                                  4040\n",
       "Comminuted beef                                                4015\n",
       "Chicken                                                        3291\n",
       "Chicken carcass                                                3190\n",
       "Human, stool                                                   3180\n",
       "Chicken breast                                                 3049\n",
       "Chicken - young chicken carcass rinse (pre-evisceration)       2964\n",
       "Urine                                                          2436\n",
       "Human, blood culture                                           2374\n",
       "Water                                                          2276\n",
       "Animal                                                         2114\n",
       "Comminuted turkey                                              2075\n",
       "Animal-swine-market swine                                      2044\n",
       "Environmental swab                                             1597\n",
       "Animal-chicken-young chicken                                   1524\n",
       "Not collected                                                  1349\n",
       "Environmental                                                  1344\n",
       "Name: count, dtype: int64"
      ]
     },
     "execution_count": 10,
     "metadata": {},
     "output_type": "execute_result"
    }
   ],
   "source": [
    "# Look at the high numbers\n",
    "isolation_sources = salmonella_df['Isolation source'].value_counts()\n",
    "isolation_sources.head(25)"
   ]
  },
  {
   "cell_type": "code",
   "execution_count": 11,
   "id": "7ad48bca-b320-4978-baed-7bd4ece00337",
   "metadata": {},
   "outputs": [
    {
     "name": "stdout",
     "output_type": "stream",
     "text": [
      "Isolation source\n",
      "Liver pool (gallus gallus domesticus)    1\n",
      "Soppressata                              1\n",
      "Red billed gull                          1\n",
      "Intestine (cavia porcellus)              1\n",
      "Baby frozen whole cleaned octopus        1\n",
      "                                        ..\n",
      "Intestine (lama pacos)                   1\n",
      "Fecal (equus ferus caballus)             1\n",
      "Fecal (gallus gallus domesticus)         1\n",
      "Dried black fungus whole                 1\n",
      "Veggie snack                             1\n",
      "Name: count, Length: 3875, dtype: int64\n"
     ]
    }
   ],
   "source": [
    "# Look at the singletons -- omg it's half the set!\n",
    "print(isolation_sources[isolation_sources == 1])"
   ]
  },
  {
   "cell_type": "code",
   "execution_count": 12,
   "id": "fce162d5-8a42-403a-a850-015f922032e4",
   "metadata": {},
   "outputs": [
    {
     "name": "stdout",
     "output_type": "stream",
     "text": [
      "Isolation source\n",
      "Human                                                         71800\n",
      "Stool                                                         28915\n",
      "Raw intact chicken                                             9135\n",
      "Feces                                                          8267\n",
      "Product-raw-ground, comminuted or otherwise nonintact-pork     6236\n",
      "                                                              ...  \n",
      "Oral swab                                                         2\n",
      "Duck bed liner                                                    2\n",
      "Frozen salted cobia                                               2\n",
      "Frozen cooked salted duck egg yolk                                2\n",
      "Bovine meat bone meal                                             2\n",
      "Name: count, Length: 3562, dtype: int64\n"
     ]
    }
   ],
   "source": [
    "# Then the other half:\n",
    "print(isolation_sources[isolation_sources > 1])"
   ]
  },
  {
   "cell_type": "code",
   "execution_count": 13,
   "id": "69c1f110-bcf5-455b-8b74-01f7181d2472",
   "metadata": {},
   "outputs": [
    {
     "data": {
      "image/png": "[encoded data removed]",
      "text/plain": [
       "<Figure size 1000x600 with 1 Axes>"
      ]
     },
     "metadata": {},
     "output_type": "display_data"
    }
   ],
   "source": [
    "# Histogram to see the distribution of sources\n",
    "salmonella_df['Isolation source'].hist(bins=10, figsize=(10, 6))\n",
    "plt.title('Distribution of Isolation Sources Values')\n",
    "plt.xlabel('Source')\n",
    "plt.ylabel('Count')\n",
    "plt.grid(False)  # Optional: removes grid lines\n",
    "plt.show()\n"
   ]
  },
  {
   "cell_type": "code",
   "execution_count": 15,
   "id": "51e58b96-d161-4d48-af87-c51e3a859e6b",
   "metadata": {},
   "outputs": [
    {
     "data": {
      "application/vnd.plotly.v1+json": {
       "config": {
        "plotlyServerURL": "https://plot.ly"
       },
       "data": [
        {
         "coloraxis": "coloraxis",
         "geo": "geo",
         "hovertemplate": "Year=2010<br>Country=%{location}<br>Samples=%{z}<extra></extra>",
         "locationmode": "country names",
         "locations": [
          "USA",
          "Malawi",
          "Brazil"
         ],
         "name": "",
         "type": "choropleth",
         "z": [
          1,
          1,
          1
         ]
        }
       ],
       "frames": [
        {
         "data": [
          {
           "coloraxis": "coloraxis",
           "geo": "geo",
           "hovertemplate": "Year=2010<br>Country=%{location}<br>Samples=%{z}<extra></extra>",
           "locationmode": "country names",
           "locations": [
            "USA",
            "Malawi",
            "Brazil"
           ],
           "name": "",
           "type": "choropleth",
           "z": [
            1,
            1,
            1
           ]
          }
         ],
         "name": "2010"
        },
        {
         "data": [
          {
           "coloraxis": "coloraxis",
           "geo": "geo",
           "hovertemplate": "Year=2011<br>Country=%{location}<br>Samples=%{z}<extra></extra>",
           "locationmode": "country names",
           "locations": [
            "United Kingdom"
           ],
           "name": "",
           "type": "choropleth",
           "z": [
            1
           ]
          }
         ],
         "name": "2011"
        },
        {
         "data": [
          {
           "coloraxis": "coloraxis",
           "geo": "geo",
           "hovertemplate": "Year=2012<br>Country=%{location}<br>Samples=%{z}<extra></extra>",
           "locationmode": "country names",
           "locations": [
            "China",
            "France",
            "India",
            "Mexico",
            "Malaysia",
            "USA",
            "Viet Nam",
            "Hong Kong"
           ],
           "name": "",
           "type": "choropleth",
           "z": [
            3,
            1,
            2,
            1,
            5,
            112,
            3,
            1
           ]
          }
         ],
         "name": "2012"
        },
        {
         "data": [
          {
           "coloraxis": "coloraxis",
           "geo": "geo",
           "hovertemplate": "Year=2013<br>Country=%{location}<br>Samples=%{z}<extra></extra>",
           "locationmode": "country names",
           "locations": [
            "Denmark",
            "USA",
            "Austria",
            "China",
            "Guatemala",
            "United Arab Emirates",
            "Thailand",
            "Israel",
            "Guyana",
            "Mexico",
            "Ireland",
            "Dominican Republic",
            "Switzerland",
            "United Kingdom",
            "India",
            "Philippines",
            "Germany",
            "Viet Nam",
            "Hong Kong",
            "Ghana",
            "Australia",
            "Egypt"
           ],
           "name": "",
           "type": "choropleth",
           "z": [
            2,
            322,
            1,
            17,
            2,
            2,
            3,
            2,
            1,
            6,
            36,
            1,
            1,
            15,
            4,
            1,
            7,
            7,
            1,
            1,
            10,
            1
           ]
          }
         ],
         "name": "2013"
        },
        {
         "data": [
          {
           "coloraxis": "coloraxis",
           "geo": "geo",
           "hovertemplate": "Year=2014<br>Country=%{location}<br>Samples=%{z}<extra></extra>",
           "locationmode": "country names",
           "locations": [
            "Mexico",
            "Denmark",
            "Morocco",
            "Costa Rica",
            "Comoros",
            "Niger",
            "Myanmar",
            "Colombia",
            "Nicaragua",
            "China",
            "Chile",
            "Pakistan",
            "Chad",
            "Central African Republic",
            "Panama",
            "Peru",
            "Canada",
            "Philippines",
            "Cameroon",
            "Puerto Rico",
            "Mozambique",
            "Mauritius",
            "Netherlands",
            "Mali",
            "Guatemala",
            "Greece",
            "Haiti",
            "Honduras",
            "Ghana",
            "Hong Kong",
            "Hungary",
            "India",
            "Gabon",
            "Indonesia",
            "Ireland",
            "France",
            "Israel",
            "Jamaica",
            "Ethiopia",
            "Japan",
            "El Salvador",
            "Jordan",
            "Kenya",
            "Egypt",
            "Lebanon",
            "Lithuania",
            "Madagascar",
            "Rwanda",
            "Ecuador",
            "Malawi",
            "Malaysia",
            "Dominican Republic",
            "Djibouti",
            "Mauritania",
            "Senegal",
            "Guinea",
            "United Kingdom",
            "Sri Lanka",
            "USA",
            "Bangladesh",
            "Spain",
            "United Arab Emirates",
            "Tunisia",
            "Bulgaria",
            "Australia",
            "Thailand",
            "Belgium",
            "South Africa",
            "Uganda",
            "Viet Nam",
            "Argentina",
            "Brazil",
            "Angola",
            "Singapore",
            "Benin",
            "Belize",
            "Algeria"
           ],
           "name": "",
           "type": "choropleth",
           "z": [
            88,
            18,
            5,
            1,
            2,
            2,
            3,
            1,
            1,
            11,
            33,
            7,
            1,
            3,
            2,
            2,
            40,
            5,
            4,
            4,
            1,
            6,
            15,
            55,
            1,
            2,
            2,
            1,
            13,
            2,
            2,
            54,
            1,
            8,
            1,
            1,
            1,
            1,
            1,
            2,
            2,
            1,
            1,
            2,
            3,
            1,
            5,
            2,
            1,
            2,
            1,
            2,
            1,
            2,
            17,
            2,
            171,
            4,
            2739,
            9,
            3,
            1,
            3,
            1,
            3,
            7,
            1,
            134,
            7,
            29,
            1,
            7,
            1,
            2,
            1,
            1,
            1
           ]
          }
         ],
         "name": "2014"
        },
        {
         "data": [
          {
           "coloraxis": "coloraxis",
           "geo": "geo",
           "hovertemplate": "Year=2015<br>Country=%{location}<br>Samples=%{z}<extra></extra>",
           "locationmode": "country names",
           "locations": [
            "Egypt",
            "Mexico",
            "USA",
            "Belize",
            "Lebanon",
            "Bangladesh",
            "Ecuador",
            "Denmark",
            "Senegal",
            "Malawi",
            "Dominican Republic",
            "Suriname",
            "Thailand",
            "Jordan",
            "Malaysia",
            "Belgium",
            "Switzerland",
            "Cambodia",
            "Jamaica",
            "Japan",
            "Guatemala",
            "Guyana",
            "Viet Nam",
            "Haiti",
            "Honduras",
            "Ghana",
            "Argentina",
            "Hong Kong",
            "Hungary",
            "Germany",
            "Iceland",
            "United Kingdom",
            "India",
            "Australia",
            "Indonesia",
            "United Arab Emirates",
            "France",
            "Israel",
            "Finland",
            "Italy",
            "Fiji",
            "Croatia",
            "Ethiopia",
            "Austria",
            "Uganda",
            "El Salvador",
            "Mongolia",
            "Albania",
            "Canada",
            "Panama",
            "Nicaragua",
            "Bulgaria",
            "Chile",
            "Netherlands",
            "China",
            "Philippines",
            "Brazil",
            "Colombia",
            "Guinea",
            "Peru",
            "Nepal",
            "Burkina Faso",
            "Pakistan",
            "Portugal",
            "South Africa",
            "Spain",
            "Myanmar",
            "Norway",
            "Morocco",
            "Sri Lanka",
            "Costa Rica",
            "Singapore",
            "Nigeria"
           ],
           "name": "",
           "type": "choropleth",
           "z": [
            28,
            736,
            13398,
            2,
            34,
            72,
            11,
            51,
            4,
            7,
            6,
            3,
            103,
            12,
            24,
            30,
            2,
            208,
            7,
            5,
            14,
            3,
            303,
            2,
            8,
            9,
            13,
            28,
            1,
            6,
            1,
            9383,
            395,
            9,
            180,
            2,
            36,
            9,
            1,
            7,
            3,
            1,
            8,
            1,
            1,
            6,
            1,
            5,
            174,
            3,
            6,
            5,
            5,
            3,
            170,
            58,
            31,
            25,
            2,
            12,
            40,
            2,
            29,
            2,
            2,
            3,
            11,
            1,
            8,
            13,
            11,
            15,
            30
           ]
          }
         ],
         "name": "2015"
        },
        {
         "data": [
          {
           "coloraxis": "coloraxis",
           "geo": "geo",
           "hovertemplate": "Year=2016<br>Country=%{location}<br>Samples=%{z}<extra></extra>",
           "locationmode": "country names",
           "locations": [
            "India",
            "Panama",
            "Fiji",
            "Norway",
            "Finland",
            "Pakistan",
            "Israel",
            "United Arab Emirates",
            "Ireland",
            "South Africa",
            "France",
            "Ukraine",
            "Indonesia",
            "Australia",
            "Italy",
            "Peru",
            "Guinea",
            "Guatemala",
            "Saudi Arabia",
            "Albania",
            "Viet Nam",
            "Saint Lucia",
            "Grenada",
            "Guyana",
            "Greece",
            "Georgia",
            "Portugal",
            "Honduras",
            "Ghana",
            "Philippines",
            "Singapore",
            "Argentina",
            "Hong Kong",
            "Germany",
            "Canada",
            "United Kingdom",
            "Haiti",
            "Uganda",
            "Trinidad and Tobago",
            "Jamaica",
            "Brazil",
            "Lebanon",
            "Bangladesh",
            "Ecuador",
            "Chile",
            "Netherlands",
            "Dominican Republic",
            "Thailand",
            "Colombia",
            "Malaysia",
            "Denmark",
            "Myanmar",
            "Sri Lanka",
            "Costa Rica",
            "Mexico",
            "Morocco",
            "Mongolia",
            "China",
            "Egypt",
            "New Zealand",
            "El Salvador",
            "Kenya",
            "USA",
            "Nigeria",
            "Ethiopia",
            "Jordan",
            "Spain",
            "Japan"
           ],
           "name": "",
           "type": "choropleth",
           "z": [
            139,
            2,
            1,
            1,
            1,
            14,
            9,
            1,
            1,
            12,
            21,
            1,
            31,
            119,
            18,
            92,
            4,
            2,
            1,
            6,
            131,
            1,
            1,
            3,
            4,
            2,
            2,
            5,
            2,
            26,
            2,
            40,
            3,
            7,
            261,
            1552,
            8,
            2,
            6,
            1,
            113,
            5,
            17,
            5,
            83,
            2,
            23,
            165,
            13,
            13,
            2,
            12,
            3,
            1,
            416,
            4,
            1,
            47,
            16,
            1,
            4,
            76,
            14415,
            46,
            302,
            3,
            11,
            1
           ]
          }
         ],
         "name": "2016"
        },
        {
         "data": [
          {
           "coloraxis": "coloraxis",
           "geo": "geo",
           "hovertemplate": "Year=2017<br>Country=%{location}<br>Samples=%{z}<extra></extra>",
           "locationmode": "country names",
           "locations": [
            "Philippines",
            "Malaysia",
            "Malta",
            "Myanmar",
            "Switzerland",
            "Portugal",
            "Mauritius",
            "Indonesia",
            "Guyana",
            "Suriname",
            "Jamaica",
            "Nigeria",
            "Viet Nam",
            "Mexico",
            "Sri Lanka",
            "Italy",
            "South Africa",
            "Israel",
            "Uganda",
            "Thailand",
            "Spain",
            "Ireland",
            "Pakistan",
            "India",
            "Lebanon",
            "New Zealand",
            "United Arab Emirates",
            "Madagascar",
            "Vanuatu",
            "Peru",
            "Netherlands",
            "Trinidad and Tobago",
            "Nicaragua",
            "United Kingdom",
            "Hong Kong",
            "Malawi",
            "Singapore",
            "Tonga",
            "USA",
            "Mongolia",
            "Japan",
            "Croatia",
            "Belarus",
            "Albania",
            "Barbados",
            "Germany",
            "China",
            "Colombia",
            "Costa Rica",
            "Bangladesh",
            "Belgium",
            "Gambia",
            "Dominican Republic",
            "French Guiana",
            "Ecuador",
            "Egypt",
            "Australia",
            "El Salvador",
            "Ethiopia",
            "France",
            "Denmark",
            "Ghana",
            "Argentina",
            "Canada",
            "Brazil",
            "Bulgaria",
            "Cambodia",
            "Guam",
            "Belize",
            "Cameroon"
           ],
           "name": "",
           "type": "choropleth",
           "z": [
            3,
            4,
            1,
            9,
            31,
            1,
            3,
            25,
            14,
            6,
            4,
            48,
            35,
            187,
            4,
            5,
            1,
            3,
            58,
            14,
            4,
            1,
            9,
            92,
            8,
            121,
            1,
            1,
            2,
            5,
            1,
            10,
            1,
            6978,
            2,
            1,
            1,
            1,
            34504,
            1,
            1,
            4,
            2,
            4,
            29,
            23,
            123,
            10,
            1,
            25,
            3,
            1,
            13,
            1,
            14,
            11,
            546,
            2,
            63,
            8,
            91,
            4,
            17,
            1113,
            371,
            1,
            1,
            1,
            25,
            5
           ]
          }
         ],
         "name": "2017"
        },
        {
         "data": [
          {
           "coloraxis": "coloraxis",
           "geo": "geo",
           "hovertemplate": "Year=2018<br>Country=%{location}<br>Samples=%{z}<extra></extra>",
           "locationmode": "country names",
           "locations": [
            "Malaysia",
            "Dominican Republic",
            "Austria",
            "Uganda",
            "Spain",
            "Ecuador",
            "Lebanon",
            "Kyrgyzstan",
            "Kenya",
            "Canada",
            "Jordan",
            "Australia",
            "Japan",
            "Serbia",
            "El Salvador",
            "United Arab Emirates",
            "Jamaica",
            "Singapore",
            "Ethiopia",
            "Italy",
            "Argentina",
            "Brazil",
            "Egypt",
            "Denmark",
            "Bahamas",
            "Paraguay",
            "Peru",
            "Panama",
            "Sweden",
            "Switzerland",
            "Pakistan",
            "Norway",
            "Chile",
            "Cameroon",
            "Nigeria",
            "Philippines",
            "Suriname",
            "Thailand",
            "Poland",
            "China",
            "Portugal",
            "Israel",
            "Colombia",
            "Myanmar",
            "Puerto Rico",
            "Costa Rica",
            "Bangladesh",
            "Sri Lanka",
            "Mexico",
            "Rwanda",
            "USA",
            "Nepal",
            "South Africa",
            "Georgia",
            "Hungary",
            "Indonesia",
            "Hong Kong",
            "Haiti",
            "Guyana",
            "Germany",
            "France",
            "India",
            "Ghana",
            "Honduras",
            "Albania",
            "Gambia",
            "United Kingdom",
            "Viet Nam"
           ],
           "name": "",
           "type": "choropleth",
           "z": [
            3,
            5,
            1,
            1,
            12,
            169,
            49,
            1,
            14,
            165,
            1,
            4,
            1,
            1,
            2,
            1,
            4,
            76,
            4,
            151,
            8,
            495,
            7,
            6,
            20,
            2,
            126,
            1,
            3,
            6,
            20,
            7,
            94,
            1,
            214,
            6,
            1,
            13,
            22,
            93,
            1,
            6,
            61,
            4,
            4,
            4,
            1,
            2,
            329,
            2,
            45614,
            2,
            4,
            1,
            1,
            80,
            4,
            2,
            4,
            292,
            148,
            92,
            46,
            5,
            4,
            1,
            20079,
            22
           ]
          }
         ],
         "name": "2018"
        },
        {
         "data": [
          {
           "coloraxis": "coloraxis",
           "geo": "geo",
           "hovertemplate": "Year=2019<br>Country=%{location}<br>Samples=%{z}<extra></extra>",
           "locationmode": "country names",
           "locations": [
            "Nicaragua",
            "Costa Rica",
            "Thailand",
            "Morocco",
            "Haiti",
            "Senegal",
            "Malawi",
            "Mongolia",
            "Philippines",
            "Spain",
            "Uganda",
            "China",
            "Sri Lanka",
            "Dominican Republic",
            "Lebanon",
            "Indonesia",
            "Antarctica",
            "Bahamas",
            "South Africa",
            "Paraguay",
            "Colombia",
            "Mexico",
            "Myanmar",
            "India",
            "Denmark",
            "Rwanda",
            "Bangladesh",
            "Mali",
            "Mozambique",
            "USA",
            "Nepal",
            "Malaysia",
            "Cambodia",
            "Tunisia",
            "Guyana",
            "Israel",
            "Peru",
            "Sweden",
            "Singapore",
            "Japan",
            "France",
            "Ireland",
            "Pakistan",
            "United Kingdom",
            "Ethiopia",
            "Switzerland",
            "Italy",
            "Honduras",
            "Viet Nam",
            "Canada",
            "Bulgaria",
            "Guatemala",
            "Germany",
            "Ghana",
            "Ecuador",
            "Brazil",
            "Sierra Leone",
            "Kenya",
            "Nigeria",
            "Chile",
            "Cameroon",
            "Australia"
           ],
           "name": "",
           "type": "choropleth",
           "z": [
            1,
            2,
            50,
            1,
            1,
            78,
            124,
            1,
            2,
            35,
            8,
            103,
            81,
            4,
            89,
            91,
            1,
            3,
            5,
            32,
            54,
            174,
            1,
            53,
            420,
            33,
            553,
            11,
            11,
            54925,
            5,
            2,
            80,
            38,
            3,
            23,
            26,
            3,
            46,
            1,
            6,
            787,
            8,
            14120,
            12,
            79,
            2,
            1,
            19,
            720,
            1,
            2,
            1234,
            21,
            94,
            189,
            2,
            2,
            73,
            139,
            16,
            301
           ]
          }
         ],
         "name": "2019"
        },
        {
         "data": [
          {
           "coloraxis": "coloraxis",
           "geo": "geo",
           "hovertemplate": "Year=2020<br>Country=%{location}<br>Samples=%{z}<extra></extra>",
           "locationmode": "country names",
           "locations": [
            "Belarus",
            "Pakistan",
            "Portugal",
            "Colombia",
            "Sri Lanka",
            "Hungary",
            "Belgium",
            "Thailand",
            "Chile",
            "Canada",
            "Tunisia",
            "Morocco",
            "Ghana",
            "Viet Nam",
            "Nigeria",
            "Germany",
            "Namibia",
            "China",
            "Togo",
            "Norway",
            "Netherlands",
            "Finland",
            "Poland",
            "Philippines",
            "Bangladesh",
            "Peru",
            "Nepal",
            "Hong Kong",
            "Chad",
            "Niger",
            "Central African Republic",
            "Cameroon",
            "Albania",
            "Georgia",
            "Trinidad and Tobago",
            "Sudan",
            "Switzerland",
            "Myanmar",
            "Barbados",
            "Cuba",
            "Lebanon",
            "Luxembourg",
            "Uganda",
            "Senegal",
            "Algeria",
            "Indonesia",
            "Ecuador",
            "Grenada",
            "Serbia",
            "Ukraine",
            "Kuwait",
            "Australia",
            "Sierra Leone",
            "Iraq",
            "Jordan",
            "Burkina Faso",
            "Egypt",
            "United Kingdom",
            "Israel",
            "Argentina",
            "South Africa",
            "Ethiopia",
            "Italy",
            "Brazil",
            "Madagascar",
            "Ireland",
            "United Arab Emirates",
            "Zimbabwe",
            "France",
            "Japan",
            "Guinea",
            "Bulgaria",
            "Singapore",
            "Uruguay",
            "Sweden",
            "Benin",
            "Cyprus",
            "Mauritania",
            "Denmark",
            "Spain",
            "Romania",
            "Guyana",
            "Croatia",
            "Mali",
            "USA",
            "India",
            "Djibouti",
            "Cambodia",
            "Mexico",
            "French Guiana",
            "Zambia",
            "Austria",
            "Malawi",
            "Greece",
            "Gambia"
           ],
           "name": "",
           "type": "choropleth",
           "z": [
            1,
            24,
            60,
            1,
            5,
            3,
            69,
            101,
            588,
            2444,
            89,
            19,
            1,
            24,
            7,
            833,
            5,
            1211,
            2,
            9,
            243,
            9,
            37,
            15,
            14,
            229,
            5,
            1,
            1,
            2,
            1,
            2,
            1,
            20,
            122,
            1,
            146,
            6,
            21,
            1,
            91,
            9,
            12,
            29,
            3,
            26,
            127,
            44,
            7,
            1,
            18,
            3735,
            1,
            24,
            7,
            107,
            10,
            5536,
            20,
            5,
            503,
            1,
            291,
            220,
            1,
            801,
            16,
            3,
            50,
            121,
            4,
            1,
            47,
            1,
            69,
            10,
            4,
            1,
            401,
            23,
            1,
            3,
            1,
            282,
            53858,
            214,
            1,
            10,
            481,
            2,
            3,
            27,
            4,
            9,
            1
           ]
          }
         ],
         "name": "2020"
        },
        {
         "data": [
          {
           "coloraxis": "coloraxis",
           "geo": "geo",
           "hovertemplate": "Year=2021<br>Country=%{location}<br>Samples=%{z}<extra></extra>",
           "locationmode": "country names",
           "locations": [
            "Slovakia",
            "Romania",
            "Yemen",
            "Puerto Rico",
            "South Africa",
            "Portugal",
            "Singapore",
            "Brazil",
            "Slovenia",
            "Spain",
            "Bulgaria",
            "Peru",
            "Viet Nam",
            "Cameroon",
            "Rwanda",
            "Burkina Faso",
            "Sierra Leone",
            "Sudan",
            "Serbia",
            "Poland",
            "Greece",
            "Ghana",
            "Senegal",
            "Saudi Arabia",
            "Philippines",
            "Sri Lanka",
            "Cambodia",
            "Guatemala",
            "Paraguay",
            "Lebanon",
            "Uganda",
            "Luxembourg",
            "Madagascar",
            "Dominican Republic",
            "Malawi",
            "Ecuador",
            "Uruguay",
            "Denmark",
            "Mali",
            "Austria",
            "Cyprus",
            "Croatia",
            "Mexico",
            "USA",
            "Australia",
            "Latvia",
            "Indonesia",
            "Israel",
            "Finland",
            "Fiji",
            "Argentina",
            "Italy",
            "Ireland",
            "United Arab Emirates",
            "Jamaica",
            "Japan",
            "France",
            "Egypt",
            "Iraq",
            "Jordan",
            "United Kingdom",
            "Kenya",
            "Gambia",
            "Tunisia",
            "India",
            "Morocco",
            "Hong Kong",
            "Chile",
            "Thailand",
            "New Zealand",
            "Costa Rica",
            "Norway",
            "Togo",
            "Netherlands",
            "Switzerland",
            "China",
            "Bangladesh",
            "Oman",
            "Nigeria",
            "Central African Republic",
            "Hungary",
            "Nepal",
            "Belgium",
            "Colombia",
            "Iceland",
            "Papua New Guinea",
            "Germany",
            "Canada",
            "Namibia",
            "Pakistan",
            "Trinidad and Tobago",
            "Myanmar",
            "North Macedonia"
           ],
           "name": "",
           "type": "choropleth",
           "z": [
            3,
            17,
            7,
            4,
            2377,
            26,
            12,
            165,
            1,
            111,
            3,
            122,
            36,
            6,
            48,
            4,
            10,
            3,
            8,
            437,
            3,
            1,
            17,
            3,
            2,
            5,
            25,
            7,
            2,
            6,
            65,
            19,
            1,
            1,
            78,
            115,
            1,
            419,
            11,
            66,
            9,
            2,
            80,
            41550,
            2449,
            2,
            26,
            5,
            46,
            1,
            4,
            428,
            218,
            2,
            2,
            242,
            60,
            3,
            12,
            7,
            6538,
            146,
            9,
            37,
            87,
            1,
            99,
            141,
            72,
            456,
            18,
            34,
            8,
            57,
            17,
            951,
            15,
            3,
            208,
            10,
            76,
            8,
            48,
            99,
            3,
            41,
            578,
            7796,
            4,
            74,
            11,
            7,
            2
           ]
          }
         ],
         "name": "2021"
        },
        {
         "data": [
          {
           "coloraxis": "coloraxis",
           "geo": "geo",
           "hovertemplate": "Year=2022<br>Country=%{location}<br>Samples=%{z}<extra></extra>",
           "locationmode": "country names",
           "locations": [
            "United Arab Emirates",
            "Armenia",
            "South Africa",
            "Switzerland",
            "Argentina",
            "Zambia",
            "United Kingdom",
            "Thailand",
            "Uganda",
            "Belgium",
            "Australia",
            "Spain",
            "Sudan",
            "USA",
            "Benin",
            "Algeria",
            "Sweden",
            "Viet Nam",
            "Austria",
            "Trinidad and Tobago",
            "Suriname",
            "Bangladesh",
            "Zimbabwe",
            "Nigeria",
            "Iraq",
            "Nicaragua",
            "El Salvador",
            "Indonesia",
            "Chile",
            "Niger",
            "Ireland",
            "Ecuador",
            "Malaysia",
            "Norway",
            "France",
            "Pakistan",
            "Denmark",
            "Japan",
            "Guatemala",
            "Canada",
            "New Zealand",
            "Fiji",
            "Brazil",
            "Mauritius",
            "Jamaica",
            "Costa Rica",
            "Italy",
            "Ethiopia",
            "Finland",
            "Mozambique",
            "Namibia",
            "Mali",
            "Nepal",
            "Israel",
            "China",
            "Netherlands",
            "Colombia",
            "Mexico",
            "Papua New Guinea",
            "Paraguay",
            "Lebanon",
            "Slovenia",
            "Guinea",
            "Guyana",
            "Lithuania",
            "Singapore",
            "Sierra Leone",
            "Madagascar",
            "Senegal",
            "Burkina Faso",
            "Kenya",
            "Dominican Republic",
            "Saudi Arabia",
            "Ghana",
            "Honduras",
            "Samoa",
            "Poland",
            "Egypt",
            "Peru",
            "India",
            "Cameroon",
            "Philippines",
            "Gambia",
            "Hungary",
            "Estonia",
            "Malawi",
            "Hong Kong",
            "Cambodia",
            "Portugal",
            "Germany",
            "Jordan",
            "Rwanda",
            "Saint Vincent and the Grenadines"
           ],
           "name": "",
           "type": "choropleth",
           "z": [
            1,
            41,
            3281,
            77,
            60,
            71,
            8109,
            6,
            1,
            63,
            1134,
            28,
            1,
            44811,
            2,
            2,
            10,
            66,
            13,
            65,
            7,
            156,
            123,
            213,
            11,
            1,
            2,
            19,
            1104,
            2,
            115,
            61,
            99,
            68,
            542,
            38,
            238,
            306,
            1,
            1354,
            3,
            255,
            945,
            13,
            2,
            4,
            265,
            1,
            2,
            6,
            7,
            3,
            129,
            10,
            2708,
            494,
            88,
            1049,
            3,
            2,
            64,
            181,
            1,
            1,
            4,
            21,
            2,
            11,
            17,
            54,
            37,
            73,
            3,
            3,
            4,
            181,
            23,
            4,
            25,
            517,
            2,
            5,
            164,
            2,
            11,
            60,
            20,
            39,
            63,
            64,
            4,
            1,
            1
           ]
          }
         ],
         "name": "2022"
        },
        {
         "data": [
          {
           "coloraxis": "coloraxis",
           "geo": "geo",
           "hovertemplate": "Year=2023<br>Country=%{location}<br>Samples=%{z}<extra></extra>",
           "locationmode": "country names",
           "locations": [
            "Japan",
            "Brazil",
            "United Arab Emirates",
            "Zambia",
            "Yemen",
            "Guyana",
            "Viet Nam",
            "Ghana",
            "Germany",
            "Hong Kong",
            "American Samoa",
            "India",
            "Uruguay",
            "France",
            "United Kingdom",
            "Indonesia",
            "Israel",
            "Argentina",
            "Italy",
            "Kuwait",
            "Mexico",
            "Uganda",
            "Canada",
            "Sweden",
            "Paraguay",
            "Peru",
            "Philippines",
            "Belgium",
            "Poland",
            "Cambodia",
            "Portugal",
            "Puerto Rico",
            "Samoa",
            "Spain",
            "Saudi Arabia",
            "Burkina Faso",
            "Senegal",
            "Singapore",
            "South Africa",
            "Slovakia",
            "Slovenia",
            "Pakistan",
            "Cayman Islands",
            "Chad",
            "Bangladesh",
            "Dominican Republic",
            "Australia",
            "Malawi",
            "USA",
            "Denmark",
            "Malaysia",
            "Mali",
            "Austria",
            "Mauritius",
            "Ecuador",
            "Costa Rica",
            "Morocco",
            "Colombia",
            "Namibia",
            "China",
            "Netherlands",
            "Thailand",
            "New Zealand",
            "Chile",
            "Nicaragua",
            "Tunisia",
            "Nigeria"
           ],
           "name": "",
           "type": "choropleth",
           "z": [
            94,
            647,
            7,
            43,
            3,
            1,
            12,
            59,
            210,
            69,
            3,
            39,
            2,
            201,
            575,
            4,
            3,
            3,
            82,
            8,
            180,
            2,
            939,
            77,
            1,
            3,
            2,
            83,
            5,
            77,
            9,
            1,
            7,
            5,
            1,
            61,
            1,
            278,
            742,
            1,
            1,
            31,
            17,
            1,
            67,
            1,
            3350,
            1,
            28414,
            214,
            10,
            12,
            244,
            4,
            5,
            14,
            6,
            20,
            1,
            1852,
            420,
            72,
            2,
            442,
            2,
            118,
            53
           ]
          }
         ],
         "name": "2023"
        }
       ],
       "layout": {
        "coloraxis": {
         "colorbar": {
          "title": {
           "text": "Samples"
          }
         },
         "colorscale": [
          [
           0,
           "rgb(255,245,240)"
          ],
          [
           0.125,
           "rgb(254,224,210)"
          ],
          [
           0.25,
           "rgb(252,187,161)"
          ],
          [
           0.375,
           "rgb(252,146,114)"
          ],
          [
           0.5,
           "rgb(251,106,74)"
          ],
          [
           0.625,
           "rgb(239,59,44)"
          ],
          [
           0.75,
           "rgb(203,24,29)"
          ],
          [
           0.875,
           "rgb(165,15,21)"
          ],
          [
           1,
           "rgb(103,0,13)"
          ]
         ]
        },
        "geo": {
         "center": {},
         "domain": {
          "x": [
           0,
           1
          ],
          "y": [
           0,
           1
          ]
         },
         "projection": {
          "type": "natural earth"
         }
        },
        "height": 600,
        "legend": {
         "tracegroupgap": 0
        },
        "margin": {
         "b": 0,
         "l": 0,
         "r": 0,
         "t": 30
        },
        "sliders": [
         {
          "active": 0,
          "currentvalue": {
           "prefix": "Year="
          },
          "len": 0.9,
          "pad": {
           "b": 10,
           "t": 60
          },
          "steps": [
           {
            "args": [
             [
              "2010"
             ],
             {
              "frame": {
               "duration": 0,
               "redraw": true
              },
              "fromcurrent": true,
              "mode": "immediate",
              "transition": {
               "duration": 0,
               "easing": "linear"
              }
             }
            ],
            "label": "2010",
            "method": "animate"
           },
           {
            "args": [
             [
              "2011"
             ],
             {
              "frame": {
               "duration": 0,
               "redraw": true
              },
              "fromcurrent": true,
              "mode": "immediate",
              "transition": {
               "duration": 0,
               "easing": "linear"
              }
             }
            ],
            "label": "2011",
            "method": "animate"
           },
           {
            "args": [
             [
              "2012"
             ],
             {
              "frame": {
               "duration": 0,
               "redraw": true
              },
              "fromcurrent": true,
              "mode": "immediate",
              "transition": {
               "duration": 0,
               "easing": "linear"
              }
             }
            ],
            "label": "2012",
            "method": "animate"
           },
           {
            "args": [
             [
              "2013"
             ],
             {
              "frame": {
               "duration": 0,
               "redraw": true
              },
              "fromcurrent": true,
              "mode": "immediate",
              "transition": {
               "duration": 0,
               "easing": "linear"
              }
             }
            ],
            "label": "2013",
            "method": "animate"
           },
           {
            "args": [
             [
              "2014"
             ],
             {
              "frame": {
               "duration": 0,
               "redraw": true
              },
              "fromcurrent": true,
              "mode": "immediate",
              "transition": {
               "duration": 0,
               "easing": "linear"
              }
             }
            ],
            "label": "2014",
            "method": "animate"
           },
           {
            "args": [
             [
              "2015"
             ],
             {
              "frame": {
               "duration": 0,
               "redraw": true
              },
              "fromcurrent": true,
              "mode": "immediate",
              "transition": {
               "duration": 0,
               "easing": "linear"
              }
             }
            ],
            "label": "2015",
            "method": "animate"
           },
           {
            "args": [
             [
              "2016"
             ],
             {
              "frame": {
               "duration": 0,
               "redraw": true
              },
              "fromcurrent": true,
              "mode": "immediate",
              "transition": {
               "duration": 0,
               "easing": "linear"
              }
             }
            ],
            "label": "2016",
            "method": "animate"
           },
           {
            "args": [
             [
              "2017"
             ],
             {
              "frame": {
               "duration": 0,
               "redraw": true
              },
              "fromcurrent": true,
              "mode": "immediate",
              "transition": {
               "duration": 0,
               "easing": "linear"
              }
             }
            ],
            "label": "2017",
            "method": "animate"
           },
           {
            "args": [
             [
              "2018"
             ],
             {
              "frame": {
               "duration": 0,
               "redraw": true
              },
              "fromcurrent": true,
              "mode": "immediate",
              "transition": {
               "duration": 0,
               "easing": "linear"
              }
             }
            ],
            "label": "2018",
            "method": "animate"
           },
           {
            "args": [
             [
              "2019"
             ],
             {
              "frame": {
               "duration": 0,
               "redraw": true
              },
              "fromcurrent": true,
              "mode": "immediate",
              "transition": {
               "duration": 0,
               "easing": "linear"
              }
             }
            ],
            "label": "2019",
            "method": "animate"
           },
           {
            "args": [
             [
              "2020"
             ],
             {
              "frame": {
               "duration": 0,
               "redraw": true
              },
              "fromcurrent": true,
              "mode": "immediate",
              "transition": {
               "duration": 0,
               "easing": "linear"
              }
             }
            ],
            "label": "2020",
            "method": "animate"
           },
           {
            "args": [
             [
              "2021"
             ],
             {
              "frame": {
               "duration": 0,
               "redraw": true
              },
              "fromcurrent": true,
              "mode": "immediate",
              "transition": {
               "duration": 0,
               "easing": "linear"
              }
             }
            ],
            "label": "2021",
            "method": "animate"
           },
           {
            "args": [
             [
              "2022"
             ],
             {
              "frame": {
               "duration": 0,
               "redraw": true
              },
              "fromcurrent": true,
              "mode": "immediate",
              "transition": {
               "duration": 0,
               "easing": "linear"
              }
             }
            ],
            "label": "2022",
            "method": "animate"
           },
           {
            "args": [
             [
              "2023"
             ],
             {
              "frame": {
               "duration": 0,
               "redraw": true
              },
              "fromcurrent": true,
              "mode": "immediate",
              "transition": {
               "duration": 0,
               "easing": "linear"
              }
             }
            ],
            "label": "2023",
            "method": "animate"
           }
          ],
          "x": 0.1,
          "xanchor": "left",
          "y": 0,
          "yanchor": "top"
         }
        ],
        "template": {
         "data": {
          "bar": [
           {
            "error_x": {
             "color": "#2a3f5f"
            },
            "error_y": {
             "color": "#2a3f5f"
            },
            "marker": {
             "line": {
              "color": "#E5ECF6",
              "width": 0.5
             },
             "pattern": {
              "fillmode": "overlay",
              "size": 10,
              "solidity": 0.2
             }
            },
            "type": "bar"
           }
          ],
          "barpolar": [
           {
            "marker": {
             "line": {
              "color": "#E5ECF6",
              "width": 0.5
             },
             "pattern": {
              "fillmode": "overlay",
              "size": 10,
              "solidity": 0.2
             }
            },
            "type": "barpolar"
           }
          ],
          "carpet": [
           {
            "aaxis": {
             "endlinecolor": "#2a3f5f",
             "gridcolor": "white",
             "linecolor": "white",
             "minorgridcolor": "white",
             "startlinecolor": "#2a3f5f"
            },
            "baxis": {
             "endlinecolor": "#2a3f5f",
             "gridcolor": "white",
             "linecolor": "white",
             "minorgridcolor": "white",
             "startlinecolor": "#2a3f5f"
            },
            "type": "carpet"
           }
          ],
          "choropleth": [
           {
            "colorbar": {
             "outlinewidth": 0,
             "ticks": ""
            },
            "type": "choropleth"
           }
          ],
          "contour": [
           {
            "colorbar": {
             "outlinewidth": 0,
             "ticks": ""
            },
            "colorscale": [
             [
              0,
              "#0d0887"
             ],
             [
              0.1111111111111111,
              "#46039f"
             ],
             [
              0.2222222222222222,
              "#7201a8"
             ],
             [
              0.3333333333333333,
              "#9c179e"
             ],
             [
              0.4444444444444444,
              "#bd3786"
             ],
             [
              0.5555555555555556,
              "#d8576b"
             ],
             [
              0.6666666666666666,
              "#ed7953"
             ],
             [
              0.7777777777777778,
              "#fb9f3a"
             ],
             [
              0.8888888888888888,
              "#fdca26"
             ],
             [
              1,
              "#f0f921"
             ]
            ],
            "type": "contour"
           }
          ],
          "contourcarpet": [
           {
            "colorbar": {
             "outlinewidth": 0,
             "ticks": ""
            },
            "type": "contourcarpet"
           }
          ],
          "heatmap": [
           {
            "colorbar": {
             "outlinewidth": 0,
             "ticks": ""
            },
            "colorscale": [
             [
              0,
              "#0d0887"
             ],
             [
              0.1111111111111111,
              "#46039f"
             ],
             [
              0.2222222222222222,
              "#7201a8"
             ],
             [
              0.3333333333333333,
              "#9c179e"
             ],
             [
              0.4444444444444444,
              "#bd3786"
             ],
             [
              0.5555555555555556,
              "#d8576b"
             ],
             [
              0.6666666666666666,
              "#ed7953"
             ],
             [
              0.7777777777777778,
              "#fb9f3a"
             ],
             [
              0.8888888888888888,
              "#fdca26"
             ],
             [
              1,
              "#f0f921"
             ]
            ],
            "type": "heatmap"
           }
          ],
          "heatmapgl": [
           {
            "colorbar": {
             "outlinewidth": 0,
             "ticks": ""
            },
            "colorscale": [
             [
              0,
              "#0d0887"
             ],
             [
              0.1111111111111111,
              "#46039f"
             ],
             [
              0.2222222222222222,
              "#7201a8"
             ],
             [
              0.3333333333333333,
              "#9c179e"
             ],
             [
              0.4444444444444444,
              "#bd3786"
             ],
             [
              0.5555555555555556,
              "#d8576b"
             ],
             [
              0.6666666666666666,
              "#ed7953"
             ],
             [
              0.7777777777777778,
              "#fb9f3a"
             ],
             [
              0.8888888888888888,
              "#fdca26"
             ],
             [
              1,
              "#f0f921"
             ]
            ],
            "type": "heatmapgl"
           }
          ],
          "histogram": [
           {
            "marker": {
             "pattern": {
              "fillmode": "overlay",
              "size": 10,
              "solidity": 0.2
             }
            },
            "type": "histogram"
           }
          ],
          "histogram2d": [
           {
            "colorbar": {
             "outlinewidth": 0,
             "ticks": ""
            },
            "colorscale": [
             [
              0,
              "#0d0887"
             ],
             [
              0.1111111111111111,
              "#46039f"
             ],
             [
              0.2222222222222222,
              "#7201a8"
             ],
             [
              0.3333333333333333,
              "#9c179e"
             ],
             [
              0.4444444444444444,
              "#bd3786"
             ],
             [
              0.5555555555555556,
              "#d8576b"
             ],
             [
              0.6666666666666666,
              "#ed7953"
             ],
             [
              0.7777777777777778,
              "#fb9f3a"
             ],
             [
              0.8888888888888888,
              "#fdca26"
             ],
             [
              1,
              "#f0f921"
             ]
            ],
            "type": "histogram2d"
           }
          ],
          "histogram2dcontour": [
           {
            "colorbar": {
             "outlinewidth": 0,
             "ticks": ""
            },
            "colorscale": [
             [
              0,
              "#0d0887"
             ],
             [
              0.1111111111111111,
              "#46039f"
             ],
             [
              0.2222222222222222,
              "#7201a8"
             ],
             [
              0.3333333333333333,
              "#9c179e"
             ],
             [
              0.4444444444444444,
              "#bd3786"
             ],
             [
              0.5555555555555556,
              "#d8576b"
             ],
             [
              0.6666666666666666,
              "#ed7953"
             ],
             [
              0.7777777777777778,
              "#fb9f3a"
             ],
             [
              0.8888888888888888,
              "#fdca26"
             ],
             [
              1,
              "#f0f921"
             ]
            ],
            "type": "histogram2dcontour"
           }
          ],
          "mesh3d": [
           {
            "colorbar": {
             "outlinewidth": 0,
             "ticks": ""
            },
            "type": "mesh3d"
           }
          ],
          "parcoords": [
           {
            "line": {
             "colorbar": {
              "outlinewidth": 0,
              "ticks": ""
             }
            },
            "type": "parcoords"
           }
          ],
          "pie": [
           {
            "automargin": true,
            "type": "pie"
           }
          ],
          "scatter": [
           {
            "fillpattern": {
             "fillmode": "overlay",
             "size": 10,
             "solidity": 0.2
            },
            "type": "scatter"
           }
          ],
          "scatter3d": [
           {
            "line": {
             "colorbar": {
              "outlinewidth": 0,
              "ticks": ""
             }
            },
            "marker": {
             "colorbar": {
              "outlinewidth": 0,
              "ticks": ""
             }
            },
            "type": "scatter3d"
           }
          ],
          "scattercarpet": [
           {
            "marker": {
             "colorbar": {
              "outlinewidth": 0,
              "ticks": ""
             }
            },
            "type": "scattercarpet"
           }
          ],
          "scattergeo": [
           {
            "marker": {
             "colorbar": {
              "outlinewidth": 0,
              "ticks": ""
             }
            },
            "type": "scattergeo"
           }
          ],
          "scattergl": [
           {
            "marker": {
             "colorbar": {
              "outlinewidth": 0,
              "ticks": ""
             }
            },
            "type": "scattergl"
           }
          ],
          "scattermapbox": [
           {
            "marker": {
             "colorbar": {
              "outlinewidth": 0,
              "ticks": ""
             }
            },
            "type": "scattermapbox"
           }
          ],
          "scatterpolar": [
           {
            "marker": {
             "colorbar": {
              "outlinewidth": 0,
              "ticks": ""
             }
            },
            "type": "scatterpolar"
           }
          ],
          "scatterpolargl": [
           {
            "marker": {
             "colorbar": {
              "outlinewidth": 0,
              "ticks": ""
             }
            },
            "type": "scatterpolargl"
           }
          ],
          "scatterternary": [
           {
            "marker": {
             "colorbar": {
              "outlinewidth": 0,
              "ticks": ""
             }
            },
            "type": "scatterternary"
           }
          ],
          "surface": [
           {
            "colorbar": {
             "outlinewidth": 0,
             "ticks": ""
            },
            "colorscale": [
             [
              0,
              "#0d0887"
             ],
             [
              0.1111111111111111,
              "#46039f"
             ],
             [
              0.2222222222222222,
              "#7201a8"
             ],
             [
              0.3333333333333333,
              "#9c179e"
             ],
             [
              0.4444444444444444,
              "#bd3786"
             ],
             [
              0.5555555555555556,
              "#d8576b"
             ],
             [
              0.6666666666666666,
              "#ed7953"
             ],
             [
              0.7777777777777778,
              "#fb9f3a"
             ],
             [
              0.8888888888888888,
              "#fdca26"
             ],
             [
              1,
              "#f0f921"
             ]
            ],
            "type": "surface"
           }
          ],
          "table": [
           {
            "cells": {
             "fill": {
              "color": "#EBF0F8"
             },
             "line": {
              "color": "white"
             }
            },
            "header": {
             "fill": {
              "color": "#C8D4E3"
             },
             "line": {
              "color": "white"
             }
            },
            "type": "table"
           }
          ]
         },
         "layout": {
          "annotationdefaults": {
           "arrowcolor": "#2a3f5f",
           "arrowhead": 0,
           "arrowwidth": 1
          },
          "autotypenumbers": "strict",
          "coloraxis": {
           "colorbar": {
            "outlinewidth": 0,
            "ticks": ""
           }
          },
          "colorscale": {
           "diverging": [
            [
             0,
             "#8e0152"
            ],
            [
             0.1,
             "#c51b7d"
            ],
            [
             0.2,
             "#de77ae"
            ],
            [
             0.3,
             "#f1b6da"
            ],
            [
             0.4,
             "#fde0ef"
            ],
            [
             0.5,
             "#f7f7f7"
            ],
            [
             0.6,
             "#e6f5d0"
            ],
            [
             0.7,
             "#b8e186"
            ],
            [
             0.8,
             "#7fbc41"
            ],
            [
             0.9,
             "#4d9221"
            ],
            [
             1,
             "#276419"
            ]
           ],
           "sequential": [
            [
             0,
             "#0d0887"
            ],
            [
             0.1111111111111111,
             "#46039f"
            ],
            [
             0.2222222222222222,
             "#7201a8"
            ],
            [
             0.3333333333333333,
             "#9c179e"
            ],
            [
             0.4444444444444444,
             "#bd3786"
            ],
            [
             0.5555555555555556,
             "#d8576b"
            ],
            [
             0.6666666666666666,
             "#ed7953"
            ],
            [
             0.7777777777777778,
             "#fb9f3a"
            ],
            [
             0.8888888888888888,
             "#fdca26"
            ],
            [
             1,
             "#f0f921"
            ]
           ],
           "sequentialminus": [
            [
             0,
             "#0d0887"
            ],
            [
             0.1111111111111111,
             "#46039f"
            ],
            [
             0.2222222222222222,
             "#7201a8"
            ],
            [
             0.3333333333333333,
             "#9c179e"
            ],
            [
             0.4444444444444444,
             "#bd3786"
            ],
            [
             0.5555555555555556,
             "#d8576b"
            ],
            [
             0.6666666666666666,
             "#ed7953"
            ],
            [
             0.7777777777777778,
             "#fb9f3a"
            ],
            [
             0.8888888888888888,
             "#fdca26"
            ],
            [
             1,
             "#f0f921"
            ]
           ]
          },
          "colorway": [
           "#636efa",
           "#EF553B",
           "#00cc96",
           "#ab63fa",
           "#FFA15A",
           "#19d3f3",
           "#FF6692",
           "#B6E880",
           "#FF97FF",
           "#FECB52"
          ],
          "font": {
           "color": "#2a3f5f"
          },
          "geo": {
           "bgcolor": "white",
           "lakecolor": "white",
           "landcolor": "#E5ECF6",
           "showlakes": true,
           "showland": true,
           "subunitcolor": "white"
          },
          "hoverlabel": {
           "align": "left"
          },
          "hovermode": "closest",
          "mapbox": {
           "style": "light"
          },
          "paper_bgcolor": "white",
          "plot_bgcolor": "#E5ECF6",
          "polar": {
           "angularaxis": {
            "gridcolor": "white",
            "linecolor": "white",
            "ticks": ""
           },
           "bgcolor": "#E5ECF6",
           "radialaxis": {
            "gridcolor": "white",
            "linecolor": "white",
            "ticks": ""
           }
          },
          "scene": {
           "xaxis": {
            "backgroundcolor": "#E5ECF6",
            "gridcolor": "white",
            "gridwidth": 2,
            "linecolor": "white",
            "showbackground": true,
            "ticks": "",
            "zerolinecolor": "white"
           },
           "yaxis": {
            "backgroundcolor": "#E5ECF6",
            "gridcolor": "white",
            "gridwidth": 2,
            "linecolor": "white",
            "showbackground": true,
            "ticks": "",
            "zerolinecolor": "white"
           },
           "zaxis": {
            "backgroundcolor": "#E5ECF6",
            "gridcolor": "white",
            "gridwidth": 2,
            "linecolor": "white",
            "showbackground": true,
            "ticks": "",
            "zerolinecolor": "white"
           }
          },
          "shapedefaults": {
           "line": {
            "color": "#2a3f5f"
           }
          },
          "ternary": {
           "aaxis": {
            "gridcolor": "white",
            "linecolor": "white",
            "ticks": ""
           },
           "baxis": {
            "gridcolor": "white",
            "linecolor": "white",
            "ticks": ""
           },
           "bgcolor": "#E5ECF6",
           "caxis": {
            "gridcolor": "white",
            "linecolor": "white",
            "ticks": ""
           }
          },
          "title": {
           "x": 0.05
          },
          "xaxis": {
           "automargin": true,
           "gridcolor": "white",
           "linecolor": "white",
           "ticks": "",
           "title": {
            "standoff": 15
           },
           "zerolinecolor": "white",
           "zerolinewidth": 2
          },
          "yaxis": {
           "automargin": true,
           "gridcolor": "white",
           "linecolor": "white",
           "ticks": "",
           "title": {
            "standoff": 15
           },
           "zerolinecolor": "white",
           "zerolinewidth": 2
          }
         }
        },
        "title": {
         "text": "Global Salmonella Samples (2010 - 2023)"
        },
        "updatemenus": [
         {
          "buttons": [
           {
            "args": [
             null,
             {
              "frame": {
               "duration": 500,
               "redraw": true
              },
              "fromcurrent": true,
              "mode": "immediate",
              "transition": {
               "duration": 500,
               "easing": "linear"
              }
             }
            ],
            "label": "&#9654;",
            "method": "animate"
           },
           {
            "args": [
             [
              null
             ],
             {
              "frame": {
               "duration": 0,
               "redraw": true
              },
              "fromcurrent": true,
              "mode": "immediate",
              "transition": {
               "duration": 0,
               "easing": "linear"
              }
             }
            ],
            "label": "&#9724;",
            "method": "animate"
           }
          ],
          "direction": "left",
          "pad": {
           "r": 10,
           "t": 70
          },
          "showactive": false,
          "type": "buttons",
          "x": 0.1,
          "xanchor": "right",
          "y": 0,
          "yanchor": "top"
         }
        ],
        "width": 1000
       }
      },
      "image/png": "[encoded data removed]",
      "text/html": [
       "<div>                            <div id=\"643e9f4b-3c4d-40a5-b511-5dd31d45741e\" class=\"plotly-graph-div\" style=\"height:600px; width:1000px;\"></div>            <script type=\"text/javascript\">                require([\"plotly\"], function(Plotly) {                    window.PLOTLYENV=window.PLOTLYENV || {};                                    if (document.getElementById(\"643e9f4b-3c4d-40a5-b511-5dd31d45741e\")) {                    Plotly.newPlot(                        \"643e9f4b-3c4d-40a5-b511-5dd31d45741e\",                        [{\"coloraxis\":\"coloraxis\",\"geo\":\"geo\",\"hovertemplate\":\"Year=2010\\u003cbr\\u003eCountry=%{location}\\u003cbr\\u003eSamples=%{z}\\u003cextra\\u003e\\u003c\\u002fextra\\u003e\",\"locationmode\":\"country names\",\"locations\":[\"USA\",\"Malawi\",\"Brazil\"],\"name\":\"\",\"z\":[1,1,1],\"type\":\"choropleth\"}],                        {\"template\":{\"data\":{\"histogram2dcontour\":[{\"type\":\"histogram2dcontour\",\"colorbar\":{\"outlinewidth\":0,\"ticks\":\"\"},\"colorscale\":[[0.0,\"#0d0887\"],[0.1111111111111111,\"#46039f\"],[0.2222222222222222,\"#7201a8\"],[0.3333333333333333,\"#9c179e\"],[0.4444444444444444,\"#bd3786\"],[0.5555555555555556,\"#d8576b\"],[0.6666666666666666,\"#ed7953\"],[0.7777777777777778,\"#fb9f3a\"],[0.8888888888888888,\"#fdca26\"],[1.0,\"#f0f921\"]]}],\"choropleth\":[{\"type\":\"choropleth\",\"colorbar\":{\"outlinewidth\":0,\"ticks\":\"\"}}],\"histogram2d\":[{\"type\":\"histogram2d\",\"colorbar\":{\"outlinewidth\":0,\"ticks\":\"\"},\"colorscale\":[[0.0,\"#0d0887\"],[0.1111111111111111,\"#46039f\"],[0.2222222222222222,\"#7201a8\"],[0.3333333333333333,\"#9c179e\"],[0.4444444444444444,\"#bd3786\"],[0.5555555555555556,\"#d8576b\"],[0.6666666666666666,\"#ed7953\"],[0.7777777777777778,\"#fb9f3a\"],[0.8888888888888888,\"#fdca26\"],[1.0,\"#f0f921\"]]}],\"heatmap\":[{\"type\":\"heatmap\",\"colorbar\":{\"outlinewidth\":0,\"ticks\":\"\"},\"colorscale\":[[0.0,\"#0d0887\"],[0.1111111111111111,\"#46039f\"],[0.2222222222222222,\"#7201a8\"],[0.3333333333333333,\"#9c179e\"],[0.4444444444444444,\"#bd3786\"],[0.5555555555555556,\"#d8576b\"],[0.6666666666666666,\"#ed7953\"],[0.7777777777777778,\"#fb9f3a\"],[0.8888888888888888,\"#fdca26\"],[1.0,\"#f0f921\"]]}],\"heatmapgl\":[{\"type\":\"heatmapgl\",\"colorbar\":{\"outlinewidth\":0,\"ticks\":\"\"},\"colorscale\":[[0.0,\"#0d0887\"],[0.1111111111111111,\"#46039f\"],[0.2222222222222222,\"#7201a8\"],[0.3333333333333333,\"#9c179e\"],[0.4444444444444444,\"#bd3786\"],[0.5555555555555556,\"#d8576b\"],[0.6666666666666666,\"#ed7953\"],[0.7777777777777778,\"#fb9f3a\"],[0.8888888888888888,\"#fdca26\"],[1.0,\"#f0f921\"]]}],\"contourcarpet\":[{\"type\":\"contourcarpet\",\"colorbar\":{\"outlinewidth\":0,\"ticks\":\"\"}}],\"contour\":[{\"type\":\"contour\",\"colorbar\":{\"outlinewidth\":0,\"ticks\":\"\"},\"colorscale\":[[0.0,\"#0d0887\"],[0.1111111111111111,\"#46039f\"],[0.2222222222222222,\"#7201a8\"],[0.3333333333333333,\"#9c179e\"],[0.4444444444444444,\"#bd3786\"],[0.5555555555555556,\"#d8576b\"],[0.6666666666666666,\"#ed7953\"],[0.7777777777777778,\"#fb9f3a\"],[0.8888888888888888,\"#fdca26\"],[1.0,\"#f0f921\"]]}],\"surface\":[{\"type\":\"surface\",\"colorbar\":{\"outlinewidth\":0,\"ticks\":\"\"},\"colorscale\":[[0.0,\"#0d0887\"],[0.1111111111111111,\"#46039f\"],[0.2222222222222222,\"#7201a8\"],[0.3333333333333333,\"#9c179e\"],[0.4444444444444444,\"#bd3786\"],[0.5555555555555556,\"#d8576b\"],[0.6666666666666666,\"#ed7953\"],[0.7777777777777778,\"#fb9f3a\"],[0.8888888888888888,\"#fdca26\"],[1.0,\"#f0f921\"]]}],\"mesh3d\":[{\"type\":\"mesh3d\",\"colorbar\":{\"outlinewidth\":0,\"ticks\":\"\"}}],\"scatter\":[{\"fillpattern\":{\"fillmode\":\"overlay\",\"size\":10,\"solidity\":0.2},\"type\":\"scatter\"}],\"parcoords\":[{\"type\":\"parcoords\",\"line\":{\"colorbar\":{\"outlinewidth\":0,\"ticks\":\"\"}}}],\"scatterpolargl\":[{\"type\":\"scatterpolargl\",\"marker\":{\"colorbar\":{\"outlinewidth\":0,\"ticks\":\"\"}}}],\"bar\":[{\"error_x\":{\"color\":\"#2a3f5f\"},\"error_y\":{\"color\":\"#2a3f5f\"},\"marker\":{\"line\":{\"color\":\"#E5ECF6\",\"width\":0.5},\"pattern\":{\"fillmode\":\"overlay\",\"size\":10,\"solidity\":0.2}},\"type\":\"bar\"}],\"scattergeo\":[{\"type\":\"scattergeo\",\"marker\":{\"colorbar\":{\"outlinewidth\":0,\"ticks\":\"\"}}}],\"scatterpolar\":[{\"type\":\"scatterpolar\",\"marker\":{\"colorbar\":{\"outlinewidth\":0,\"ticks\":\"\"}}}],\"histogram\":[{\"marker\":{\"pattern\":{\"fillmode\":\"overlay\",\"size\":10,\"solidity\":0.2}},\"type\":\"histogram\"}],\"scattergl\":[{\"type\":\"scattergl\",\"marker\":{\"colorbar\":{\"outlinewidth\":0,\"ticks\":\"\"}}}],\"scatter3d\":[{\"type\":\"scatter3d\",\"line\":{\"colorbar\":{\"outlinewidth\":0,\"ticks\":\"\"}},\"marker\":{\"colorbar\":{\"outlinewidth\":0,\"ticks\":\"\"}}}],\"scattermapbox\":[{\"type\":\"scattermapbox\",\"marker\":{\"colorbar\":{\"outlinewidth\":0,\"ticks\":\"\"}}}],\"scatterternary\":[{\"type\":\"scatterternary\",\"marker\":{\"colorbar\":{\"outlinewidth\":0,\"ticks\":\"\"}}}],\"scattercarpet\":[{\"type\":\"scattercarpet\",\"marker\":{\"colorbar\":{\"outlinewidth\":0,\"ticks\":\"\"}}}],\"carpet\":[{\"aaxis\":{\"endlinecolor\":\"#2a3f5f\",\"gridcolor\":\"white\",\"linecolor\":\"white\",\"minorgridcolor\":\"white\",\"startlinecolor\":\"#2a3f5f\"},\"baxis\":{\"endlinecolor\":\"#2a3f5f\",\"gridcolor\":\"white\",\"linecolor\":\"white\",\"minorgridcolor\":\"white\",\"startlinecolor\":\"#2a3f5f\"},\"type\":\"carpet\"}],\"table\":[{\"cells\":{\"fill\":{\"color\":\"#EBF0F8\"},\"line\":{\"color\":\"white\"}},\"header\":{\"fill\":{\"color\":\"#C8D4E3\"},\"line\":{\"color\":\"white\"}},\"type\":\"table\"}],\"barpolar\":[{\"marker\":{\"line\":{\"color\":\"#E5ECF6\",\"width\":0.5},\"pattern\":{\"fillmode\":\"overlay\",\"size\":10,\"solidity\":0.2}},\"type\":\"barpolar\"}],\"pie\":[{\"automargin\":true,\"type\":\"pie\"}]},\"layout\":{\"autotypenumbers\":\"strict\",\"colorway\":[\"#636efa\",\"#EF553B\",\"#00cc96\",\"#ab63fa\",\"#FFA15A\",\"#19d3f3\",\"#FF6692\",\"#B6E880\",\"#FF97FF\",\"#FECB52\"],\"font\":{\"color\":\"#2a3f5f\"},\"hovermode\":\"closest\",\"hoverlabel\":{\"align\":\"left\"},\"paper_bgcolor\":\"white\",\"plot_bgcolor\":\"#E5ECF6\",\"polar\":{\"bgcolor\":\"#E5ECF6\",\"angularaxis\":{\"gridcolor\":\"white\",\"linecolor\":\"white\",\"ticks\":\"\"},\"radialaxis\":{\"gridcolor\":\"white\",\"linecolor\":\"white\",\"ticks\":\"\"}},\"ternary\":{\"bgcolor\":\"#E5ECF6\",\"aaxis\":{\"gridcolor\":\"white\",\"linecolor\":\"white\",\"ticks\":\"\"},\"baxis\":{\"gridcolor\":\"white\",\"linecolor\":\"white\",\"ticks\":\"\"},\"caxis\":{\"gridcolor\":\"white\",\"linecolor\":\"white\",\"ticks\":\"\"}},\"coloraxis\":{\"colorbar\":{\"outlinewidth\":0,\"ticks\":\"\"}},\"colorscale\":{\"sequential\":[[0.0,\"#0d0887\"],[0.1111111111111111,\"#46039f\"],[0.2222222222222222,\"#7201a8\"],[0.3333333333333333,\"#9c179e\"],[0.4444444444444444,\"#bd3786\"],[0.5555555555555556,\"#d8576b\"],[0.6666666666666666,\"#ed7953\"],[0.7777777777777778,\"#fb9f3a\"],[0.8888888888888888,\"#fdca26\"],[1.0,\"#f0f921\"]],\"sequentialminus\":[[0.0,\"#0d0887\"],[0.1111111111111111,\"#46039f\"],[0.2222222222222222,\"#7201a8\"],[0.3333333333333333,\"#9c179e\"],[0.4444444444444444,\"#bd3786\"],[0.5555555555555556,\"#d8576b\"],[0.6666666666666666,\"#ed7953\"],[0.7777777777777778,\"#fb9f3a\"],[0.8888888888888888,\"#fdca26\"],[1.0,\"#f0f921\"]],\"diverging\":[[0,\"#8e0152\"],[0.1,\"#c51b7d\"],[0.2,\"#de77ae\"],[0.3,\"#f1b6da\"],[0.4,\"#fde0ef\"],[0.5,\"#f7f7f7\"],[0.6,\"#e6f5d0\"],[0.7,\"#b8e186\"],[0.8,\"#7fbc41\"],[0.9,\"#4d9221\"],[1,\"#276419\"]]},\"xaxis\":{\"gridcolor\":\"white\",\"linecolor\":\"white\",\"ticks\":\"\",\"title\":{\"standoff\":15},\"zerolinecolor\":\"white\",\"automargin\":true,\"zerolinewidth\":2},\"yaxis\":{\"gridcolor\":\"white\",\"linecolor\":\"white\",\"ticks\":\"\",\"title\":{\"standoff\":15},\"zerolinecolor\":\"white\",\"automargin\":true,\"zerolinewidth\":2},\"scene\":{\"xaxis\":{\"backgroundcolor\":\"#E5ECF6\",\"gridcolor\":\"white\",\"linecolor\":\"white\",\"showbackground\":true,\"ticks\":\"\",\"zerolinecolor\":\"white\",\"gridwidth\":2},\"yaxis\":{\"backgroundcolor\":\"#E5ECF6\",\"gridcolor\":\"white\",\"linecolor\":\"white\",\"showbackground\":true,\"ticks\":\"\",\"zerolinecolor\":\"white\",\"gridwidth\":2},\"zaxis\":{\"backgroundcolor\":\"#E5ECF6\",\"gridcolor\":\"white\",\"linecolor\":\"white\",\"showbackground\":true,\"ticks\":\"\",\"zerolinecolor\":\"white\",\"gridwidth\":2}},\"shapedefaults\":{\"line\":{\"color\":\"#2a3f5f\"}},\"annotationdefaults\":{\"arrowcolor\":\"#2a3f5f\",\"arrowhead\":0,\"arrowwidth\":1},\"geo\":{\"bgcolor\":\"white\",\"landcolor\":\"#E5ECF6\",\"subunitcolor\":\"white\",\"showland\":true,\"showlakes\":true,\"lakecolor\":\"white\"},\"title\":{\"x\":0.05},\"mapbox\":{\"style\":\"light\"}}},\"geo\":{\"domain\":{\"x\":[0.0,1.0],\"y\":[0.0,1.0]},\"projection\":{\"type\":\"natural earth\"},\"center\":{}},\"coloraxis\":{\"colorbar\":{\"title\":{\"text\":\"Samples\"}},\"colorscale\":[[0.0,\"rgb(255,245,240)\"],[0.125,\"rgb(254,224,210)\"],[0.25,\"rgb(252,187,161)\"],[0.375,\"rgb(252,146,114)\"],[0.5,\"rgb(251,106,74)\"],[0.625,\"rgb(239,59,44)\"],[0.75,\"rgb(203,24,29)\"],[0.875,\"rgb(165,15,21)\"],[1.0,\"rgb(103,0,13)\"]]},\"legend\":{\"tracegroupgap\":0},\"title\":{\"text\":\"Global Salmonella Samples (2010 - 2023)\"},\"updatemenus\":[{\"buttons\":[{\"args\":[null,{\"frame\":{\"duration\":500,\"redraw\":true},\"mode\":\"immediate\",\"fromcurrent\":true,\"transition\":{\"duration\":500,\"easing\":\"linear\"}}],\"label\":\"&#9654;\",\"method\":\"animate\"},{\"args\":[[null],{\"frame\":{\"duration\":0,\"redraw\":true},\"mode\":\"immediate\",\"fromcurrent\":true,\"transition\":{\"duration\":0,\"easing\":\"linear\"}}],\"label\":\"&#9724;\",\"method\":\"animate\"}],\"direction\":\"left\",\"pad\":{\"r\":10,\"t\":70},\"showactive\":false,\"type\":\"buttons\",\"x\":0.1,\"xanchor\":\"right\",\"y\":0,\"yanchor\":\"top\"}],\"sliders\":[{\"active\":0,\"currentvalue\":{\"prefix\":\"Year=\"},\"len\":0.9,\"pad\":{\"b\":10,\"t\":60},\"steps\":[{\"args\":[[\"2010\"],{\"frame\":{\"duration\":0,\"redraw\":true},\"mode\":\"immediate\",\"fromcurrent\":true,\"transition\":{\"duration\":0,\"easing\":\"linear\"}}],\"label\":\"2010\",\"method\":\"animate\"},{\"args\":[[\"2011\"],{\"frame\":{\"duration\":0,\"redraw\":true},\"mode\":\"immediate\",\"fromcurrent\":true,\"transition\":{\"duration\":0,\"easing\":\"linear\"}}],\"label\":\"2011\",\"method\":\"animate\"},{\"args\":[[\"2012\"],{\"frame\":{\"duration\":0,\"redraw\":true},\"mode\":\"immediate\",\"fromcurrent\":true,\"transition\":{\"duration\":0,\"easing\":\"linear\"}}],\"label\":\"2012\",\"method\":\"animate\"},{\"args\":[[\"2013\"],{\"frame\":{\"duration\":0,\"redraw\":true},\"mode\":\"immediate\",\"fromcurrent\":true,\"transition\":{\"duration\":0,\"easing\":\"linear\"}}],\"label\":\"2013\",\"method\":\"animate\"},{\"args\":[[\"2014\"],{\"frame\":{\"duration\":0,\"redraw\":true},\"mode\":\"immediate\",\"fromcurrent\":true,\"transition\":{\"duration\":0,\"easing\":\"linear\"}}],\"label\":\"2014\",\"method\":\"animate\"},{\"args\":[[\"2015\"],{\"frame\":{\"duration\":0,\"redraw\":true},\"mode\":\"immediate\",\"fromcurrent\":true,\"transition\":{\"duration\":0,\"easing\":\"linear\"}}],\"label\":\"2015\",\"method\":\"animate\"},{\"args\":[[\"2016\"],{\"frame\":{\"duration\":0,\"redraw\":true},\"mode\":\"immediate\",\"fromcurrent\":true,\"transition\":{\"duration\":0,\"easing\":\"linear\"}}],\"label\":\"2016\",\"method\":\"animate\"},{\"args\":[[\"2017\"],{\"frame\":{\"duration\":0,\"redraw\":true},\"mode\":\"immediate\",\"fromcurrent\":true,\"transition\":{\"duration\":0,\"easing\":\"linear\"}}],\"label\":\"2017\",\"method\":\"animate\"},{\"args\":[[\"2018\"],{\"frame\":{\"duration\":0,\"redraw\":true},\"mode\":\"immediate\",\"fromcurrent\":true,\"transition\":{\"duration\":0,\"easing\":\"linear\"}}],\"label\":\"2018\",\"method\":\"animate\"},{\"args\":[[\"2019\"],{\"frame\":{\"duration\":0,\"redraw\":true},\"mode\":\"immediate\",\"fromcurrent\":true,\"transition\":{\"duration\":0,\"easing\":\"linear\"}}],\"label\":\"2019\",\"method\":\"animate\"},{\"args\":[[\"2020\"],{\"frame\":{\"duration\":0,\"redraw\":true},\"mode\":\"immediate\",\"fromcurrent\":true,\"transition\":{\"duration\":0,\"easing\":\"linear\"}}],\"label\":\"2020\",\"method\":\"animate\"},{\"args\":[[\"2021\"],{\"frame\":{\"duration\":0,\"redraw\":true},\"mode\":\"immediate\",\"fromcurrent\":true,\"transition\":{\"duration\":0,\"easing\":\"linear\"}}],\"label\":\"2021\",\"method\":\"animate\"},{\"args\":[[\"2022\"],{\"frame\":{\"duration\":0,\"redraw\":true},\"mode\":\"immediate\",\"fromcurrent\":true,\"transition\":{\"duration\":0,\"easing\":\"linear\"}}],\"label\":\"2022\",\"method\":\"animate\"},{\"args\":[[\"2023\"],{\"frame\":{\"duration\":0,\"redraw\":true},\"mode\":\"immediate\",\"fromcurrent\":true,\"transition\":{\"duration\":0,\"easing\":\"linear\"}}],\"label\":\"2023\",\"method\":\"animate\"}],\"x\":0.1,\"xanchor\":\"left\",\"y\":0,\"yanchor\":\"top\"}],\"margin\":{\"r\":0,\"t\":30,\"l\":0,\"b\":0},\"width\":1000,\"height\":600},                        {\"responsive\": true}                    ).then(function(){\n",
       "                            Plotly.addFrames('643e9f4b-3c4d-40a5-b511-5dd31d45741e', [{\"data\":[{\"coloraxis\":\"coloraxis\",\"geo\":\"geo\",\"hovertemplate\":\"Year=2010\\u003cbr\\u003eCountry=%{location}\\u003cbr\\u003eSamples=%{z}\\u003cextra\\u003e\\u003c\\u002fextra\\u003e\",\"locationmode\":\"country names\",\"locations\":[\"USA\",\"Malawi\",\"Brazil\"],\"name\":\"\",\"z\":[1,1,1],\"type\":\"choropleth\"}],\"name\":\"2010\"},{\"data\":[{\"coloraxis\":\"coloraxis\",\"geo\":\"geo\",\"hovertemplate\":\"Year=2011\\u003cbr\\u003eCountry=%{location}\\u003cbr\\u003eSamples=%{z}\\u003cextra\\u003e\\u003c\\u002fextra\\u003e\",\"locationmode\":\"country names\",\"locations\":[\"United Kingdom\"],\"name\":\"\",\"z\":[1],\"type\":\"choropleth\"}],\"name\":\"2011\"},{\"data\":[{\"coloraxis\":\"coloraxis\",\"geo\":\"geo\",\"hovertemplate\":\"Year=2012\\u003cbr\\u003eCountry=%{location}\\u003cbr\\u003eSamples=%{z}\\u003cextra\\u003e\\u003c\\u002fextra\\u003e\",\"locationmode\":\"country names\",\"locations\":[\"China\",\"France\",\"India\",\"Mexico\",\"Malaysia\",\"USA\",\"Viet Nam\",\"Hong Kong\"],\"name\":\"\",\"z\":[3,1,2,1,5,112,3,1],\"type\":\"choropleth\"}],\"name\":\"2012\"},{\"data\":[{\"coloraxis\":\"coloraxis\",\"geo\":\"geo\",\"hovertemplate\":\"Year=2013\\u003cbr\\u003eCountry=%{location}\\u003cbr\\u003eSamples=%{z}\\u003cextra\\u003e\\u003c\\u002fextra\\u003e\",\"locationmode\":\"country names\",\"locations\":[\"Denmark\",\"USA\",\"Austria\",\"China\",\"Guatemala\",\"United Arab Emirates\",\"Thailand\",\"Israel\",\"Guyana\",\"Mexico\",\"Ireland\",\"Dominican Republic\",\"Switzerland\",\"United Kingdom\",\"India\",\"Philippines\",\"Germany\",\"Viet Nam\",\"Hong Kong\",\"Ghana\",\"Australia\",\"Egypt\"],\"name\":\"\",\"z\":[2,322,1,17,2,2,3,2,1,6,36,1,1,15,4,1,7,7,1,1,10,1],\"type\":\"choropleth\"}],\"name\":\"2013\"},{\"data\":[{\"coloraxis\":\"coloraxis\",\"geo\":\"geo\",\"hovertemplate\":\"Year=2014\\u003cbr\\u003eCountry=%{location}\\u003cbr\\u003eSamples=%{z}\\u003cextra\\u003e\\u003c\\u002fextra\\u003e\",\"locationmode\":\"country names\",\"locations\":[\"Mexico\",\"Denmark\",\"Morocco\",\"Costa Rica\",\"Comoros\",\"Niger\",\"Myanmar\",\"Colombia\",\"Nicaragua\",\"China\",\"Chile\",\"Pakistan\",\"Chad\",\"Central African Republic\",\"Panama\",\"Peru\",\"Canada\",\"Philippines\",\"Cameroon\",\"Puerto Rico\",\"Mozambique\",\"Mauritius\",\"Netherlands\",\"Mali\",\"Guatemala\",\"Greece\",\"Haiti\",\"Honduras\",\"Ghana\",\"Hong Kong\",\"Hungary\",\"India\",\"Gabon\",\"Indonesia\",\"Ireland\",\"France\",\"Israel\",\"Jamaica\",\"Ethiopia\",\"Japan\",\"El Salvador\",\"Jordan\",\"Kenya\",\"Egypt\",\"Lebanon\",\"Lithuania\",\"Madagascar\",\"Rwanda\",\"Ecuador\",\"Malawi\",\"Malaysia\",\"Dominican Republic\",\"Djibouti\",\"Mauritania\",\"Senegal\",\"Guinea\",\"United Kingdom\",\"Sri Lanka\",\"USA\",\"Bangladesh\",\"Spain\",\"United Arab Emirates\",\"Tunisia\",\"Bulgaria\",\"Australia\",\"Thailand\",\"Belgium\",\"South Africa\",\"Uganda\",\"Viet Nam\",\"Argentina\",\"Brazil\",\"Angola\",\"Singapore\",\"Benin\",\"Belize\",\"Algeria\"],\"name\":\"\",\"z\":[88,18,5,1,2,2,3,1,1,11,33,7,1,3,2,2,40,5,4,4,1,6,15,55,1,2,2,1,13,2,2,54,1,8,1,1,1,1,1,2,2,1,1,2,3,1,5,2,1,2,1,2,1,2,17,2,171,4,2739,9,3,1,3,1,3,7,1,134,7,29,1,7,1,2,1,1,1],\"type\":\"choropleth\"}],\"name\":\"2014\"},{\"data\":[{\"coloraxis\":\"coloraxis\",\"geo\":\"geo\",\"hovertemplate\":\"Year=2015\\u003cbr\\u003eCountry=%{location}\\u003cbr\\u003eSamples=%{z}\\u003cextra\\u003e\\u003c\\u002fextra\\u003e\",\"locationmode\":\"country names\",\"locations\":[\"Egypt\",\"Mexico\",\"USA\",\"Belize\",\"Lebanon\",\"Bangladesh\",\"Ecuador\",\"Denmark\",\"Senegal\",\"Malawi\",\"Dominican Republic\",\"Suriname\",\"Thailand\",\"Jordan\",\"Malaysia\",\"Belgium\",\"Switzerland\",\"Cambodia\",\"Jamaica\",\"Japan\",\"Guatemala\",\"Guyana\",\"Viet Nam\",\"Haiti\",\"Honduras\",\"Ghana\",\"Argentina\",\"Hong Kong\",\"Hungary\",\"Germany\",\"Iceland\",\"United Kingdom\",\"India\",\"Australia\",\"Indonesia\",\"United Arab Emirates\",\"France\",\"Israel\",\"Finland\",\"Italy\",\"Fiji\",\"Croatia\",\"Ethiopia\",\"Austria\",\"Uganda\",\"El Salvador\",\"Mongolia\",\"Albania\",\"Canada\",\"Panama\",\"Nicaragua\",\"Bulgaria\",\"Chile\",\"Netherlands\",\"China\",\"Philippines\",\"Brazil\",\"Colombia\",\"Guinea\",\"Peru\",\"Nepal\",\"Burkina Faso\",\"Pakistan\",\"Portugal\",\"South Africa\",\"Spain\",\"Myanmar\",\"Norway\",\"Morocco\",\"Sri Lanka\",\"Costa Rica\",\"Singapore\",\"Nigeria\"],\"name\":\"\",\"z\":[28,736,13398,2,34,72,11,51,4,7,6,3,103,12,24,30,2,208,7,5,14,3,303,2,8,9,13,28,1,6,1,9383,395,9,180,2,36,9,1,7,3,1,8,1,1,6,1,5,174,3,6,5,5,3,170,58,31,25,2,12,40,2,29,2,2,3,11,1,8,13,11,15,30],\"type\":\"choropleth\"}],\"name\":\"2015\"},{\"data\":[{\"coloraxis\":\"coloraxis\",\"geo\":\"geo\",\"hovertemplate\":\"Year=2016\\u003cbr\\u003eCountry=%{location}\\u003cbr\\u003eSamples=%{z}\\u003cextra\\u003e\\u003c\\u002fextra\\u003e\",\"locationmode\":\"country names\",\"locations\":[\"India\",\"Panama\",\"Fiji\",\"Norway\",\"Finland\",\"Pakistan\",\"Israel\",\"United Arab Emirates\",\"Ireland\",\"South Africa\",\"France\",\"Ukraine\",\"Indonesia\",\"Australia\",\"Italy\",\"Peru\",\"Guinea\",\"Guatemala\",\"Saudi Arabia\",\"Albania\",\"Viet Nam\",\"Saint Lucia\",\"Grenada\",\"Guyana\",\"Greece\",\"Georgia\",\"Portugal\",\"Honduras\",\"Ghana\",\"Philippines\",\"Singapore\",\"Argentina\",\"Hong Kong\",\"Germany\",\"Canada\",\"United Kingdom\",\"Haiti\",\"Uganda\",\"Trinidad and Tobago\",\"Jamaica\",\"Brazil\",\"Lebanon\",\"Bangladesh\",\"Ecuador\",\"Chile\",\"Netherlands\",\"Dominican Republic\",\"Thailand\",\"Colombia\",\"Malaysia\",\"Denmark\",\"Myanmar\",\"Sri Lanka\",\"Costa Rica\",\"Mexico\",\"Morocco\",\"Mongolia\",\"China\",\"Egypt\",\"New Zealand\",\"El Salvador\",\"Kenya\",\"USA\",\"Nigeria\",\"Ethiopia\",\"Jordan\",\"Spain\",\"Japan\"],\"name\":\"\",\"z\":[139,2,1,1,1,14,9,1,1,12,21,1,31,119,18,92,4,2,1,6,131,1,1,3,4,2,2,5,2,26,2,40,3,7,261,1552,8,2,6,1,113,5,17,5,83,2,23,165,13,13,2,12,3,1,416,4,1,47,16,1,4,76,14415,46,302,3,11,1],\"type\":\"choropleth\"}],\"name\":\"2016\"},{\"data\":[{\"coloraxis\":\"coloraxis\",\"geo\":\"geo\",\"hovertemplate\":\"Year=2017\\u003cbr\\u003eCountry=%{location}\\u003cbr\\u003eSamples=%{z}\\u003cextra\\u003e\\u003c\\u002fextra\\u003e\",\"locationmode\":\"country names\",\"locations\":[\"Philippines\",\"Malaysia\",\"Malta\",\"Myanmar\",\"Switzerland\",\"Portugal\",\"Mauritius\",\"Indonesia\",\"Guyana\",\"Suriname\",\"Jamaica\",\"Nigeria\",\"Viet Nam\",\"Mexico\",\"Sri Lanka\",\"Italy\",\"South Africa\",\"Israel\",\"Uganda\",\"Thailand\",\"Spain\",\"Ireland\",\"Pakistan\",\"India\",\"Lebanon\",\"New Zealand\",\"United Arab Emirates\",\"Madagascar\",\"Vanuatu\",\"Peru\",\"Netherlands\",\"Trinidad and Tobago\",\"Nicaragua\",\"United Kingdom\",\"Hong Kong\",\"Malawi\",\"Singapore\",\"Tonga\",\"USA\",\"Mongolia\",\"Japan\",\"Croatia\",\"Belarus\",\"Albania\",\"Barbados\",\"Germany\",\"China\",\"Colombia\",\"Costa Rica\",\"Bangladesh\",\"Belgium\",\"Gambia\",\"Dominican Republic\",\"French Guiana\",\"Ecuador\",\"Egypt\",\"Australia\",\"El Salvador\",\"Ethiopia\",\"France\",\"Denmark\",\"Ghana\",\"Argentina\",\"Canada\",\"Brazil\",\"Bulgaria\",\"Cambodia\",\"Guam\",\"Belize\",\"Cameroon\"],\"name\":\"\",\"z\":[3,4,1,9,31,1,3,25,14,6,4,48,35,187,4,5,1,3,58,14,4,1,9,92,8,121,1,1,2,5,1,10,1,6978,2,1,1,1,34504,1,1,4,2,4,29,23,123,10,1,25,3,1,13,1,14,11,546,2,63,8,91,4,17,1113,371,1,1,1,25,5],\"type\":\"choropleth\"}],\"name\":\"2017\"},{\"data\":[{\"coloraxis\":\"coloraxis\",\"geo\":\"geo\",\"hovertemplate\":\"Year=2018\\u003cbr\\u003eCountry=%{location}\\u003cbr\\u003eSamples=%{z}\\u003cextra\\u003e\\u003c\\u002fextra\\u003e\",\"locationmode\":\"country names\",\"locations\":[\"Malaysia\",\"Dominican Republic\",\"Austria\",\"Uganda\",\"Spain\",\"Ecuador\",\"Lebanon\",\"Kyrgyzstan\",\"Kenya\",\"Canada\",\"Jordan\",\"Australia\",\"Japan\",\"Serbia\",\"El Salvador\",\"United Arab Emirates\",\"Jamaica\",\"Singapore\",\"Ethiopia\",\"Italy\",\"Argentina\",\"Brazil\",\"Egypt\",\"Denmark\",\"Bahamas\",\"Paraguay\",\"Peru\",\"Panama\",\"Sweden\",\"Switzerland\",\"Pakistan\",\"Norway\",\"Chile\",\"Cameroon\",\"Nigeria\",\"Philippines\",\"Suriname\",\"Thailand\",\"Poland\",\"China\",\"Portugal\",\"Israel\",\"Colombia\",\"Myanmar\",\"Puerto Rico\",\"Costa Rica\",\"Bangladesh\",\"Sri Lanka\",\"Mexico\",\"Rwanda\",\"USA\",\"Nepal\",\"South Africa\",\"Georgia\",\"Hungary\",\"Indonesia\",\"Hong Kong\",\"Haiti\",\"Guyana\",\"Germany\",\"France\",\"India\",\"Ghana\",\"Honduras\",\"Albania\",\"Gambia\",\"United Kingdom\",\"Viet Nam\"],\"name\":\"\",\"z\":[3,5,1,1,12,169,49,1,14,165,1,4,1,1,2,1,4,76,4,151,8,495,7,6,20,2,126,1,3,6,20,7,94,1,214,6,1,13,22,93,1,6,61,4,4,4,1,2,329,2,45614,2,4,1,1,80,4,2,4,292,148,92,46,5,4,1,20079,22],\"type\":\"choropleth\"}],\"name\":\"2018\"},{\"data\":[{\"coloraxis\":\"coloraxis\",\"geo\":\"geo\",\"hovertemplate\":\"Year=2019\\u003cbr\\u003eCountry=%{location}\\u003cbr\\u003eSamples=%{z}\\u003cextra\\u003e\\u003c\\u002fextra\\u003e\",\"locationmode\":\"country names\",\"locations\":[\"Nicaragua\",\"Costa Rica\",\"Thailand\",\"Morocco\",\"Haiti\",\"Senegal\",\"Malawi\",\"Mongolia\",\"Philippines\",\"Spain\",\"Uganda\",\"China\",\"Sri Lanka\",\"Dominican Republic\",\"Lebanon\",\"Indonesia\",\"Antarctica\",\"Bahamas\",\"South Africa\",\"Paraguay\",\"Colombia\",\"Mexico\",\"Myanmar\",\"India\",\"Denmark\",\"Rwanda\",\"Bangladesh\",\"Mali\",\"Mozambique\",\"USA\",\"Nepal\",\"Malaysia\",\"Cambodia\",\"Tunisia\",\"Guyana\",\"Israel\",\"Peru\",\"Sweden\",\"Singapore\",\"Japan\",\"France\",\"Ireland\",\"Pakistan\",\"United Kingdom\",\"Ethiopia\",\"Switzerland\",\"Italy\",\"Honduras\",\"Viet Nam\",\"Canada\",\"Bulgaria\",\"Guatemala\",\"Germany\",\"Ghana\",\"Ecuador\",\"Brazil\",\"Sierra Leone\",\"Kenya\",\"Nigeria\",\"Chile\",\"Cameroon\",\"Australia\"],\"name\":\"\",\"z\":[1,2,50,1,1,78,124,1,2,35,8,103,81,4,89,91,1,3,5,32,54,174,1,53,420,33,553,11,11,54925,5,2,80,38,3,23,26,3,46,1,6,787,8,14120,12,79,2,1,19,720,1,2,1234,21,94,189,2,2,73,139,16,301],\"type\":\"choropleth\"}],\"name\":\"2019\"},{\"data\":[{\"coloraxis\":\"coloraxis\",\"geo\":\"geo\",\"hovertemplate\":\"Year=2020\\u003cbr\\u003eCountry=%{location}\\u003cbr\\u003eSamples=%{z}\\u003cextra\\u003e\\u003c\\u002fextra\\u003e\",\"locationmode\":\"country names\",\"locations\":[\"Belarus\",\"Pakistan\",\"Portugal\",\"Colombia\",\"Sri Lanka\",\"Hungary\",\"Belgium\",\"Thailand\",\"Chile\",\"Canada\",\"Tunisia\",\"Morocco\",\"Ghana\",\"Viet Nam\",\"Nigeria\",\"Germany\",\"Namibia\",\"China\",\"Togo\",\"Norway\",\"Netherlands\",\"Finland\",\"Poland\",\"Philippines\",\"Bangladesh\",\"Peru\",\"Nepal\",\"Hong Kong\",\"Chad\",\"Niger\",\"Central African Republic\",\"Cameroon\",\"Albania\",\"Georgia\",\"Trinidad and Tobago\",\"Sudan\",\"Switzerland\",\"Myanmar\",\"Barbados\",\"Cuba\",\"Lebanon\",\"Luxembourg\",\"Uganda\",\"Senegal\",\"Algeria\",\"Indonesia\",\"Ecuador\",\"Grenada\",\"Serbia\",\"Ukraine\",\"Kuwait\",\"Australia\",\"Sierra Leone\",\"Iraq\",\"Jordan\",\"Burkina Faso\",\"Egypt\",\"United Kingdom\",\"Israel\",\"Argentina\",\"South Africa\",\"Ethiopia\",\"Italy\",\"Brazil\",\"Madagascar\",\"Ireland\",\"United Arab Emirates\",\"Zimbabwe\",\"France\",\"Japan\",\"Guinea\",\"Bulgaria\",\"Singapore\",\"Uruguay\",\"Sweden\",\"Benin\",\"Cyprus\",\"Mauritania\",\"Denmark\",\"Spain\",\"Romania\",\"Guyana\",\"Croatia\",\"Mali\",\"USA\",\"India\",\"Djibouti\",\"Cambodia\",\"Mexico\",\"French Guiana\",\"Zambia\",\"Austria\",\"Malawi\",\"Greece\",\"Gambia\"],\"name\":\"\",\"z\":[1,24,60,1,5,3,69,101,588,2444,89,19,1,24,7,833,5,1211,2,9,243,9,37,15,14,229,5,1,1,2,1,2,1,20,122,1,146,6,21,1,91,9,12,29,3,26,127,44,7,1,18,3735,1,24,7,107,10,5536,20,5,503,1,291,220,1,801,16,3,50,121,4,1,47,1,69,10,4,1,401,23,1,3,1,282,53858,214,1,10,481,2,3,27,4,9,1],\"type\":\"choropleth\"}],\"name\":\"2020\"},{\"data\":[{\"coloraxis\":\"coloraxis\",\"geo\":\"geo\",\"hovertemplate\":\"Year=2021\\u003cbr\\u003eCountry=%{location}\\u003cbr\\u003eSamples=%{z}\\u003cextra\\u003e\\u003c\\u002fextra\\u003e\",\"locationmode\":\"country names\",\"locations\":[\"Slovakia\",\"Romania\",\"Yemen\",\"Puerto Rico\",\"South Africa\",\"Portugal\",\"Singapore\",\"Brazil\",\"Slovenia\",\"Spain\",\"Bulgaria\",\"Peru\",\"Viet Nam\",\"Cameroon\",\"Rwanda\",\"Burkina Faso\",\"Sierra Leone\",\"Sudan\",\"Serbia\",\"Poland\",\"Greece\",\"Ghana\",\"Senegal\",\"Saudi Arabia\",\"Philippines\",\"Sri Lanka\",\"Cambodia\",\"Guatemala\",\"Paraguay\",\"Lebanon\",\"Uganda\",\"Luxembourg\",\"Madagascar\",\"Dominican Republic\",\"Malawi\",\"Ecuador\",\"Uruguay\",\"Denmark\",\"Mali\",\"Austria\",\"Cyprus\",\"Croatia\",\"Mexico\",\"USA\",\"Australia\",\"Latvia\",\"Indonesia\",\"Israel\",\"Finland\",\"Fiji\",\"Argentina\",\"Italy\",\"Ireland\",\"United Arab Emirates\",\"Jamaica\",\"Japan\",\"France\",\"Egypt\",\"Iraq\",\"Jordan\",\"United Kingdom\",\"Kenya\",\"Gambia\",\"Tunisia\",\"India\",\"Morocco\",\"Hong Kong\",\"Chile\",\"Thailand\",\"New Zealand\",\"Costa Rica\",\"Norway\",\"Togo\",\"Netherlands\",\"Switzerland\",\"China\",\"Bangladesh\",\"Oman\",\"Nigeria\",\"Central African Republic\",\"Hungary\",\"Nepal\",\"Belgium\",\"Colombia\",\"Iceland\",\"Papua New Guinea\",\"Germany\",\"Canada\",\"Namibia\",\"Pakistan\",\"Trinidad and Tobago\",\"Myanmar\",\"North Macedonia\"],\"name\":\"\",\"z\":[3,17,7,4,2377,26,12,165,1,111,3,122,36,6,48,4,10,3,8,437,3,1,17,3,2,5,25,7,2,6,65,19,1,1,78,115,1,419,11,66,9,2,80,41550,2449,2,26,5,46,1,4,428,218,2,2,242,60,3,12,7,6538,146,9,37,87,1,99,141,72,456,18,34,8,57,17,951,15,3,208,10,76,8,48,99,3,41,578,7796,4,74,11,7,2],\"type\":\"choropleth\"}],\"name\":\"2021\"},{\"data\":[{\"coloraxis\":\"coloraxis\",\"geo\":\"geo\",\"hovertemplate\":\"Year=2022\\u003cbr\\u003eCountry=%{location}\\u003cbr\\u003eSamples=%{z}\\u003cextra\\u003e\\u003c\\u002fextra\\u003e\",\"locationmode\":\"country names\",\"locations\":[\"United Arab Emirates\",\"Armenia\",\"South Africa\",\"Switzerland\",\"Argentina\",\"Zambia\",\"United Kingdom\",\"Thailand\",\"Uganda\",\"Belgium\",\"Australia\",\"Spain\",\"Sudan\",\"USA\",\"Benin\",\"Algeria\",\"Sweden\",\"Viet Nam\",\"Austria\",\"Trinidad and Tobago\",\"Suriname\",\"Bangladesh\",\"Zimbabwe\",\"Nigeria\",\"Iraq\",\"Nicaragua\",\"El Salvador\",\"Indonesia\",\"Chile\",\"Niger\",\"Ireland\",\"Ecuador\",\"Malaysia\",\"Norway\",\"France\",\"Pakistan\",\"Denmark\",\"Japan\",\"Guatemala\",\"Canada\",\"New Zealand\",\"Fiji\",\"Brazil\",\"Mauritius\",\"Jamaica\",\"Costa Rica\",\"Italy\",\"Ethiopia\",\"Finland\",\"Mozambique\",\"Namibia\",\"Mali\",\"Nepal\",\"Israel\",\"China\",\"Netherlands\",\"Colombia\",\"Mexico\",\"Papua New Guinea\",\"Paraguay\",\"Lebanon\",\"Slovenia\",\"Guinea\",\"Guyana\",\"Lithuania\",\"Singapore\",\"Sierra Leone\",\"Madagascar\",\"Senegal\",\"Burkina Faso\",\"Kenya\",\"Dominican Republic\",\"Saudi Arabia\",\"Ghana\",\"Honduras\",\"Samoa\",\"Poland\",\"Egypt\",\"Peru\",\"India\",\"Cameroon\",\"Philippines\",\"Gambia\",\"Hungary\",\"Estonia\",\"Malawi\",\"Hong Kong\",\"Cambodia\",\"Portugal\",\"Germany\",\"Jordan\",\"Rwanda\",\"Saint Vincent and the Grenadines\"],\"name\":\"\",\"z\":[1,41,3281,77,60,71,8109,6,1,63,1134,28,1,44811,2,2,10,66,13,65,7,156,123,213,11,1,2,19,1104,2,115,61,99,68,542,38,238,306,1,1354,3,255,945,13,2,4,265,1,2,6,7,3,129,10,2708,494,88,1049,3,2,64,181,1,1,4,21,2,11,17,54,37,73,3,3,4,181,23,4,25,517,2,5,164,2,11,60,20,39,63,64,4,1,1],\"type\":\"choropleth\"}],\"name\":\"2022\"},{\"data\":[{\"coloraxis\":\"coloraxis\",\"geo\":\"geo\",\"hovertemplate\":\"Year=2023\\u003cbr\\u003eCountry=%{location}\\u003cbr\\u003eSamples=%{z}\\u003cextra\\u003e\\u003c\\u002fextra\\u003e\",\"locationmode\":\"country names\",\"locations\":[\"Japan\",\"Brazil\",\"United Arab Emirates\",\"Zambia\",\"Yemen\",\"Guyana\",\"Viet Nam\",\"Ghana\",\"Germany\",\"Hong Kong\",\"American Samoa\",\"India\",\"Uruguay\",\"France\",\"United Kingdom\",\"Indonesia\",\"Israel\",\"Argentina\",\"Italy\",\"Kuwait\",\"Mexico\",\"Uganda\",\"Canada\",\"Sweden\",\"Paraguay\",\"Peru\",\"Philippines\",\"Belgium\",\"Poland\",\"Cambodia\",\"Portugal\",\"Puerto Rico\",\"Samoa\",\"Spain\",\"Saudi Arabia\",\"Burkina Faso\",\"Senegal\",\"Singapore\",\"South Africa\",\"Slovakia\",\"Slovenia\",\"Pakistan\",\"Cayman Islands\",\"Chad\",\"Bangladesh\",\"Dominican Republic\",\"Australia\",\"Malawi\",\"USA\",\"Denmark\",\"Malaysia\",\"Mali\",\"Austria\",\"Mauritius\",\"Ecuador\",\"Costa Rica\",\"Morocco\",\"Colombia\",\"Namibia\",\"China\",\"Netherlands\",\"Thailand\",\"New Zealand\",\"Chile\",\"Nicaragua\",\"Tunisia\",\"Nigeria\"],\"name\":\"\",\"z\":[94,647,7,43,3,1,12,59,210,69,3,39,2,201,575,4,3,3,82,8,180,2,939,77,1,3,2,83,5,77,9,1,7,5,1,61,1,278,742,1,1,31,17,1,67,1,3350,1,28414,214,10,12,244,4,5,14,6,20,1,1852,420,72,2,442,2,118,53],\"type\":\"choropleth\"}],\"name\":\"2023\"}]);\n",
       "                        }).then(function(){\n",
       "                            \n",
       "var gd = document.getElementById('643e9f4b-3c4d-40a5-b511-5dd31d45741e');\n",
       "var x = new MutationObserver(function (mutations, observer) {{\n",
       "        var display = window.getComputedStyle(gd).display;\n",
       "        if (!display || display === 'none') {{\n",
       "            console.log([gd, 'removed!']);\n",
       "            Plotly.purge(gd);\n",
       "            observer.disconnect();\n",
       "        }}\n",
       "}});\n",
       "\n",
       "// Listen for the removal of the full notebook cells\n",
       "var notebookContainer = gd.closest('#notebook-container');\n",
       "if (notebookContainer) {{\n",
       "    x.observe(notebookContainer, {childList: true});\n",
       "}}\n",
       "\n",
       "// Listen for the clearing of the current output cell\n",
       "var outputEl = gd.closest('.output');\n",
       "if (outputEl) {{\n",
       "    x.observe(outputEl, {childList: true});\n",
       "}}\n",
       "\n",
       "                        })                };                });            </script>        </div>"
      ]
     },
     "metadata": {},
     "output_type": "display_data"
    }
   ],
   "source": [
    "# Global mapping of Salmonella reports over time\n",
    "\n",
    "import plotly.express as px\n",
    "import pycountry\n",
    "\n",
    "valid_country_names = [country.name.strip().lower() for country in pycountry.countries]\n",
    "\n",
    "def is_country(name):\n",
    "    if not isinstance(name, str):\n",
    "        return False\n",
    "    \n",
    "    name = name.strip().lower()\n",
    "    \n",
    "    if name in valid_country_names:\n",
    "        return True\n",
    "    if name in ['usa', 'united states', 'united states of america']:\n",
    "        return True\n",
    "    return False\n",
    "\n",
    "df = salmonella_df.copy()\n",
    "df.loc[:, 'Country'] = df['Location'].str.split(':').str[0]\n",
    "df = df[df['Country'].apply(is_country)]\n",
    "df['Year'] = df['Create date'].str.split('-').str[0]\n",
    "\n",
    "        \n",
    "sample_counts = df.groupby(['Country', 'Year']).size().reset_index(name='Samples')\n",
    "sample_counts = sample_counts.sort_values('Year')\n",
    "\n",
    "yearly_totals = sample_counts.groupby('Year')['Samples'].sum()\n",
    "\n",
    "fig = px.choropleth(\n",
    "    sample_counts,\n",
    "    locations='Country',      \n",
    "    locationmode = 'country names',\n",
    "    color='Samples',             # Salmonella sample counts\n",
    "    animation_frame = 'Year',\n",
    "    color_continuous_scale='Reds',  # Choose any color scale (e.g. 'Blues', 'Viridis', 'Plasma')\n",
    "    projection='natural earth',  # Projection style\n",
    "    title='Global Salmonella Samples (2010 - 2023)',\n",
    ")\n",
    "\n",
    "fig.update_layout(\n",
    "    width=1000,   \n",
    "    height=600,   \n",
    "    margin={\"r\":0,\"t\":30,\"l\":0,\"b\":0}  \n",
    ")\n",
    "\n",
    "#fig.write_html(\"salmonella_map.html\", full_html=True, include_plotlyjs='cdn')\n",
    "\n",
    "fig.show()\n"
   ]
  }
 ],
 "metadata": {
  "kernelspec": {
   "display_name": "Python [conda env:base] *",
   "language": "python",
   "name": "conda-base-py"
  },
  "language_info": {
   "codemirror_mode": {
    "name": "ipython",
    "version": 3
   },
   "file_extension": ".py",
   "mimetype": "text/x-python",
   "name": "python",
   "nbconvert_exporter": "python",
   "pygments_lexer": "ipython3",
   "version": "3.13.5"
  }
 },
 "nbformat": 4,
 "nbformat_minor": 5
}
