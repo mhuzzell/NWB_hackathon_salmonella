{
 "cells": [
  {
   "cell_type": "markdown",
   "id": "7b99cedd",
   "metadata": {},
   "source": [
    "# 1. Data types and operators\n",
    "This section will look at the basic building blocks of Python code - the data itself. We'll look at how different types of data are stored in variables, and how we can manipulate those variables using operators.\n",
    "\n",
    "We'll explore the following topics:\n",
    "\n",
    "1.1 - *Variables and Operators*\n",
    "\n",
    "1.2 - *Strings, Numbers and Lists*\n",
    "\n",
    "1.3 - *Dictionaries*\n",
    "\n",
    "\n"
   ]
  },
  {
   "cell_type": "markdown",
   "id": "db927b38",
   "metadata": {},
   "source": [
    "## 1.1 Variables and operators\n",
    "\n",
    "* We can think of a **variable** as a container which stores a piece of data for later use. \n",
    "\n",
    "* We **define** variables using the `=` operator.\n",
    "\n",
    "* Operators, such as `+`, `*` and `/` allow us to manipulate those variables. \n",
    "\n",
    "In the cell below, try writing the following three lines of code:\n",
    "\n",
    "```python\n",
    "a = 3\n",
    "b = 7\n",
    "a + b\n",
    "```\n",
    "\n",
    "When you have finished, hit `shift + enter` or `ctrl + enter` on your keyboard to run the code. Bonus points if you can work out what the difference between the two is!\n",
    "\n",
    "**Bonus**: Replace `+` with other operators like `*`, `-`, `/`, `==` and `!=`. \n"
   ]
  },
  {
   "cell_type": "code",
   "execution_count": 3,
   "id": "7b41ead4",
   "metadata": {},
   "outputs": [
    {
     "data": {
      "text/plain": [
       "21"
      ]
     },
     "execution_count": 3,
     "metadata": {},
     "output_type": "execute_result"
    }
   ],
   "source": [
    "# Code Block 1\n",
    "a = 3\n",
    "b = 7\n",
    "a * b\n"
   ]
  },
  {
   "cell_type": "markdown",
   "id": "9256a760",
   "metadata": {},
   "source": [
    "Now try the following:\n",
    "\n",
    "```python\n",
    "c = a * b\n",
    "c - 1\n",
    "c / 2\n",
    "```\n",
    "\n",
    "**Before hitting `shift + enter`**: Discuss with you neighbour what you think the output will be."
   ]
  },
  {
   "cell_type": "code",
   "execution_count": 11,
   "id": "7151e205",
   "metadata": {},
   "outputs": [
    {
     "name": "stdout",
     "output_type": "stream",
     "text": [
      "21\n"
     ]
    }
   ],
   "source": [
    "# Code Block 2\n",
    "C = a*b\n",
    "print (C)"
   ]
  },
  {
   "cell_type": "markdown",
   "id": "763f041d",
   "metadata": {},
   "source": [
    "**Printing data**\n",
    "\n",
    "You can see that the variables `a` and `b` have been stored and can be reused. However, the second line `c - 1` did not update the variable `c`, and did not get printed out. Instead, we just see the value of `c / 2` below the cell. In general, a Jupyter notebook will only print the output of the final line of code. To print intermediary lines, we can use the `print()` function:\n",
    "\n",
    "Write the following code in the code block below:\n",
    "```python\n",
    "print(c)\n",
    "print(c-1)\n",
    "print(c/2)\n",
    "c += 1\n",
    "print(c/2)\n",
    "```"
   ]
  },
  {
   "cell_type": "code",
   "execution_count": 26,
   "id": "3117701c",
   "metadata": {},
   "outputs": [
    {
     "name": "stdout",
     "output_type": "stream",
     "text": [
      "12\n"
     ]
    }
   ],
   "source": [
    "# Code Block 3\n",
    "D = 10\n",
    "D += 2\n",
    "print (D)"
   ]
  },
  {
   "cell_type": "markdown",
   "id": "d344aef2",
   "metadata": {},
   "source": [
    "We now have a print out for each `print()` statement in order. Later, we'll see how to make these print statements more expressive. \n",
    "\n",
    "### 🧠 Think-Pair-Share\n",
    "The block above introduced the `+=` operator. Have a think about the following questions, and discuss with a neighbour:\n",
    "\n",
    "* Can you explain how the line `c += 1` manipulated the variable `c`?\n",
    "* What might the operators `-=` and `*=` do?\n",
    "* Can you write a line of code that is equivalent to `c *= 2` without using the `*=` operator?\n"
   ]
  },
  {
   "cell_type": "code",
   "execution_count": 27,
   "id": "d1a0fd9e",
   "metadata": {},
   "outputs": [
    {
     "name": "stdout",
     "output_type": "stream",
     "text": [
      "12\n",
      "11\n",
      "55\n"
     ]
    }
   ],
   "source": [
    "# Code Block 4\n",
    "print (D)\n",
    "D -= 1\n",
    "print (D)\n",
    "D *=5\n",
    "print(D)"
   ]
  },
  {
   "cell_type": "markdown",
   "id": "ffcd5c8b",
   "metadata": {},
   "source": [
    "## 1.2 Basic Types: Booleans, Numbers and Strings\n",
    "This section is going to take a hands on look at three different types of data - booleans, numbers and strings - and explore how the act under different operators. \n",
    "\n",
    "### 1.2.1 Booleans\n",
    "Booleans are perhaps the simplest data-type, but often extremely useful. A Boolean can be one of either two values: `True` or `False`.\n",
    "\n",
    "We'll consider a scenario where we are trying to classify different peptides. The peptide might be associated with two variables: `contains_alanine` and `contains_aspargine`.\n",
    "\n",
    "Use the in built `type()` function to explore these variables:\n",
    "\n",
    "```python\n",
    "\n",
    "contains_alanine = True\n",
    "contains_aspargine = False\n",
    "\n",
    "print(contains_alanine)\n",
    "print(type(contains_alanine))\n",
    "print(contains_aspargine)\n",
    "print(type(contains_aspargine))\n",
    "```"
   ]
  },
  {
   "cell_type": "code",
   "execution_count": 42,
   "id": "a9548f0b",
   "metadata": {},
   "outputs": [
    {
     "name": "stdout",
     "output_type": "stream",
     "text": [
      "True\n",
      "<class 'bool'>\n",
      "False\n",
      "<class 'bool'>\n"
     ]
    }
   ],
   "source": [
    "# Code Block 5\n",
    "contains_alanine = True\n",
    "contains_aspargine = False\n",
    "\n",
    "print(contains_alanine)\n",
    "print(type(contains_alanine))\n",
    "print(contains_aspargine)\n",
    "print(type(contains_aspargine))"
   ]
  },
  {
   "cell_type": "markdown",
   "id": "c131d37f",
   "metadata": {},
   "source": [
    "**Booleans, `==` and `!=`**\n",
    "\n",
    "We typically encounter booleans when we use the `==` and `!=` operators. These operators compare two variables to see if they have the same value. \n",
    "\n",
    "In the following example, we use variables `n_alanine`, `n_aspargine` and `n_glutamine` to store the number of each amino acid present in a peptide. \n",
    "\n",
    "Explore these variables with the following code:\n",
    "\n",
    "```python\n",
    "\n",
    "n_alanine = 4\n",
    "n_aspargine = 4\n",
    "n_glutamine = 5\n",
    "\n",
    "print(n_alanine == n_aspargine)\n",
    "print(n_alanine == n_glutamine)\n",
    "print(n_alanine != n_glutamine)\n",
    "print(type(n_alanine == n_aspargine))\n",
    "```"
   ]
  },
  {
   "cell_type": "code",
   "execution_count": 48,
   "id": "bc433cb2",
   "metadata": {},
   "outputs": [
    {
     "name": "stdout",
     "output_type": "stream",
     "text": [
      "True\n",
      "False\n",
      "True\n",
      "<class 'bool'>\n"
     ]
    }
   ],
   "source": [
    "# Code Block 6\n",
    "n_alanine = 4\n",
    "n_aspargine = 4\n",
    "n_glutamine = 5\n",
    "print (n_alanine == n_aspargine)\n",
    "print (n_alanine == n_glutamine)\n",
    "print (n_alanine != n_glutamine)\n",
    "print (type(n_alanine == n_aspargine))"
   ]
  },
  {
   "cell_type": "code",
   "execution_count": 16,
   "id": "31d2deec-32bc-439f-a07a-ea8f5d1b5e2c",
   "metadata": {},
   "outputs": [
    {
     "name": "stdout",
     "output_type": "stream",
     "text": [
      "True\n",
      "False\n",
      "True\n",
      "<class 'bool'>\n"
     ]
    }
   ],
   "source": [
    "# Code Block 6\n",
    "n_alanine = 4\n",
    "n_aspargine = 4\n",
    "n_glutamine = 5\n",
    "\n",
    "print(n_alanine == n_aspargine)\n",
    "print(n_alanine == n_glutamine)\n",
    "print(n_alanine != n_glutamine)\n",
    "print(type(n_alanine == n_aspargine))  # Added the missing closing parenthesis here"
   ]
  },
  {
   "cell_type": "markdown",
   "id": "a71cdaf7",
   "metadata": {},
   "source": [
    "### 1.2.2 Numbers\n",
    "There are three basic types of number Python can handle: `int`, `float` and `complex`:\n",
    "\n",
    "* An `int` is defined by a whole number with no decimal point, for example `a=123`,\n",
    "\n",
    "* A `float` is a decimal number, defined using `.`, for example `b=5.` or `c=5.4`,\n",
    "\n",
    "* A `complex` is a complex number, and is defined using `j`, for exmaple `c = 4j`. We aren't going to worry too much about those. \n",
    "\n",
    "Try the following code to use `float` and `int` numbers to define some characteristics of a peptide. We'll then use `==` and `type()` to explore the differences between these types of number:\n",
    "\n",
    "```python\n",
    "\n",
    "length = 5\n",
    "hydrophobicity = 5.0\n",
    "\n",
    "print(length==hydrophobicity)\n",
    "\n",
    "print(type(length))\n",
    "print(type(hydrophobicity))\n",
    "\n",
    "```\n",
    "💡 Extend this code to explore what happens when we combine `float` and `int` numbers with the `+`, `*` and `\\` operators. What types of data are produced?"
   ]
  },
  {
   "cell_type": "code",
   "execution_count": 53,
   "id": "1e31d52d",
   "metadata": {},
   "outputs": [
    {
     "name": "stdout",
     "output_type": "stream",
     "text": [
      "False\n",
      "<class 'int'>\n",
      "<class 'float'>\n"
     ]
    },
    {
     "data": {
      "text/plain": [
       "10.3"
      ]
     },
     "execution_count": 53,
     "metadata": {},
     "output_type": "execute_result"
    }
   ],
   "source": [
    "# Code Block 7\n",
    "length = 5\n",
    "hydrophobicity = 5.3\n",
    "\n",
    "print(length==hydrophobicity)\n",
    "\n",
    "print (type(length))\n",
    "print (type(hydrophobicity))\n",
    "\n",
    "length+hydrophobicity"
   ]
  },
  {
   "cell_type": "markdown",
   "id": "4dd07468",
   "metadata": {},
   "source": [
    "### 1.2.3 Strings\n",
    "Not every piece of data we want to manipulate will be a number. When we want to handle characters, such as in plain text, we can store our data as a `string`.\n",
    "\n",
    "We define strings using either `\"\"` or `''`. We can also convert a variable into a string by using the built in function `str()`. Try the following code to explore defining strings:\n",
    "\n",
    "```python\n",
    "a = \"123\"\n",
    "b = '123'\n",
    "c = 123\n",
    "d = str(c)\n",
    "\n",
    "print(a==b)\n",
    "print(b==c)\n",
    "print(b==d)\n",
    "```\n"
   ]
  },
  {
   "cell_type": "code",
   "execution_count": 57,
   "id": "d153ef14",
   "metadata": {},
   "outputs": [
    {
     "name": "stdout",
     "output_type": "stream",
     "text": [
      "True\n",
      "False\n",
      "False\n",
      "12\n"
     ]
    }
   ],
   "source": [
    "# Code Block 8\n",
    "a = \"123\"\n",
    "b = '123'\n",
    "c = 12\n",
    "d = str(c)\n",
    "\n",
    "print(a==b)\n",
    "print(b==c)\n",
    "print(b==d)\n",
    "\n",
    "print(d)"
   ]
  },
  {
   "cell_type": "markdown",
   "id": "d974d0d7",
   "metadata": {},
   "source": [
    "**Manipulating strings**\n",
    "\n",
    "There are various operators and functions which allow us manipulate strings. We'll take a string representation of the peptide chain: \"EMAEVHCGFN\" \n",
    "\n",
    "Explore the different ways of manipulating this string in code block 9 using the examples below.\n",
    "\n",
    "```python\n",
    "\n",
    "peptide = \"EMAEVHCGFN\"\n",
    "\n",
    "# concatenating\n",
    "print(peptide + peptide)\n",
    "print(peptide + 'FRRA')\n",
    "# indexing\n",
    "print(len(a))\n",
    "print(peptide[3])\n",
    "print(peptide[:3])\n",
    "print(peptide[3:6])\n",
    "print(peptide[-1])\n",
    "print(peptide[-5:])\n",
    "print(peptide[100])\n",
    "print(peptide[::-1])\n",
    "# manipulating\n",
    "print(peptide.lower())\n",
    "print(peptide.replace('V', 'I'))\n",
    "print(peptide.replace('V', ''))\n",
    "print(peptide.split('V'))\n",
    "```\n",
    "💡 What do you notice about the way we index into strings in python? What will the value of `peptide[0]` be?\n"
   ]
  },
  {
   "cell_type": "code",
   "execution_count": 40,
   "id": "3af81a29",
   "metadata": {},
   "outputs": [
    {
     "name": "stdout",
     "output_type": "stream",
     "text": [
      "EMAEVHCGFNEMAEVHCGFN\n",
      "EMAEVHCGFNFRRA\n"
     ]
    }
   ],
   "source": [
    "# Code Block 9\n",
    "\n",
    "peptide = \"EMAEVHCGFN\"\n",
    "\n",
    "# concatenating\n",
    "print(peptide + peptide)\n",
    "print(peptide + 'FRRA')"
   ]
  },
  {
   "cell_type": "code",
   "execution_count": 34,
   "id": "aa2ee614-b19c-4032-af1d-3de879884735",
   "metadata": {},
   "outputs": [
    {
     "name": "stdout",
     "output_type": "stream",
     "text": [
      "EMAEVHCGFNEMAEVHCGFN\n",
      "EMAEVHCGFNFRRA\n",
      "10\n",
      "E\n",
      "EMA\n",
      "EVH\n",
      "N\n",
      "HCGFN\n",
      "NFGCHVEAME\n",
      "emaevhcgfn\n",
      "EMAEIHCGFN\n",
      "EMAEHCGFN\n",
      "['EMAE', 'HCGFN']\n"
     ]
    }
   ],
   "source": [
    "# Code Block 9\n",
    "\n",
    "peptide = \"EMAEVHCGFN\"\n",
    "\n",
    "# concatenating\n",
    "print(peptide + peptide)\n",
    "print(peptide + 'FRRA')\n",
    "# indexing\n",
    "print(len(peptide))  # Changed 'a' to 'peptide' to fix undefined variable\n",
    "print(peptide[3])\n",
    "print(peptide[:3])\n",
    "print(peptide[3:6])\n",
    "print(peptide[-1])\n",
    "print(peptide[-5:])\n",
    "# print(peptide[100])  # Removed or commented out this line as index 100 is out of range\n",
    "print(peptide[::-1])\n",
    "# manipulating\n",
    "print(peptide.lower())\n",
    "print(peptide.replace('V', 'I'))\n",
    "print(peptide.replace('V', ''))\n",
    "print(peptide.split('V'))"
   ]
  },
  {
   "cell_type": "code",
   "execution_count": 41,
   "id": "2a4b44ed-dbda-4a72-9845-9d36f177d329",
   "metadata": {},
   "outputs": [
    {
     "name": "stdout",
     "output_type": "stream",
     "text": [
      "E\n"
     ]
    }
   ],
   "source": [
    "print(peptide[3])"
   ]
  },
  {
   "cell_type": "markdown",
   "id": "538f0c1f",
   "metadata": {},
   "source": [
    "**The f-string**\n",
    "\n",
    "We can insert variables into strings using the `fstring` (*formatted* string). To define an `fstring` we simply place an `f` directly before the quotation marks. We can then use `{}` to place previously defined varibales in our string. \n",
    "\n",
    "Use the code below to explore how f-strings work. \n",
    "\n",
    "Try the following:\n",
    "\n",
    "```python\n",
    "peptide = \"EMAEVHCGFN\"\n",
    "length = len(peptide)\n",
    "mass = 1135.29\n",
    "\n",
    "print(f'The peptide chain {peptide} contains {length} amino acids and has mass {mass} g/mol.')\n",
    "```\n",
    "\n",
    "💡 **Task**: Go back to your previous `print` statements to make them more informative!\n",
    "\n",
    "**Don't forget to include the `f` before the quotation mark!**"
   ]
  },
  {
   "cell_type": "code",
   "execution_count": 2,
   "id": "3b5eb91b",
   "metadata": {},
   "outputs": [
    {
     "name": "stdout",
     "output_type": "stream",
     "text": [
      "The peptide chain EMAEVHCGFN contains 10 amino acids and has mass 1135.29 g/mol.\n",
      "The gene Apicox10 contains Apicox10 base pairs, whereas DHFR contains DHFR\n"
     ]
    }
   ],
   "source": [
    "# Code Block 10\n",
    "peptide = \"EMAEVHCGFN\"\n",
    "length = len(peptide)\n",
    "mass = 1135.29\n",
    "\n",
    "print(f'The peptide chain {peptide} contains {length} amino acids and has mass {mass} g/mol.')"
   ]
  },
  {
   "cell_type": "markdown",
   "id": "fdcb7fb0",
   "metadata": {},
   "source": [
    "### 🧠 1.2.4 Exercise: Combining Types\n",
    "We are going to explore how three different types of variables behave under the binary operators `+`, `*`, and `==`.\n",
    "\n",
    "In code block 11 (below), define the following three variables\n",
    "\n",
    "* `a = 3`\n",
    "* `b = \"AGCH\"`\n",
    "* `c = True`\n",
    "\n",
    "Then use code block 12 and the file `binary_operators.xlsx` to complete the following steps:\n",
    "\n",
    "1. Open the Excel file `binary_operators.xlsx`. This file contains three 3×3 tables—one for each operator.\n",
    "\n",
    "2. In code block 12, try out all combinations of the variables `a`, `b`, and `c` using the relevant operator (e.g. `a * b`, `b * b`, etc.).\n",
    "\n",
    "3. For each combination, fill in the table with a short description of the result. You might write something like:\n",
    "   - `\"10\"` (if it returns a value)\n",
    "   - A description of the value (if it is too long)\n",
    "   - `\"Error\"` (if it throws an error)\n",
    "\n",
    "**Don't be afraid of errors!** They are a normal and useful part of coding. If you get one, just copy the **last line** of the error message into your table and try to think about what it tells you.\n",
    "\n",
    "**Think–Pair–Share**\n",
    "  \n",
    "Take a moment to reflect on the following questions, then discuss them with someone next to you:\n",
    "\n",
    "- What might be the purpose of having different *data types* in a programming language?\n",
    "- How does the function of an operator like `+` or `*` change depending on the data type?\n",
    "- How would the third table change if we had used `!=` instead?\n",
    "- How would the tables change if `c=False`"
   ]
  },
  {
   "cell_type": "code",
   "execution_count": 11,
   "id": "a790038e",
   "metadata": {},
   "outputs": [],
   "source": [
    "# Code Block 11 (define variables a, b and c)\n",
    "a =5\n",
    "b = \"AGCH\"\n",
    "c = True"
   ]
  },
  {
   "cell_type": "code",
   "execution_count": 83,
   "id": "02e5135b-8ca7-4003-aa39-654b5bdb9ed8",
   "metadata": {},
   "outputs": [
    {
     "data": {
      "text/plain": [
       "1"
      ]
     },
     "execution_count": 83,
     "metadata": {},
     "output_type": "execute_result"
    }
   ],
   "source": [
    "c*c"
   ]
  },
  {
   "cell_type": "markdown",
   "id": "21f649f9",
   "metadata": {
    "jp-MarkdownHeadingCollapsed": true
   },
   "source": [
    "## 1.3 Lists and Dictionaries\n",
    "When dealing with data, it is rare that we only want to handle a single value at a time. Lists and dictionaries (and other types like tuples or sets) let us store collections of data to a single variable.\n",
    "\n",
    "These can be particularly useful in data science, where a list might hold ordered observations over time, or the sequence of amino acids in a peptide.\n",
    "\n",
    "### 1.3.1 Lists\n",
    "Lists are defined using the `[]` symbols, with individual elements separated by a `,`.\n",
    "\n",
    "Like with strings, we can index into a list using `[]` after the list. Try out the following code to see this in action:\n",
    "\n",
    "```python\n",
    "peptide = ['A','G','T','H']\n",
    "last_aa = a[-1]\n",
    "\n",
    "print(f'The last value of the peptide {peptide} is {last_aa}')\n",
    "```\n",
    "💡 **Task**: Have a look at some of the other indexing techniques we used with strings - do they still apply to lists?"
   ]
  },
  {
   "cell_type": "code",
   "execution_count": 14,
   "id": "b51a2d60",
   "metadata": {},
   "outputs": [
    {
     "name": "stdout",
     "output_type": "stream",
     "text": [
      "The last value of the peptide ['A', 'G', 'T', 'H'] is H\n"
     ]
    }
   ],
   "source": [
    "# Code Block 12\n",
    "peptide = ['A','G','T','H']\n",
    "last_aa = peptide[-1]\n",
    "print(f'The last value of the peptide {peptide} is {last_aa}')"
   ]
  },
  {
   "cell_type": "code",
   "execution_count": 89,
   "id": "3df30939-47df-499e-a18f-7e3fd3b8587c",
   "metadata": {},
   "outputs": [
    {
     "name": "stdout",
     "output_type": "stream",
     "text": [
      "The last value of the peptide ['A', 'G', 'T', 'H'] is H\n"
     ]
    }
   ],
   "source": [
    "# Code Block 12\n",
    "peptide = ['A','G','T','H']\n",
    "last_aa = peptide[-1]  # Changed 'a' to 'peptide' - using the correct variable name\n",
    "\n",
    "print(f'The last value of the peptide {peptide} is {last_aa}')"
   ]
  },
  {
   "cell_type": "markdown",
   "id": "5a0ae624",
   "metadata": {},
   "source": [
    "**Measuring Lists**\n",
    "\n",
    "We can also use the `len()` function with lists to find how many elements they have.\n",
    "\n",
    "💡 **Task:** Use the `len()` function and an fstring to print out a statement describing the number of Amino Acids in `peptide`. "
   ]
  },
  {
   "cell_type": "code",
   "execution_count": 90,
   "id": "0152a6c5",
   "metadata": {},
   "outputs": [
    {
     "data": {
      "text/plain": [
       "4"
      ]
     },
     "execution_count": 90,
     "metadata": {},
     "output_type": "execute_result"
    }
   ],
   "source": [
    "# Code Block 13\n",
    "len(peptide)"
   ]
  },
  {
   "cell_type": "markdown",
   "id": "9ab10c5e",
   "metadata": {},
   "source": [
    "**Lists and Data Types**\n",
    "\n",
    "Lists don't just have to hold strings, they can hold any types of data!\n",
    "\n",
    "💡 **Task:** Create a list which contains a mix of `string`, `int` and `float` elements.  "
   ]
  },
  {
   "cell_type": "code",
   "execution_count": 15,
   "id": "c086822c",
   "metadata": {},
   "outputs": [
    {
     "data": {
      "text/plain": [
       "4"
      ]
     },
     "execution_count": 15,
     "metadata": {},
     "output_type": "execute_result"
    }
   ],
   "source": [
    "# code block 14\n",
    "cloud = ['H20', 4.21, 5, 'fluff']\n",
    "len(cloud)\n"
   ]
  },
  {
   "cell_type": "markdown",
   "id": "b7670e0b",
   "metadata": {},
   "source": [
    "**Listception**\n",
    "\n",
    "Lists can even contain other lists. Here, we are taking two short peptides, Oxytocin and Bradykinin, and creating a new list containing both:\n",
    "\n",
    "```python\n",
    "oxytocin = ['C', 'Y', 'I', 'Q', 'N', 'C', 'P', 'L', 'G']\n",
    "bradykinin = ['R', 'P', 'P', 'G', 'F', 'S', 'P', 'F', 'R']\n",
    "\n",
    "peptides = [oxytocin, bradykinin]\n",
    "\n",
    "print(peptides)\n",
    "```\n",
    "\n",
    "💡 **Task:** Copy the code above into Code Block 15, and extend it to answer the following:\n",
    "* What is the length of the list `peptides`? \n",
    "* How might you get the second amino acid in `bradykinin` from the list `peptides`? \n",
    "\n",
    "*hint: You can stack up list indices, so if `x=[1,2,3]`, `y=[4,5,6]` and `z=[x,y]` then `z[0][0] == x[0] == 1`.* "
   ]
  },
  {
   "cell_type": "code",
   "execution_count": 18,
   "id": "34ba90a8",
   "metadata": {
    "scrolled": true
   },
   "outputs": [
    {
     "name": "stdout",
     "output_type": "stream",
     "text": [
      "[['C', 'Y', 'I', 'Q', 'N', 'C', 'P', 'L', 'G'], ['R', 'P', 'P', 'G', 'F', 'S', 'P', 'F', 'R']]\n",
      "peptides is made up of ['C', 'Y', 'I', 'Q', 'N', 'C', 'P', 'L', 'G'] and ['R', 'P', 'P', 'G', 'F', 'S', 'P', 'F', 'R'], together they make [['C', 'Y', 'I', 'Q', 'N', 'C', 'P', 'L', 'G'], ['R', 'P', 'P', 'G', 'F', 'S', 'P', 'F', 'R']] which contains 2\n"
     ]
    }
   ],
   "source": [
    "# Code Block 15\n",
    "oxytocin = ['C', 'Y', 'I', 'Q', 'N', 'C', 'P', 'L', 'G']\n",
    "bradykinin = ['R', 'P', 'P', 'G', 'F', 'S', 'P', 'F', 'R']\n",
    "peptides = [oxytocin, bradykinin]\n",
    "\n",
    "print(peptides) \n",
    "len(peptides)\n",
    "print(f'peptides is made up of {oxytocin} and {bradykinin}, together they make {peptides} which contains {len(peptides)}')"
   ]
  },
  {
   "cell_type": "code",
   "execution_count": 113,
   "id": "2c61ca20-255d-44ca-b4f0-e47716184bbb",
   "metadata": {},
   "outputs": [
    {
     "name": "stdout",
     "output_type": "stream",
     "text": [
      "[['C', 'Y', 'I', 'Q', 'N', 'C', 'P', 'L', 'G'], ['R', 'P', 'P', 'G', 'F', 'S', 'P', 'F', 'R']]\n",
      "['R', 'P', 'P', 'G', 'F', 'S', 'P', 'F', 'R']\n",
      "P\n"
     ]
    }
   ],
   "source": [
    "# Code Block 15\n",
    "oxytocin = ['C', 'Y', 'I', 'Q', 'N', 'C', 'P', 'L', 'G']\n",
    "bradykinin = ['R', 'P', 'P', 'G', 'F', 'S', 'P', 'F', 'R']\n",
    "peptide = [oxytocin, bradykinin]  # Define peptide before using it\n",
    "\n",
    "print(peptide)\n",
    "len(peptide)\n",
    "len(bradykinin)\n",
    "# peptides+bradykinin  # This line had an error - peptides is not defined\n",
    "                      # If you meant to concatenate peptide and bradykinin, use: peptide + [bradykinin]\n",
    "\n",
    "last_aa = peptide[-1]  # Now accessing peptide[-1] after peptide is defined\n",
    "print(last_aa)\n",
    "\n",
    "# Fixed the typo 'petide' to 'peptide' and clarified the operation\n",
    "# If you want to access the second element of peptide and add the second element of bradykinin:\n",
    "print(peptide[1][1])  # This prints the second element of the second list in peptide"
   ]
  },
  {
   "cell_type": "markdown",
   "id": "434f5462",
   "metadata": {},
   "source": [
    "**Modifying lists**\n",
    "\n",
    "We can use indexing to update the value of an element in a list. \n",
    "\n",
    "In the exmaple below, the Oxytocin peptide has the wrong value for the first Amino Acid. We can fix this by indexing into the list. \n",
    "\n",
    "Try the following code:\n",
    "\n",
    "```python\n",
    "\n",
    "oxytocin = ['Y', 'Y', 'I', 'Q', 'N', 'C', 'P', 'L', 'C']\n",
    "print(oxytocin)\n",
    "# ammend the first value\n",
    "oxytocin[0] = 'C'\n",
    "print(oxytocin)\n",
    "```\n",
    "\n",
    "💡 **Task**: The last amino acid should be `G`. How might you change the last element of a list?"
   ]
  },
  {
   "cell_type": "code",
   "execution_count": 38,
   "id": "ae6e7851",
   "metadata": {},
   "outputs": [
    {
     "name": "stdout",
     "output_type": "stream",
     "text": [
      "['Y', 'Y', 'I', 'Q', 'N', 'C', 'P', 'L', 'C']\n",
      "C\n",
      "I\n",
      "['Y', 'Y', 'I', 'Q', 'N', 'C', 'P', 'L', 'G']\n"
     ]
    }
   ],
   "source": [
    "# Code Block 16\n",
    "oxytocin = ['Y', 'Y', 'I', 'Q', 'N', 'C', 'P', 'L', 'C']\n",
    "print(oxytocin)\n",
    "last_aa = oxytocin[-1]\n",
    "print(last_aa)\n",
    "len(oxytocin)\n",
    "print(oxytocin[2])\n",
    "oxytocin[8] = 'G'\n",
    "print(oxytocin)"
   ]
  },
  {
   "cell_type": "code",
   "execution_count": 107,
   "id": "1d84c493-e13d-4bb7-86f7-90259fe4bbf4",
   "metadata": {},
   "outputs": [
    {
     "name": "stdout",
     "output_type": "stream",
     "text": [
      "['Y', 'Y', 'I', 'Q', 'N', 'C', 'P', 'L', 'C']\n",
      "['C', 'Y', 'I', 'Q', 'N', 'C', 'P', 'L', 'C']\n"
     ]
    }
   ],
   "source": [
    "# Code Block 16\n",
    "oxytocin = ['Y', 'Y', 'I', 'Q', 'N', 'C', 'P', 'L', 'C']\n",
    "last_aa = oxytocin[-1]  # Fixed variable name (removed space) and removed extra parenthesis\n",
    "print(oxytocin)\n",
    "# ammend the first value\n",
    "oxytocin[0] = 'C'\n",
    "print(oxytocin)"
   ]
  },
  {
   "cell_type": "markdown",
   "id": "17a5d136",
   "metadata": {},
   "source": [
    "**Appending and Extending lists**\n",
    "\n",
    "We can add new data to a list using the `.append()` function. Since this function is a property of just lists (unlike say, `print()`, which can be used on multiple types) the syntax for appending variable `y` to list `x` is: \n",
    "\n",
    "```python\n",
    "x.append(y)\n",
    "```\n",
    "Its important to note that this is an *in place* function, which means the variable is updated when we call it, like we saw with `+=`. Hence, the following code would print out `[1,2,3]` then `[1,2,3,4]`:\n",
    "\n",
    "```python\n",
    "x = [1,2,3]\n",
    "print(x) # [1,2,3]\n",
    "x.append(4)\n",
    "print(x) # [1,2,3,4]\n",
    "```\n",
    "\n",
    "In the following example, the `append()` function is used to add an $CONH_2$ c-terminal group to our oxytocin peptide.\n",
    "\n",
    "```python\n",
    "oxytocin = ['C', 'Y', 'I', 'Q', 'N', 'C', 'P', 'L', 'G']\n",
    "c_terminal = 'CONH_2'\n",
    "print(oxytocin)\n",
    "\n",
    "oxytocin.append(c_terminal)\n",
    "\n",
    "print(oxytocin)\n",
    "```\n",
    "\n",
    "💡 **Task**: The `extend()` function works in a similar way, but concatenates one list with another. Use the `<list>.extend(<list>)` function to prepend the peptide chain `['C', 'Y', 'T']` to our oxytocin chain. "
   ]
  },
  {
   "cell_type": "code",
   "execution_count": 117,
   "id": "e56ad151",
   "metadata": {},
   "outputs": [
    {
     "name": "stdout",
     "output_type": "stream",
     "text": [
      "[1, 2, 3]\n",
      "[1, 2, 3, 4]\n",
      "['C', 'Y', 'I', 'Q', 'N', 'C', 'P', 'L', 'G']\n",
      "['C', 'Y', 'I', 'Q', 'N', 'C', 'P', 'L', 'G', 'C', 'O', 'N', 'H', '_', '2']\n"
     ]
    }
   ],
   "source": [
    "# Code block 17\n",
    "x = [1,2,3]\n",
    "print(x) # [1,2,3]\n",
    "x.append(4)\n",
    "print(x) # [1,2,3,4]\n",
    "oxytocin = ['C', 'Y', 'I', 'Q', 'N', 'C', 'P', 'L', 'G']\n",
    "c_terminal = 'CONH_2'\n",
    "print(oxytocin)\n",
    "\n",
    "oxytocin.extend(c_terminal)\n",
    "\n",
    "print(oxytocin)"
   ]
  },
  {
   "cell_type": "markdown",
   "id": "f0d09707",
   "metadata": {},
   "source": [
    "### 1.3.2 Dictionaries\n",
    "Dictionaries allow us to store data in *key-value* pairs. They allow us to have easily accessible information, and to link variables with specific values. We define a dictionary using the `{<key>:<value>}` syntax. \n",
    "\n",
    "We will use a dictionary to store data about the amino acid Cysteine:\n",
    "\n",
    "```python\n",
    "\n",
    "cysteine = {\"name\":\"Cysteine\", \"abbreviation_3\":\"Cys\", \"abbreviation_1\":\"C\", \"molar_mass\":121.15}\n",
    "\n",
    "print(cysteine)\n",
    "```\n",
    "\n",
    "The objects to the left of each `:` are known as *keys*, these allow us to access the data stored in the *variables* to the right of the `:`. Different data points are seperated by a `,`. \n",
    "\n",
    "\n",
    "💡 **Notes**:\n",
    "- Keys MUST be unique. We can't put in an additional `\"molar_mass\"` key pointing to a different value. \n",
    "- Values can be objects of any *type* (e.g. `string`, `int` etc). There are some restrictions on key types, for example a `list` can be used a dictionary key. \n",
    "\n",
    "Use the code box below to define the `cysteine` variable as a dictionary:"
   ]
  },
  {
   "cell_type": "code",
   "execution_count": 121,
   "id": "53ea4cac",
   "metadata": {},
   "outputs": [
    {
     "name": "stdout",
     "output_type": "stream",
     "text": [
      "{'name': 'Cysteine', 'abbreviation_3': 'Cys', 'abbreviation_1': 'C', 'molar_mass': 121.15}\n"
     ]
    },
    {
     "data": {
      "text/plain": [
       "'Cysteine'"
      ]
     },
     "execution_count": 121,
     "metadata": {},
     "output_type": "execute_result"
    }
   ],
   "source": [
    "# code block 18\n",
    "cysteine = {\"name\":\"Cysteine\", \"abbreviation_3\":\"Cys\", \"abbreviation_1\":\"C\", \"molar_mass\":121.15}\n",
    "\n",
    "print(cysteine)\n",
    "cysteine[\"molar_mass\"]\n",
    "cysteine[\"name\"]"
   ]
  },
  {
   "cell_type": "markdown",
   "id": "52c36f43",
   "metadata": {},
   "source": [
    "**Accessing data from dictionaries**\n",
    "\n",
    "We can access the data stored in a dictionary using the syntax `dictionary[key]`. For example, to get the 3 letter abbreviation from our `cysteine` dictionary, we would use:\n",
    "\n",
    "```python\n",
    "cysteine_abbr = cysteine['abbreviation_3']\n",
    "```\n",
    "\n",
    "Try using an `fstring` and the `cysteine` dictionary to fill in the missing information in the string below and print out the result:\n",
    "\n",
    "```python\n",
    "\n",
    "\"Cysteine, abbreviated as ___ or _, has molar mass ___ g/mol\"\n",
    "```"
   ]
  },
  {
   "cell_type": "code",
   "execution_count": null,
   "id": "67091f96",
   "metadata": {},
   "outputs": [],
   "source": [
    "# Code Block 19\n"
   ]
  },
  {
   "cell_type": "markdown",
   "id": "717846af",
   "metadata": {},
   "source": [
    "**Accessing data using `.get()`**\n",
    "\n",
    "If you try to access a dictionary using an incorrect key, Python will raise an error. In more complex programmes this might break your code or cause unwanted bugs. We can use the `.get()` method to foolproof our code against these types of errors. \n",
    "\n",
    "The `.get()` method allows you to specify a return value for keys which do not appear in the dictionary, using the syntax `dictionary.get(<key>, <null_return>)`\n",
    "\n",
    "Try the following code in the code block below:\n",
    "\n",
    "```python\n",
    "cys_solubility = cysteine['solubility']\n",
    "print(cys_solubility)\n",
    "```\n",
    "And compare the results to the following:\n",
    "\n",
    "```python\n",
    "cys_solubility = cys_solubility.get(\"solubility\", \"Not yet defined\")\n",
    "print(cys_solubility)\n",
    "```"
   ]
  },
  {
   "cell_type": "code",
   "execution_count": 123,
   "id": "f7643f77",
   "metadata": {},
   "outputs": [
    {
     "ename": "NameError",
     "evalue": "name 'cys_solubility' is not defined",
     "output_type": "error",
     "traceback": [
      "\u001b[1;31m---------------------------------------------------------------------------\u001b[0m",
      "\u001b[1;31mNameError\u001b[0m                                 Traceback (most recent call last)",
      "Cell \u001b[1;32mIn[123], line 2\u001b[0m\n\u001b[0;32m      1\u001b[0m \u001b[38;5;66;03m# Code Block 20\u001b[39;00m\n\u001b[1;32m----> 2\u001b[0m cys_solubility \u001b[38;5;241m=\u001b[39m cys_solubility\u001b[38;5;241m.\u001b[39mget(\u001b[38;5;124m\"\u001b[39m\u001b[38;5;124msolubility\u001b[39m\u001b[38;5;124m\"\u001b[39m, \u001b[38;5;124m\"\u001b[39m\u001b[38;5;124mNot yet defined\u001b[39m\u001b[38;5;124m\"\u001b[39m)\n\u001b[0;32m      3\u001b[0m \u001b[38;5;28mprint\u001b[39m(cys_solubility)\n",
      "\u001b[1;31mNameError\u001b[0m: name 'cys_solubility' is not defined"
     ]
    }
   ],
   "source": [
    "# Code Block 20\n",
    "cys_solubility = cys_solubility.get(\"solubility\", \"Not yet defined\")\n",
    "print(cys_solubility)"
   ]
  },
  {
   "cell_type": "code",
   "execution_count": 124,
   "id": "9a7eb4a7-2b24-453b-a545-d6e013614b6d",
   "metadata": {},
   "outputs": [
    {
     "name": "stdout",
     "output_type": "stream",
     "text": [
      "Water soluble\n"
     ]
    }
   ],
   "source": [
    "# Code Block 20\n",
    "# If you meant to access a specific dictionary that should be defined elsewhere\n",
    "# For example:\n",
    "cys_data = {\"solubility\": \"Water soluble\"}  # Define your dictionary first\n",
    "\n",
    "# Then access it\n",
    "cys_solubility = cys_data.get(\"solubility\", \"Not yet defined\")\n",
    "print(cys_solubility)"
   ]
  },
  {
   "cell_type": "markdown",
   "id": "d34edceb",
   "metadata": {},
   "source": [
    "**Adding new data to a dictionary**\n",
    "\n",
    "We can add the `\"solubility\"` key (and associated value) to our dictionary using the code below:\n",
    "\n",
    "```python\n",
    "\n",
    "cysteine[\"solubility\"] = 227\n",
    "```\n",
    "\n",
    "We can also use the `.update()` method for dictionaries to do the same thing. This is similar to the `.append()` method for lists:\n",
    "\n",
    "```python\n",
    "cysteine.update({\"solubility\":227})\n",
    "```\n",
    "\n",
    "💡 **Task**: Use either method to add both the solubility and chemical formula ($C_3H_7NO_2S$) to our `cysteine` dictionary."
   ]
  },
  {
   "cell_type": "code",
   "execution_count": 126,
   "id": "a1832b43",
   "metadata": {},
   "outputs": [],
   "source": [
    "# Code Block 21\n",
    "cysteine.update({\"solubility\":227})"
   ]
  },
  {
   "cell_type": "markdown",
   "id": "42c6c149",
   "metadata": {},
   "source": [
    "**Updating existing entries**\n",
    "\n",
    "There was a mistake in the solubility of Cysteine - it should read \"277\". Luckily, we can use exactly the same methods to update existing entries.\n",
    "\n",
    "Use either the `dictionary[<key>] = <value>` or `dictionary.update({<key>:<value>})` methods to fix the error in `cysteine`."
   ]
  },
  {
   "cell_type": "code",
   "execution_count": null,
   "id": "093b7d09",
   "metadata": {},
   "outputs": [],
   "source": [
    "# Code Block 21\n"
   ]
  },
  {
   "cell_type": "markdown",
   "id": "2328b39c",
   "metadata": {},
   "source": [
    "**Turning `dict` into `list`**\n",
    "\n",
    "Sometimes, we might want to iterate over the entries in a dictionary. We have three methods to help us do this: `.keys()`, `.values()` and `.items()`.\n",
    "\n",
    "Use code block 22 and the `cysteine` dictionary to explore these built-in dictionary functions. "
   ]
  },
  {
   "cell_type": "code",
   "execution_count": null,
   "id": "804d366a",
   "metadata": {},
   "outputs": [],
   "source": [
    "# code block 22\n"
   ]
  },
  {
   "cell_type": "markdown",
   "id": "09b865a9",
   "metadata": {
    "jp-MarkdownHeadingCollapsed": true
   },
   "source": [
    "## 1.3.3 Lists of Dictionaries\n",
    "\n",
    "It is common to structure data in the form of a list of dictionaries. This is the fundemantal *data-structure* which we will use later to build dataframes.\n",
    "\n",
    "A list of dictionaries would be structured something like this:\n",
    "\n",
    "```python\n",
    "\n",
    "list_of_dicts = [{\"key_1a\":\"value_1a\", \"key_1b\":\"value_1b\", ...}, {\"key_2a\":\"value_2a\", \"key_2b\":\"value_2b\"...}]\n",
    "```\n",
    "\n",
    "We are going to use this data-structure to store information about different amino acids. We'll use the same dictionary structure that we used for `cysteine`, so will need the 1 and 3 letter abbreviations, along with the molecular mass, chemical formula and soulbility (at 25 degrees).  \n",
    "\n",
    "1. Using the internet, find the relavent data for the amino acids \"Tyrosine\", \"Asparagine\" and \"Proline\". \n",
    "\n",
    "2. Store the data for each amino acid in separate dictionaries. \n",
    "\n",
    "3. Create a list of dictionaries called `amino_acids` containing those amino acids plus Cysteine\n",
    "\n",
    "How would you get the mass of Proline from your dictionary?\n",
    "\n",
    "How might you structure your data differently if you wanted to use the syntax `amino_acids[\"proline\"]` to access this data?"
   ]
  },
  {
   "cell_type": "code",
   "execution_count": 44,
   "id": "4de91e54",
   "metadata": {
    "scrolled": true
   },
   "outputs": [
    {
     "name": "stdout",
     "output_type": "stream",
     "text": [
      "{'brand': 'Ford', 'model': 'Mustang', 'year': 1964}\n"
     ]
    }
   ],
   "source": [
    "# code block 23\n",
    "Car = {'brand': 'Ford', 'model': 'Mustang', 'year': 1964}\n",
    "print(Car)"
   ]
  },
  {
   "cell_type": "code",
   "execution_count": null,
   "id": "bc821295",
   "metadata": {},
   "outputs": [],
   "source": []
  }
 ],
 "metadata": {
  "kernelspec": {
   "display_name": "Python [conda env:base] *",
   "language": "python",
   "name": "conda-base-py"
  },
  "language_info": {
   "codemirror_mode": {
    "name": "ipython",
    "version": 3
   },
   "file_extension": ".py",
   "mimetype": "text/x-python",
   "name": "python",
   "nbconvert_exporter": "python",
   "pygments_lexer": "ipython3",
   "version": "3.13.5"
  }
 },
 "nbformat": 4,
 "nbformat_minor": 5
}
