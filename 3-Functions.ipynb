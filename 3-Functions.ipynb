{
 "cells": [
  {
   "cell_type": "markdown",
   "id": "f03a1983",
   "metadata": {},
   "source": [
    "# Notebook 3 - Functions\n",
    "Functions are a crucial for writing code that is concise and reusable. They allow us to wrap multiple line sof code in a single, callable module - and pass variables into that module. We've already seen a few built in function, like `len()` and `.append()`. \n",
    "\n",
    "## 3.1 `def`, `return` and arguments\n",
    "We define a function using the `def` keyword, and use the `return` keyword define the output of the function. Every indented line after `:` is part of the function.\n",
    "\n",
    "Functions take in *arguments*, these are variables passed into the function definition which are used in the rest of the code. For example, the function below takes an argument `x` and returns the square of that input:\n",
    "\n",
    "```python\n",
    "def square_number(x):\n",
    "    return x*x\n",
    "```\n",
    "We can then call that function and use it in other parts of our code:\n",
    "\n",
    "```python\n",
    "y = 3\n",
    "y_squared = square_number(y)\n",
    "print(y_squared) # 9\n",
    "```\n",
    "\n",
    "💡 **Task:** Use a similar structure to write a function which reverses a string."
   ]
  },
  {
   "cell_type": "code",
   "execution_count": 3,
   "id": "61729da0",
   "metadata": {},
   "outputs": [
    {
     "ename": "SyntaxError",
     "evalue": "invalid syntax (211792974.py, line 4)",
     "output_type": "error",
     "traceback": [
      "\u001b[1;36m  Cell \u001b[1;32mIn[3], line 4\u001b[1;36m\u001b[0m\n\u001b[1;33m    return x*\u001b[0m\n\u001b[1;37m             ^\u001b[0m\n\u001b[1;31mSyntaxError\u001b[0m\u001b[1;31m:\u001b[0m invalid syntax\n"
     ]
    }
   ],
   "source": [
    "# Code Block 1\n",
    "y = 3\n",
    "def square_number(x): \n",
    "    return x*\n",
    "y_squared = square_number(y)\n",
    "print(y_squared) # 9"
   ]
  },
  {
   "cell_type": "code",
   "execution_count": 4,
   "id": "46673213-bab0-4943-bbd9-4427b4bf06ac",
   "metadata": {},
   "outputs": [
    {
     "name": "stdout",
     "output_type": "stream",
     "text": [
      "9\n"
     ]
    }
   ],
   "source": [
    "# Code Block 1\n",
    "y = 3\n",
    "def square_number(x): \n",
    "    return x*x  # Fixed: Added the second operand to the multiplication operator\n",
    "y_squared = square_number(y)\n",
    "print(y_squared) # 9"
   ]
  },
  {
   "cell_type": "markdown",
   "id": "1cf1ded6",
   "metadata": {},
   "source": [
    "Most of the time, we write functions to prevent us from rewriting the same blocks of code over and over again. \n",
    "\n",
    "The following block of code builds 3-letter abbreviation strings for two peptides - Oxytocin and Bradykinin:\n",
    "\n",
    "```python\n",
    "\n",
    "oxytocin = ['C', 'Y', 'I', 'Q', 'N', 'C', 'P', 'L', 'G']\n",
    "bradykinin = ['R', 'P', 'P', 'G', 'F', 'S', 'P', 'F', 'R']\n",
    "aa_abbr = {'C':'Cys', 'Y':'Tyr', 'I':'Ile', 'Q':'Gln', 'N':'Asn', 'P':'Pro', 'L':'Leu', 'G':'Gly','R':'Arg', 'F':'Phe', 'S':'Ser'}\n",
    "\n",
    "# build the 3-letter representation for oxytocin:\n",
    "oxytocin_3str = ''\n",
    "for aa in oxytocin:\n",
    "    abbr = aa_abbr[aa]\n",
    "    oxytocin_3str += abbr\n",
    "    oxytocin_3str += '-'\n",
    "# Add an CONH2 C-Terminal Group\n",
    "oxytocin_3str += 'CONH2'\n",
    "\n",
    "# build the 3-letter representation for bradykinin:\n",
    "bradykinin_3str = ''\n",
    "for aa in bradykinin:\n",
    "    abbr = aa_abbr[aa]\n",
    "    bradykinin_3str += abbr\n",
    "    bradykinin_3str += '-'\n",
    "bradykinin_3str += 'CONH2'\n",
    "\n",
    "print(bradykinin_3str)\n",
    "print(oxytocin_3str)\n",
    "\n",
    "```\n",
    "there are two large blocks in this code that acheive the same thing: cycling through amino acids in a peptide, looking up the abbreviations, and appending them to the output list. We can use functions to make this much cleaner!\n",
    "\n",
    "The function below takes a `peptide` as an argument and returns a string of the 3 letter abbreviations.\n",
    "\n",
    "```python\n",
    "def make_peptide_3str(peptide):\n",
    "\n",
    "    peptide_3str = ''\n",
    "    for aa in peptide:\n",
    "        abbr = aa_abbr[aa]\n",
    "        peptide_3str += abbr\n",
    "        peptide_3str += -\n",
    "    \n",
    "    peptide_3str += 'CONH2'\n",
    "\n",
    "    return peptide_3str\n",
    "```\n",
    "We can now call our `make_peptide_3str()` function on any arbritrary peptide:\n",
    "\n",
    "```python\n",
    "oxytocin = ['C', 'Y', 'I', 'Q', 'N', 'C', 'P', 'L', 'G']\n",
    "bradykinin = ['R', 'P', 'P', 'G', 'F', 'S', 'P', 'F', 'R']\n",
    "\n",
    "oxytocin_3str = make_peptide_3str(oxytocin)\n",
    "bradykinin_3str = make_peptide_3str(bradykinin)\n",
    "\n",
    "print(oxytocin_3str)\n",
    "print(bradykinin_3str)\n",
    "```\n",
    "\n",
    "💡 **Task:** Use a similar structure to the code above, along with the `aa_mass` dictionary in Code Block 2 to build a function called `calculate_peptide_mass` which takes in a `peptide` list as an argument and returns the molar mass of the peptide. Try your function with Oxytocin and Bradykinin."
   ]
  },
  {
   "cell_type": "code",
   "execution_count": null,
   "id": "587ad7d6",
   "metadata": {},
   "outputs": [],
   "source": [
    "# Code Block 2\n",
    "aa_mass = {'C':121.16, 'Y':181.19, 'I':131.17, 'Q':146.14, 'N':132.12, 'P':115.13, 'L':131.17, 'G':75.05,'R':174.20, 'F':165.19, 'S':105.09}\n",
    "        \n",
    "def Peptide_Mass: 0.0\n",
    "\n"
   ]
  },
  {
   "cell_type": "markdown",
   "id": "164269c2",
   "metadata": {},
   "source": [
    "## 3.2 Functions with default arguments\n",
    "\n",
    "Funcitons can have multiple arguments. The example below shows an updated version of the `make_peptide_3str` function which takes both `peptide` and `c_terminal` as arguments. This gives the function a little more utility and flexibility.\n",
    "\n",
    "Additionally, the `c_terminal` function is passed with a default argument of `CONH2`. We do this by putting `c_temrinal = \"CONH2\"` in the function definition. We will explore what this does in the next Code Block. \n",
    "\n",
    "\n",
    "```python\n",
    "\n",
    "def make_peptide_3str(peptide, c_terminal='CONH2'):\n",
    "    peptide_3str = ''\n",
    "    for aa in peptide:\n",
    "        abbr = aa_abbr[aa]\n",
    "        peptide_3str += abbr\n",
    "        peptide_3str += -\n",
    "    \n",
    "    peptide_3str += nc\n",
    "    return peptide_3str\n",
    "```\n",
    "Unless you specifcy otherwise, Python will assume you are passing arguments in the same order they appear in the function definition. For example, `make_peptide_3str(oxytocin, 'COOH')` is equivalent to both `make_peptide_3str(peptide=oxytocin, c_terminal='COOH')` and `make_peptide_3str(c_terminal='COOH', peptide=oxytocin)`.\n",
    "\n",
    "💡 **Task:** Copy the code above into Code Block 3, then try calling `make_peptide_3str` with the following arguments:\n",
    "* `make_peptide_3str(peptide=oxytocin, c_terminal=\"CONH2\")`\n",
    "* `make_peptide_3str(peptide=oxytocin, c_terminal=\"COOH\")`\n",
    "* `make_peptide_3str(peptide=oxtocin)`\n",
    "* `make_peptide_3str(c_terminal=\"COOH\")`\n",
    "\n",
    "What is the role of the default argument? What happens if you don't pass the default argument when calling the function?"
   ]
  },
  {
   "cell_type": "code",
   "execution_count": 7,
   "id": "536f63c5",
   "metadata": {},
   "outputs": [
    {
     "ename": "SyntaxError",
     "evalue": "invalid syntax (3778881050.py, line 7)",
     "output_type": "error",
     "traceback": [
      "\u001b[1;36m  Cell \u001b[1;32mIn[7], line 7\u001b[1;36m\u001b[0m\n\u001b[1;33m    peptide_3str += -\u001b[0m\n\u001b[1;37m                     ^\u001b[0m\n\u001b[1;31mSyntaxError\u001b[0m\u001b[1;31m:\u001b[0m invalid syntax\n"
     ]
    }
   ],
   "source": [
    "# Code Block 3\n",
    "def make_peptide_3str(peptide, c_terminal='CONH2'):\n",
    "    peptide_3str = ''\n",
    "    for aa in peptide:\n",
    "        abbr = aa_abbr[aa]\n",
    "        peptide_3str += abbr\n",
    "        peptide_3str += -\n",
    "    \n",
    "    peptide_3str += nc\n",
    "    return peptide_3str\n",
    "make_peptide_3str(peptide=oxytocin, c_terminal=\"CONH2\")\n",
    "make_peptide_3str(peptide=oxytocin, c_terminal=\"COOH\")\n",
    "make_peptide_3str(peptide=oxtocin)\n",
    "make_peptide_3str(c_terminal=\"COOH\")"
   ]
  },
  {
   "cell_type": "code",
   "execution_count": 10,
   "id": "832df7bd-cb20-4f29-828a-f1c3fafc8cc0",
   "metadata": {},
   "outputs": [],
   "source": [
    "# Code Block 3\n",
    "def make_peptide_3str(peptide, c_terminal='CONH2'):\n",
    "    peptide_3str = ''\n",
    "    for aa in peptide:\n",
    "        abbr = aa_abbr[aa]\n",
    "        peptide_3str += abbr\n",
    "        peptide_3str += '-'  # Fixed: Added quotes around the hyphen to make it a string\n",
    "    \n",
    "    # Remove the trailing hyphen if there is one\n",
    "    if peptide_3str.endswith('-'):\n",
    "        peptide_3str = peptide_3str[:-1]\n",
    "        \n",
    "    peptide_3str += c_terminal  # Fixed: Using the parameter name c_terminal instead of nc\n",
    "    return peptide_3str\n",
    "\n",
    "# Note: You'll need to define aa_abbr and oxytocin before running this code\n",
    "# Also, there's a typo in one of your function calls: \"oxtocin\" should be \"oxytocin\"\n",
    "# And the last call is missing the required \"peptide\" parameter"
   ]
  },
  {
   "cell_type": "markdown",
   "id": "747572b2",
   "metadata": {},
   "source": [
    "## 3.3 Functions with multiple returns \n",
    "\n",
    "We can design a function to give us different returns based on some conditional. The function below checks to see if a given amino acid is present in a given peptide. To acheive this, it uses two different `return` statements in the same function. \n",
    "\n",
    "```python\n",
    "\n",
    "def is_amino_acid_in_peptide(amino_acid='C', peptide=oxytocin):\n",
    "\n",
    "    if amino_acid in peptide:\n",
    "        return True\n",
    "    else:\n",
    "        return False\n",
    "```\n",
    "💡 **Task:** Use your `calculate_peptide_mass` function to build a new function which returns `True` if a given peptide has molar mass greater than 1000, otherwise returns `False`. How could you amend this to work for an arbritrary mass?"
   ]
  },
  {
   "cell_type": "code",
   "execution_count": 14,
   "id": "7656f33f",
   "metadata": {},
   "outputs": [],
   "source": [
    "# Code Block 3\n"
   ]
  },
  {
   "cell_type": "markdown",
   "id": "51518386",
   "metadata": {},
   "source": [
    "## 3.4 Documentation and `help()`\n",
    "\n",
    "Documentation is vital for helping to make our code more readable and reusable. We include documentation in to our functions in the form of a *docstring* by writing text inside triple quotes (i.e., `\"\"\"<text>\"\"\"`) after our function definition. This usualy informs the user about what the function does, what data-types the input should be, and what types to expect in the output. Below is an example for a Docstring for `is_amino_acid_in_peptide`:\n",
    "\n",
    "```python\n",
    "def is_amino_acid_in_peptide(amino_acid='C', peptide=oxytocin):\n",
    "    \"\"\"Checks whether a given `amino_acid` is found in a given `peptide`.\n",
    "\n",
    "    args:\n",
    "        amino_acid (str) : A single letter amino acids.\n",
    "        peptide (list[str]) : A list of single letter amino acids in a peptide. \n",
    "    returns:\n",
    "        Boolean : True if amino acid is in peptide else False. \n",
    "    \"\"\" \n",
    "    if amino_acid in peptide:\n",
    "        return True\n",
    "    else:\n",
    "        return False\n",
    "```\n",
    "In this example, we tell the user that the type ecpected for `peptide` is `list[str]` as it is a list of string elements. If it were a list of `float` numbers we would use `list[float]`. \n",
    "\n",
    "We can view the documentation for a function `function1` by clling `help(function1)`.\n",
    "\n",
    "💡 **Task:** Rewrite your `calculate_peptide_mass` function to include documentation, then use the `help()` function to view the documentation. "
   ]
  },
  {
   "cell_type": "code",
   "execution_count": 15,
   "id": "85985a23",
   "metadata": {},
   "outputs": [],
   "source": [
    "# Code block 4\n"
   ]
  },
  {
   "cell_type": "markdown",
   "id": "3d143522",
   "metadata": {},
   "source": [
    "## 3.5 Exercise 1: building peptides from DNA\n",
    "\n",
    "This exercise will pull together a few of the things we have covered already to build a function that takes in a sequence of nucleotides as an argument, and returns a 3-letter string formatted peptide as an output. \n",
    "\n",
    "To get us started, Code Block 5 contains a dictionary `dna_to_aa` which has DNA codon triplets as keys, and the amino acids they encode as values. The input to your function will be a string of nucelotides, e.g. \"GGGATACCGTAG\", and will always end with the \"TAG\" end codon.  \n",
    "\n",
    "The final funciton should work something like this:\n",
    "\n",
    "```python\n",
    "\n",
    "peptide_3str = peptide_from_dna(dna_sequence='GGGGTGGATTAG')\n",
    "\n",
    "print(peptide_3str) # -> Glu-Val-Asp\n",
    "```\n",
    "\n",
    "Think carefully about the different steps required in your function, and how you will address them. You might be able to reuse some functions from elsewhere in this notebook!\n",
    "\n",
    "💡 **Tip:** You can write multiple functions here. It's usually best to aim for a function to only do one thing at a time, so try to split the tasks across a few different functions!\n",
    "\n",
    "💡 **Extension:** This function will fail if the length of the input nucleotide is not divisible by three. Luckily, we have the `%` (mod) operator, which returns the remainder of a number when it is divided by another number. Hence, if `x=9` and `y=3` then `x % y` evaluates to `0`, while (x+1) % y evaluates to `1`. \n",
    "* Use the `%` operator to add a check in your function which prints `\"Check DNA sequence length!\"` if the length is not a mutiple of three.\n",
    "* What other checks could you put in to the function to ensure safe use?"
   ]
  },
  {
   "cell_type": "code",
   "execution_count": 12,
   "id": "3b0a897a",
   "metadata": {},
   "outputs": [
    {
     "ename": "SyntaxError",
     "evalue": "cannot assign to expression here. Maybe you meant '==' instead of '='? (3369336348.py, line 9)",
     "output_type": "error",
     "traceback": [
      "\u001b[1;36m  Cell \u001b[1;32mIn[12], line 9\u001b[1;36m\u001b[0m\n\u001b[1;33m    X % Y = 0\u001b[0m\n\u001b[1;37m    ^\u001b[0m\n\u001b[1;31mSyntaxError\u001b[0m\u001b[1;31m:\u001b[0m cannot assign to expression here. Maybe you meant '==' instead of '='?\n"
     ]
    }
   ],
   "source": [
    "# Code Block \n",
    "dna_to_aa = {'GGG':'G', 'GAG':'E', 'GAT':'D', 'GTG':'V', 'GCG':'A', 'AGA':'R', \n",
    "             'AGT':'S', 'AAA':'K', 'AAT':'N', 'ATA':'I', 'ACC':'T', 'TAT':'Y', \n",
    "             'TTG':'L', 'TGT':'C', 'TTT':'F', 'CCG':'P', 'CAG':'Q', 'ATG':'M', 'TAG':'End'}\n",
    "\n",
    "dna_sequence = 'TGTTATATACAGAATTGTCCGTTGGGGTAG'\n",
    "X = 9\n",
    "Y = 3\n",
    "X == Y = 0\n",
    "(x+1)%Y=1"
   ]
  },
  {
   "cell_type": "code",
   "execution_count": 13,
   "id": "f9f28982-9b21-4aec-afa5-6e0e3fc6e225",
   "metadata": {},
   "outputs": [
    {
     "name": "stdout",
     "output_type": "stream",
     "text": [
      "True\n",
      "True\n"
     ]
    }
   ],
   "source": [
    "# Code Block \n",
    "dna_to_aa = {'GGG':'G', 'GAG':'E', 'GAT':'D', 'GTG':'V', 'GCG':'A', 'AGA':'R', \n",
    "             'AGT':'S', 'AAA':'K', 'AAT':'N', 'ATA':'I', 'ACC':'T', 'TAT':'Y', \n",
    "             'TTG':'L', 'TGT':'C', 'TTT':'F', 'CCG':'P', 'CAG':'Q', 'ATG':'M', 'TAG':'End'}\n",
    "\n",
    "dna_sequence = 'TGTTATATACAGAATTGTCCGTTGGGGTAG'\n",
    "X = 9\n",
    "Y = 3\n",
    "# Using == for comparison instead of = for assignment\n",
    "print(X % Y == 0)  # Check if X modulo Y equals 0\n",
    "print((X+1)%Y == 1)  # Fixed capitalization of X and using == for comparison\n",
    "\n"
   ]
  },
  {
   "cell_type": "code",
   "execution_count": null,
   "id": "2d29ab3f",
   "metadata": {},
   "outputs": [],
   "source": []
  },
  {
   "cell_type": "markdown",
   "id": "f9b51412",
   "metadata": {},
   "source": []
  }
 ],
 "metadata": {
  "kernelspec": {
   "display_name": "Python [conda env:base] *",
   "language": "python",
   "name": "conda-base-py"
  },
  "language_info": {
   "codemirror_mode": {
    "name": "ipython",
    "version": 3
   },
   "file_extension": ".py",
   "mimetype": "text/x-python",
   "name": "python",
   "nbconvert_exporter": "python",
   "pygments_lexer": "ipython3",
   "version": "3.13.5"
  }
 },
 "nbformat": 4,
 "nbformat_minor": 5
}
