{
 "cells": [
  {
   "cell_type": "code",
   "execution_count": 1,
   "id": "41983d83-551e-4fc8-a2ee-b08918bd79d0",
   "metadata": {},
   "outputs": [],
   "source": [
    "import pandas as pd\n",
    "import numpy as np\n",
    "import matplotlib.pyplot as plt\n",
    "import sklearn"
   ]
  },
  {
   "cell_type": "code",
   "execution_count": 4,
   "id": "a54c0fc2-e6ed-4f55-885a-243acf3330d2",
   "metadata": {
    "scrolled": true
   },
   "outputs": [
    {
     "data": {
      "text/html": [
       "<div>\n",
       "<style scoped>\n",
       "    .dataframe tbody tr th:only-of-type {\n",
       "        vertical-align: middle;\n",
       "    }\n",
       "\n",
       "    .dataframe tbody tr th {\n",
       "        vertical-align: top;\n",
       "    }\n",
       "\n",
       "    .dataframe thead th {\n",
       "        text-align: right;\n",
       "    }\n",
       "</style>\n",
       "<table border=\"1\" class=\"dataframe\">\n",
       "  <thead>\n",
       "    <tr style=\"text-align: right;\">\n",
       "      <th></th>\n",
       "      <th>#Organism group</th>\n",
       "      <th>Strain</th>\n",
       "      <th>Isolate identifiers</th>\n",
       "      <th>Serovar</th>\n",
       "      <th>Isolate</th>\n",
       "      <th>Create date</th>\n",
       "      <th>Location</th>\n",
       "      <th>Isolation source</th>\n",
       "      <th>Isolation type</th>\n",
       "      <th>SNP cluster</th>\n",
       "      <th>Min-same</th>\n",
       "      <th>Min-diff</th>\n",
       "      <th>BioSample</th>\n",
       "      <th>Assembly</th>\n",
       "      <th>AMR genotypes</th>\n",
       "      <th>Computed types</th>\n",
       "    </tr>\n",
       "  </thead>\n",
       "  <tbody>\n",
       "    <tr>\n",
       "      <th>0</th>\n",
       "      <td>Salmonella enterica</td>\n",
       "      <td>SQ0227</td>\n",
       "      <td>\"93-6175B\",\"SQ0227\",\"SRS426868\"</td>\n",
       "      <td>enteritidis</td>\n",
       "      <td>PDT000000002.3</td>\n",
       "      <td>2014-01-04T17:03:07Z</td>\n",
       "      <td>USA: Western Region</td>\n",
       "      <td>Ocean</td>\n",
       "      <td>environmental/other</td>\n",
       "      <td>PDS000032687.2</td>\n",
       "      <td>0.0</td>\n",
       "      <td>NaN</td>\n",
       "      <td>SAMN02147118</td>\n",
       "      <td>NaN</td>\n",
       "      <td>ant(2'')-Ia=COMPLETE,aph(3')-Ia=COMPLETE,blaTE...</td>\n",
       "      <td>antigen_formula=9:g,m:-,serotype=Enteritidis</td>\n",
       "    </tr>\n",
       "    <tr>\n",
       "      <th>1</th>\n",
       "      <td>Salmonella enterica</td>\n",
       "      <td>SQ0228</td>\n",
       "      <td>\"93-2836A\",\"SQ0228\",\"SRS426867\"</td>\n",
       "      <td>enteritidis</td>\n",
       "      <td>PDT000000003.3</td>\n",
       "      <td>2014-01-04T17:03:07Z</td>\n",
       "      <td>USA: Western Region</td>\n",
       "      <td>Ocean</td>\n",
       "      <td>environmental/other</td>\n",
       "      <td>PDS000032687.2</td>\n",
       "      <td>0.0</td>\n",
       "      <td>NaN</td>\n",
       "      <td>SAMN02147119</td>\n",
       "      <td>NaN</td>\n",
       "      <td>mdsA=COMPLETE,mdsB=COMPLETE</td>\n",
       "      <td>antigen_formula=9:g,m:-,serotype=Enteritidis</td>\n",
       "    </tr>\n",
       "    <tr>\n",
       "      <th>2</th>\n",
       "      <td>Salmonella enterica</td>\n",
       "      <td>SQ0229</td>\n",
       "      <td>\"93-7741\",\"SQ0229\",\"SRS426869\"</td>\n",
       "      <td>enteritidis</td>\n",
       "      <td>PDT000000004.3</td>\n",
       "      <td>2014-01-04T17:03:07Z</td>\n",
       "      <td>USA: Western Region</td>\n",
       "      <td>Ocean</td>\n",
       "      <td>environmental/other</td>\n",
       "      <td>PDS000065776.23</td>\n",
       "      <td>0.0</td>\n",
       "      <td>25.0</td>\n",
       "      <td>SAMN02147120</td>\n",
       "      <td>NaN</td>\n",
       "      <td>mdsA=COMPLETE,mdsB=COMPLETE</td>\n",
       "      <td>antigen_formula=9:g,m:-,serotype=Enteritidis</td>\n",
       "    </tr>\n",
       "    <tr>\n",
       "      <th>3</th>\n",
       "      <td>Salmonella enterica</td>\n",
       "      <td>Gen_001782</td>\n",
       "      <td>\"Gen_001782\",\"SRS426891\"</td>\n",
       "      <td>Heidelberg</td>\n",
       "      <td>PDT000000005.4</td>\n",
       "      <td>2014-01-04T17:03:07Z</td>\n",
       "      <td>USA</td>\n",
       "      <td>food</td>\n",
       "      <td>environmental/other</td>\n",
       "      <td>PDS000150683.10</td>\n",
       "      <td>2.0</td>\n",
       "      <td>2.0</td>\n",
       "      <td>SAMN02147121</td>\n",
       "      <td>GCA_010121905.1</td>\n",
       "      <td>fosA7=COMPLETE,mdsA=COMPLETE,mdsB=COMPLETE</td>\n",
       "      <td>antigen_formula=4:r:1,2,serotype=Heidelberg</td>\n",
       "    </tr>\n",
       "    <tr>\n",
       "      <th>4</th>\n",
       "      <td>Salmonella enterica</td>\n",
       "      <td>Gen_001783</td>\n",
       "      <td>\"Gen_001783\",\"SRS426892\"</td>\n",
       "      <td>Heidelberg</td>\n",
       "      <td>PDT000000006.4</td>\n",
       "      <td>2014-01-04T17:03:07Z</td>\n",
       "      <td>USA</td>\n",
       "      <td>food</td>\n",
       "      <td>environmental/other</td>\n",
       "      <td>PDS000150683.10</td>\n",
       "      <td>2.0</td>\n",
       "      <td>17.0</td>\n",
       "      <td>SAMN02147122</td>\n",
       "      <td>GCA_010121865.1</td>\n",
       "      <td>blaCMY-2=COMPLETE,fosA7=COMPLETE,mdsA=COMPLETE...</td>\n",
       "      <td>antigen_formula=4:r:1,2,serotype=Heidelberg</td>\n",
       "    </tr>\n",
       "  </tbody>\n",
       "</table>\n",
       "</div>"
      ],
      "text/plain": [
       "       #Organism group      Strain              Isolate identifiers  \\\n",
       "0  Salmonella enterica      SQ0227  \"93-6175B\",\"SQ0227\",\"SRS426868\"   \n",
       "1  Salmonella enterica      SQ0228  \"93-2836A\",\"SQ0228\",\"SRS426867\"   \n",
       "2  Salmonella enterica      SQ0229   \"93-7741\",\"SQ0229\",\"SRS426869\"   \n",
       "3  Salmonella enterica  Gen_001782         \"Gen_001782\",\"SRS426891\"   \n",
       "4  Salmonella enterica  Gen_001783         \"Gen_001783\",\"SRS426892\"   \n",
       "\n",
       "       Serovar         Isolate           Create date             Location  \\\n",
       "0  enteritidis  PDT000000002.3  2014-01-04T17:03:07Z  USA: Western Region   \n",
       "1  enteritidis  PDT000000003.3  2014-01-04T17:03:07Z  USA: Western Region   \n",
       "2  enteritidis  PDT000000004.3  2014-01-04T17:03:07Z  USA: Western Region   \n",
       "3   Heidelberg  PDT000000005.4  2014-01-04T17:03:07Z                  USA   \n",
       "4   Heidelberg  PDT000000006.4  2014-01-04T17:03:07Z                  USA   \n",
       "\n",
       "  Isolation source       Isolation type      SNP cluster  Min-same  Min-diff  \\\n",
       "0            Ocean  environmental/other   PDS000032687.2       0.0       NaN   \n",
       "1            Ocean  environmental/other   PDS000032687.2       0.0       NaN   \n",
       "2            Ocean  environmental/other  PDS000065776.23       0.0      25.0   \n",
       "3             food  environmental/other  PDS000150683.10       2.0       2.0   \n",
       "4             food  environmental/other  PDS000150683.10       2.0      17.0   \n",
       "\n",
       "      BioSample         Assembly  \\\n",
       "0  SAMN02147118              NaN   \n",
       "1  SAMN02147119              NaN   \n",
       "2  SAMN02147120              NaN   \n",
       "3  SAMN02147121  GCA_010121905.1   \n",
       "4  SAMN02147122  GCA_010121865.1   \n",
       "\n",
       "                                       AMR genotypes  \\\n",
       "0  ant(2'')-Ia=COMPLETE,aph(3')-Ia=COMPLETE,blaTE...   \n",
       "1                        mdsA=COMPLETE,mdsB=COMPLETE   \n",
       "2                        mdsA=COMPLETE,mdsB=COMPLETE   \n",
       "3         fosA7=COMPLETE,mdsA=COMPLETE,mdsB=COMPLETE   \n",
       "4  blaCMY-2=COMPLETE,fosA7=COMPLETE,mdsA=COMPLETE...   \n",
       "\n",
       "                                 Computed types  \n",
       "0  antigen_formula=9:g,m:-,serotype=Enteritidis  \n",
       "1  antigen_formula=9:g,m:-,serotype=Enteritidis  \n",
       "2  antigen_formula=9:g,m:-,serotype=Enteritidis  \n",
       "3   antigen_formula=4:r:1,2,serotype=Heidelberg  \n",
       "4   antigen_formula=4:r:1,2,serotype=Heidelberg  "
      ]
     },
     "execution_count": 4,
     "metadata": {},
     "output_type": "execute_result"
    }
   ],
   "source": [
    "salmonella_df = pd.read_csv('Pathogen detection Salmonella enterica.csv')\n",
    "salmonella_df.head()"
   ]
  },
  {
   "cell_type": "code",
   "execution_count": 6,
   "id": "a0dd7216-593e-4182-a3bd-dcd703b16e7f",
   "metadata": {},
   "outputs": [
    {
     "data": {
      "text/plain": [
       "2472"
      ]
     },
     "execution_count": 6,
     "metadata": {},
     "output_type": "execute_result"
    }
   ],
   "source": [
    "# How many unique serovars?\n",
    "len(salmonella_df['Serovar'].unique())"
   ]
  },
  {
   "cell_type": "code",
   "execution_count": 5,
   "id": "87d49e7e-4165-4e64-8052-c80df7ddeb1a",
   "metadata": {},
   "outputs": [
    {
     "name": "stdout",
     "output_type": "stream",
     "text": [
      "['enteritidis' 'Heidelberg' 'Kentucky' ... 'I 39:y:1,2' 'I 1,4,[5],12:i:-'\n",
      " 'Salmonella enterica subsp. enterica serovar Lexington']\n"
     ]
    }
   ],
   "source": [
    "# Get lists of unique values for columns of interest\n",
    "serovars_list = salmonella_df['Serovar'].unique()\n",
    "print(serovars_list)"
   ]
  },
  {
   "cell_type": "code",
   "execution_count": null,
   "id": "f3d6cd1c-cce9-4769-b6ce-98edadf15e0b",
   "metadata": {},
   "outputs": [],
   "source": [
    "# How many unique serovars?\n",
    "len(salmonella_df['Serovar'].unique())"
   ]
  }
 ],
 "metadata": {
  "kernelspec": {
   "display_name": "Python [conda env:base] *",
   "language": "python",
   "name": "conda-base-py"
  },
  "language_info": {
   "codemirror_mode": {
    "name": "ipython",
    "version": 3
   },
   "file_extension": ".py",
   "mimetype": "text/x-python",
   "name": "python",
   "nbconvert_exporter": "python",
   "pygments_lexer": "ipython3",
   "version": "3.13.5"
  }
 },
 "nbformat": 4,
 "nbformat_minor": 5
}
