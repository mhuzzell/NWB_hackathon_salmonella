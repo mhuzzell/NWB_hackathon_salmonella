{
 "cells": [
  {
   "cell_type": "markdown",
   "id": "fa51022e-2233-4cf2-abd9-2381ea58f0e5",
   "metadata": {},
   "source": [
    "# Script for data cleaning and basic data-set exploration. \n",
    "This can form the beginning section of the final script."
   ]
  },
  {
   "cell_type": "code",
   "execution_count": 1,
   "id": "41983d83-551e-4fc8-a2ee-b08918bd79d0",
   "metadata": {},
   "outputs": [],
   "source": [
    "# Import packages\n",
    "import pandas as pd\n",
    "import numpy as np\n",
    "import matplotlib.pyplot as plt\n",
    "import sklearn"
   ]
  },
  {
   "cell_type": "code",
   "execution_count": 2,
   "id": "a54c0fc2-e6ed-4f55-885a-243acf3330d2",
   "metadata": {
    "scrolled": true
   },
   "outputs": [
    {
     "data": {
      "text/html": [
       "<div>\n",
       "<style scoped>\n",
       "    .dataframe tbody tr th:only-of-type {\n",
       "        vertical-align: middle;\n",
       "    }\n",
       "\n",
       "    .dataframe tbody tr th {\n",
       "        vertical-align: top;\n",
       "    }\n",
       "\n",
       "    .dataframe thead th {\n",
       "        text-align: right;\n",
       "    }\n",
       "</style>\n",
       "<table border=\"1\" class=\"dataframe\">\n",
       "  <thead>\n",
       "    <tr style=\"text-align: right;\">\n",
       "      <th></th>\n",
       "      <th>#Organism group</th>\n",
       "      <th>Strain</th>\n",
       "      <th>Isolate identifiers</th>\n",
       "      <th>Serovar</th>\n",
       "      <th>Isolate</th>\n",
       "      <th>Create date</th>\n",
       "      <th>Location</th>\n",
       "      <th>Isolation source</th>\n",
       "      <th>Isolation type</th>\n",
       "      <th>SNP cluster</th>\n",
       "      <th>Min-same</th>\n",
       "      <th>Min-diff</th>\n",
       "      <th>BioSample</th>\n",
       "      <th>Assembly</th>\n",
       "      <th>AMR genotypes</th>\n",
       "      <th>Computed types</th>\n",
       "    </tr>\n",
       "  </thead>\n",
       "  <tbody>\n",
       "    <tr>\n",
       "      <th>0</th>\n",
       "      <td>Salmonella enterica</td>\n",
       "      <td>SQ0227</td>\n",
       "      <td>\"93-6175B\",\"SQ0227\",\"SRS426868\"</td>\n",
       "      <td>enteritidis</td>\n",
       "      <td>PDT000000002.3</td>\n",
       "      <td>2014-01-04T17:03:07Z</td>\n",
       "      <td>USA: Western Region</td>\n",
       "      <td>Ocean</td>\n",
       "      <td>environmental/other</td>\n",
       "      <td>PDS000032687.2</td>\n",
       "      <td>0.0</td>\n",
       "      <td>NaN</td>\n",
       "      <td>SAMN02147118</td>\n",
       "      <td>NaN</td>\n",
       "      <td>ant(2'')-Ia=COMPLETE,aph(3')-Ia=COMPLETE,blaTE...</td>\n",
       "      <td>antigen_formula=9:g,m:-,serotype=Enteritidis</td>\n",
       "    </tr>\n",
       "    <tr>\n",
       "      <th>1</th>\n",
       "      <td>Salmonella enterica</td>\n",
       "      <td>SQ0228</td>\n",
       "      <td>\"93-2836A\",\"SQ0228\",\"SRS426867\"</td>\n",
       "      <td>enteritidis</td>\n",
       "      <td>PDT000000003.3</td>\n",
       "      <td>2014-01-04T17:03:07Z</td>\n",
       "      <td>USA: Western Region</td>\n",
       "      <td>Ocean</td>\n",
       "      <td>environmental/other</td>\n",
       "      <td>PDS000032687.2</td>\n",
       "      <td>0.0</td>\n",
       "      <td>NaN</td>\n",
       "      <td>SAMN02147119</td>\n",
       "      <td>NaN</td>\n",
       "      <td>mdsA=COMPLETE,mdsB=COMPLETE</td>\n",
       "      <td>antigen_formula=9:g,m:-,serotype=Enteritidis</td>\n",
       "    </tr>\n",
       "    <tr>\n",
       "      <th>2</th>\n",
       "      <td>Salmonella enterica</td>\n",
       "      <td>SQ0229</td>\n",
       "      <td>\"93-7741\",\"SQ0229\",\"SRS426869\"</td>\n",
       "      <td>enteritidis</td>\n",
       "      <td>PDT000000004.3</td>\n",
       "      <td>2014-01-04T17:03:07Z</td>\n",
       "      <td>USA: Western Region</td>\n",
       "      <td>Ocean</td>\n",
       "      <td>environmental/other</td>\n",
       "      <td>PDS000065776.23</td>\n",
       "      <td>0.0</td>\n",
       "      <td>25.0</td>\n",
       "      <td>SAMN02147120</td>\n",
       "      <td>NaN</td>\n",
       "      <td>mdsA=COMPLETE,mdsB=COMPLETE</td>\n",
       "      <td>antigen_formula=9:g,m:-,serotype=Enteritidis</td>\n",
       "    </tr>\n",
       "    <tr>\n",
       "      <th>3</th>\n",
       "      <td>Salmonella enterica</td>\n",
       "      <td>Gen_001782</td>\n",
       "      <td>\"Gen_001782\",\"SRS426891\"</td>\n",
       "      <td>Heidelberg</td>\n",
       "      <td>PDT000000005.4</td>\n",
       "      <td>2014-01-04T17:03:07Z</td>\n",
       "      <td>USA</td>\n",
       "      <td>food</td>\n",
       "      <td>environmental/other</td>\n",
       "      <td>PDS000150683.10</td>\n",
       "      <td>2.0</td>\n",
       "      <td>2.0</td>\n",
       "      <td>SAMN02147121</td>\n",
       "      <td>GCA_010121905.1</td>\n",
       "      <td>fosA7=COMPLETE,mdsA=COMPLETE,mdsB=COMPLETE</td>\n",
       "      <td>antigen_formula=4:r:1,2,serotype=Heidelberg</td>\n",
       "    </tr>\n",
       "    <tr>\n",
       "      <th>4</th>\n",
       "      <td>Salmonella enterica</td>\n",
       "      <td>Gen_001783</td>\n",
       "      <td>\"Gen_001783\",\"SRS426892\"</td>\n",
       "      <td>Heidelberg</td>\n",
       "      <td>PDT000000006.4</td>\n",
       "      <td>2014-01-04T17:03:07Z</td>\n",
       "      <td>USA</td>\n",
       "      <td>food</td>\n",
       "      <td>environmental/other</td>\n",
       "      <td>PDS000150683.10</td>\n",
       "      <td>2.0</td>\n",
       "      <td>17.0</td>\n",
       "      <td>SAMN02147122</td>\n",
       "      <td>GCA_010121865.1</td>\n",
       "      <td>blaCMY-2=COMPLETE,fosA7=COMPLETE,mdsA=COMPLETE...</td>\n",
       "      <td>antigen_formula=4:r:1,2,serotype=Heidelberg</td>\n",
       "    </tr>\n",
       "  </tbody>\n",
       "</table>\n",
       "</div>"
      ],
      "text/plain": [
       "       #Organism group      Strain              Isolate identifiers  \\\n",
       "0  Salmonella enterica      SQ0227  \"93-6175B\",\"SQ0227\",\"SRS426868\"   \n",
       "1  Salmonella enterica      SQ0228  \"93-2836A\",\"SQ0228\",\"SRS426867\"   \n",
       "2  Salmonella enterica      SQ0229   \"93-7741\",\"SQ0229\",\"SRS426869\"   \n",
       "3  Salmonella enterica  Gen_001782         \"Gen_001782\",\"SRS426891\"   \n",
       "4  Salmonella enterica  Gen_001783         \"Gen_001783\",\"SRS426892\"   \n",
       "\n",
       "       Serovar         Isolate           Create date             Location  \\\n",
       "0  enteritidis  PDT000000002.3  2014-01-04T17:03:07Z  USA: Western Region   \n",
       "1  enteritidis  PDT000000003.3  2014-01-04T17:03:07Z  USA: Western Region   \n",
       "2  enteritidis  PDT000000004.3  2014-01-04T17:03:07Z  USA: Western Region   \n",
       "3   Heidelberg  PDT000000005.4  2014-01-04T17:03:07Z                  USA   \n",
       "4   Heidelberg  PDT000000006.4  2014-01-04T17:03:07Z                  USA   \n",
       "\n",
       "  Isolation source       Isolation type      SNP cluster  Min-same  Min-diff  \\\n",
       "0            Ocean  environmental/other   PDS000032687.2       0.0       NaN   \n",
       "1            Ocean  environmental/other   PDS000032687.2       0.0       NaN   \n",
       "2            Ocean  environmental/other  PDS000065776.23       0.0      25.0   \n",
       "3             food  environmental/other  PDS000150683.10       2.0       2.0   \n",
       "4             food  environmental/other  PDS000150683.10       2.0      17.0   \n",
       "\n",
       "      BioSample         Assembly  \\\n",
       "0  SAMN02147118              NaN   \n",
       "1  SAMN02147119              NaN   \n",
       "2  SAMN02147120              NaN   \n",
       "3  SAMN02147121  GCA_010121905.1   \n",
       "4  SAMN02147122  GCA_010121865.1   \n",
       "\n",
       "                                       AMR genotypes  \\\n",
       "0  ant(2'')-Ia=COMPLETE,aph(3')-Ia=COMPLETE,blaTE...   \n",
       "1                        mdsA=COMPLETE,mdsB=COMPLETE   \n",
       "2                        mdsA=COMPLETE,mdsB=COMPLETE   \n",
       "3         fosA7=COMPLETE,mdsA=COMPLETE,mdsB=COMPLETE   \n",
       "4  blaCMY-2=COMPLETE,fosA7=COMPLETE,mdsA=COMPLETE...   \n",
       "\n",
       "                                 Computed types  \n",
       "0  antigen_formula=9:g,m:-,serotype=Enteritidis  \n",
       "1  antigen_formula=9:g,m:-,serotype=Enteritidis  \n",
       "2  antigen_formula=9:g,m:-,serotype=Enteritidis  \n",
       "3   antigen_formula=4:r:1,2,serotype=Heidelberg  \n",
       "4   antigen_formula=4:r:1,2,serotype=Heidelberg  "
      ]
     },
     "execution_count": 2,
     "metadata": {},
     "output_type": "execute_result"
    }
   ],
   "source": [
    "salmonella_orig = pd.read_csv('Pathogen detection Salmonella enterica.csv') #load the data\n",
    "salmonella_df = salmonella_orig.copy() #Make a copy to modify\n",
    "salmonella_df.head()"
   ]
  },
  {
   "cell_type": "code",
   "execution_count": 3,
   "id": "5823a686-2fd0-4485-8569-0478a3180439",
   "metadata": {},
   "outputs": [
    {
     "name": "stdout",
     "output_type": "stream",
     "text": [
      "#Organism group             1\n",
      "Strain                 515229\n",
      "Isolate identifiers    558565\n",
      "Serovar                  2471\n",
      "Isolate                558819\n",
      "Create date            182136\n",
      "Location                 1280\n",
      "Isolation source         8004\n",
      "Isolation type              2\n",
      "SNP cluster             25025\n",
      "Min-same                   80\n",
      "Min-diff                   99\n",
      "BioSample              558734\n",
      "Assembly               468778\n",
      "AMR genotypes           19095\n",
      "Computed types           2148\n",
      "dtype: int64\n"
     ]
    }
   ],
   "source": [
    "# Check number of variables in the original set\n",
    "unique_counts_orig = salmonella_orig.nunique()\n",
    "print(unique_counts_orig)"
   ]
  },
  {
   "cell_type": "code",
   "execution_count": 4,
   "id": "3ec03485-4074-48d0-8e79-b93fd3d369ed",
   "metadata": {},
   "outputs": [],
   "source": [
    "# Standardise capitalisation to remove duplicates from the serovar and isolation sources columns\n",
    "salmonella_df['Serovar'] = salmonella_df['Serovar'].str.capitalize()\n",
    "salmonella_df['Isolation source'] = salmonella_df['Isolation source'].str.capitalize()"
   ]
  },
  {
   "cell_type": "code",
   "execution_count": 5,
   "id": "ef761a1b-3bab-4510-ba2a-fd83a4f78fc8",
   "metadata": {},
   "outputs": [
    {
     "name": "stdout",
     "output_type": "stream",
     "text": [
      "#Organism group             1\n",
      "Strain                 515229\n",
      "Isolate identifiers    558565\n",
      "Serovar                  2445\n",
      "Isolate                558819\n",
      "Create date            182136\n",
      "Location                 1280\n",
      "Isolation source         7437\n",
      "Isolation type              2\n",
      "SNP cluster             25025\n",
      "Min-same                   80\n",
      "Min-diff                   99\n",
      "BioSample              558734\n",
      "Assembly               468778\n",
      "AMR genotypes           19095\n",
      "Computed types           2148\n",
      "dtype: int64\n"
     ]
    }
   ],
   "source": [
    "# Check number of variables in the cleaned set\n",
    "unique_counts = salmonella_df.nunique()\n",
    "print(unique_counts)"
   ]
  },
  {
   "cell_type": "markdown",
   "id": "0cc7f4fb-9423-43a9-bf6c-833bb25e5710",
   "metadata": {},
   "source": [
    "# Isolation Sources\n",
    "This section explores the 'Isolation Sources' column, which includes a lot of singletons and semantic duplicates."
   ]
  },
  {
   "cell_type": "code",
   "execution_count": 6,
   "id": "3f61e215-e049-46aa-9640-d7d314f77d4a",
   "metadata": {},
   "outputs": [
    {
     "data": {
      "text/plain": [
       "Isolation source\n",
       "Human                                                         71800\n",
       "Stool                                                         28915\n",
       "Raw intact chicken                                             9135\n",
       "Feces                                                          8267\n",
       "Product-raw-ground, comminuted or otherwise nonintact-pork     6236\n",
       "                                                              ...  \n",
       "Intestine (lama pacos)                                            1\n",
       "Fecal (equus ferus caballus)                                      1\n",
       "Fecal (gallus gallus domesticus)                                  1\n",
       "Dried black fungus whole                                          1\n",
       "Veggie snack                                                      1\n",
       "Name: count, Length: 7437, dtype: int64"
      ]
     },
     "execution_count": 6,
     "metadata": {},
     "output_type": "execute_result"
    }
   ],
   "source": [
    "# Get numbers for each unique value in the isolation sources column\n",
    "salmonella_df['Isolation source'].value_counts()"
   ]
  },
  {
   "cell_type": "code",
   "execution_count": 8,
   "id": "1e2a71c8-7826-4e9b-ae1e-60278dabe717",
   "metadata": {},
   "outputs": [
    {
     "data": {
      "text/plain": [
       "Isolation source\n",
       "Human                                                         71800\n",
       "Stool                                                         28915\n",
       "Raw intact chicken                                             9135\n",
       "Feces                                                          8267\n",
       "Product-raw-ground, comminuted or otherwise nonintact-pork     6236\n",
       "Comminuted chicken                                             5659\n",
       "Blood                                                          5579\n",
       "Food                                                           4456\n",
       "Ground turkey                                                  4040\n",
       "Comminuted beef                                                4015\n",
       "Chicken                                                        3291\n",
       "Chicken carcass                                                3190\n",
       "Human, stool                                                   3180\n",
       "Chicken breast                                                 3049\n",
       "Chicken - young chicken carcass rinse (pre-evisceration)       2964\n",
       "Urine                                                          2436\n",
       "Human, blood culture                                           2374\n",
       "Water                                                          2276\n",
       "Animal                                                         2114\n",
       "Comminuted turkey                                              2075\n",
       "Animal-swine-market swine                                      2044\n",
       "Environmental swab                                             1597\n",
       "Animal-chicken-young chicken                                   1524\n",
       "Not collected                                                  1349\n",
       "Environmental                                                  1344\n",
       "Name: count, dtype: int64"
      ]
     },
     "execution_count": 8,
     "metadata": {},
     "output_type": "execute_result"
    }
   ],
   "source": [
    "# Look at the high numbers\n",
    "isolation_sources = salmonella_df['Isolation source'].value_counts()\n",
    "isolation_sources.head(25)"
   ]
  },
  {
   "cell_type": "code",
   "execution_count": 9,
   "id": "7ad48bca-b320-4978-baed-7bd4ece00337",
   "metadata": {},
   "outputs": [
    {
     "name": "stdout",
     "output_type": "stream",
     "text": [
      "Isolation source\n",
      "Liver pool (gallus gallus domesticus)    1\n",
      "Soppressata                              1\n",
      "Red billed gull                          1\n",
      "Intestine (cavia porcellus)              1\n",
      "Baby frozen whole cleaned octopus        1\n",
      "                                        ..\n",
      "Intestine (lama pacos)                   1\n",
      "Fecal (equus ferus caballus)             1\n",
      "Fecal (gallus gallus domesticus)         1\n",
      "Dried black fungus whole                 1\n",
      "Veggie snack                             1\n",
      "Name: count, Length: 3875, dtype: int64\n"
     ]
    }
   ],
   "source": [
    "# Look at the singletons -- omg it's half the set!\n",
    "print(isolation_sources[isolation_sources == 1])"
   ]
  },
  {
   "cell_type": "code",
   "execution_count": 10,
   "id": "fce162d5-8a42-403a-a850-015f922032e4",
   "metadata": {},
   "outputs": [
    {
     "name": "stdout",
     "output_type": "stream",
     "text": [
      "Isolation source\n",
      "Human                                                         71800\n",
      "Stool                                                         28915\n",
      "Raw intact chicken                                             9135\n",
      "Feces                                                          8267\n",
      "Product-raw-ground, comminuted or otherwise nonintact-pork     6236\n",
      "                                                              ...  \n",
      "Oral swab                                                         2\n",
      "Duck bed liner                                                    2\n",
      "Frozen salted cobia                                               2\n",
      "Frozen cooked salted duck egg yolk                                2\n",
      "Bovine meat bone meal                                             2\n",
      "Name: count, Length: 3562, dtype: int64\n"
     ]
    }
   ],
   "source": [
    "# Then the other half:\n",
    "print(isolation_sources[isolation_sources > 1])"
   ]
  },
  {
   "cell_type": "code",
   "execution_count": 16,
   "id": "69c1f110-bcf5-455b-8b74-01f7181d2472",
   "metadata": {},
   "outputs": [
    {
     "data": {
      "image/png": "[encoded data removed]",
      "text/plain": [
       "<Figure size 1000x600 with 1 Axes>"
      ]
     },
     "metadata": {},
     "output_type": "display_data"
    }
   ],
   "source": [
    "# Histogram to see the distribution of sources\n",
    "salmonella_df['Isolation source'].hist(bins=10, figsize=(10, 6))\n",
    "plt.title('Distribution of Isolation Sources Values')\n",
    "plt.xlabel('Source')\n",
    "plt.ylabel('Count')\n",
    "plt.grid(False)  # Optional: removes grid lines\n",
    "plt.show()\n"
   ]
  }
 ],
 "metadata": {
  "kernelspec": {
   "display_name": "Python [conda env:base] *",
   "language": "python",
   "name": "conda-base-py"
  },
  "language_info": {
   "codemirror_mode": {
    "name": "ipython",
    "version": 3
   },
   "file_extension": ".py",
   "mimetype": "text/x-python",
   "name": "python",
   "nbconvert_exporter": "python",
   "pygments_lexer": "ipython3",
   "version": "3.13.5"
  }
 },
 "nbformat": 4,
 "nbformat_minor": 5
}
